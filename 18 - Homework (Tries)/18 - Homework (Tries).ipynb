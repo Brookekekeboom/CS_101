{
 "cells": [
  {
   "cell_type": "markdown",
   "metadata": {},
   "source": [
    "Before you turn this problem in, make sure everything runs as expected. First, **restart the kernel** (in the menubar, select Kernel$\\rightarrow$Restart) and then **run all cells** (in the menubar, select Cell$\\rightarrow$Run All).\n",
    "\n",
    "Make sure you fill in any place that says `YOUR CODE HERE` or \"YOUR ANSWER HERE\", as well as your name and collaborators below:"
   ]
  },
  {
   "cell_type": "code",
   "execution_count": null,
   "metadata": {},
   "outputs": [],
   "source": [
    "NAME = \"\"\n",
    "COLLABORATORS = \"\""
   ]
  },
  {
   "cell_type": "markdown",
   "metadata": {},
   "source": [
    "---"
   ]
  },
  {
   "cell_type": "markdown",
   "metadata": {
    "deletable": false,
    "editable": false,
    "nbgrader": {
     "checksum": "49753500af1575aa815dbd7b6961ba97",
     "grade": false,
     "grade_id": "cell-baa4e9eb2cc0c93f",
     "locked": true,
     "schema_version": 1,
     "solution": false
    }
   },
   "source": [
    "# Homework 18\n",
    "COMPSCI 101 spring 2019 Session 4, Duke Kunshan University\n",
    "\n",
    "Due: **April 12<sup>th</sup> 2019, 5 pm**"
   ]
  },
  {
   "cell_type": "markdown",
   "metadata": {},
   "source": [
    "# Trie\n",
    "\n",
    "A `trie` is a kind of search tree. All the descendants of a node have a **common prefix** of the string associated with that node, and the root is associated with the empty string.\n",
    "\n",
    "The `trie` below represents the following names: 'John', 'Johnny', 'Joe', 'Jane', 'Jack'. Notice that 'John' and 'Johnny' share a common prefix: 'John'. 'John', 'Johnny', and 'Joe' share a common prefix: 'Jo' and all the names share 'J' as a common prefix. This allows us to efficiently store these names.\n",
    "\n",
    "<img src=\"trie0.jpg\" width=\"150\">\n",
    "\n",
    "This kind of a data structure will be helpful for checking to see if a word is in a dictionary. It might also, given a prefix, be used to generate a list of words that complete that prefix."
   ]
  },
  {
   "cell_type": "markdown",
   "metadata": {
    "deletable": false,
    "editable": false,
    "nbgrader": {
     "checksum": "b87190ed467ac7aa8301c6a2dea469b7",
     "grade": false,
     "grade_id": "cell-3d6ef25eb3610afa",
     "locked": true,
     "schema_version": 1,
     "solution": false
    }
   },
   "source": [
    "# Problem 1\n",
    "\n",
    "Implement the `trie_node` class. This should include a single-character string `val`, a dictionary `children`, and a boolean value `is_complete` that is `True` when the node is the last character in a valid word."
   ]
  },
  {
   "cell_type": "code",
   "execution_count": 3,
   "metadata": {
    "deletable": false,
    "nbgrader": {
     "checksum": "127911b5cc0e22c37534f3bda82c4d4b",
     "grade": false,
     "grade_id": "cell-46c55fb5434e1162",
     "locked": false,
     "schema_version": 1,
     "solution": true
    }
   },
   "outputs": [],
   "source": [
    "class trie_node(object):\n",
    "    def __init__(self, val):\n",
    "        self.val=val\n",
    "        self.children={}\n",
    "        self.is_complete=False"
   ]
  },
  {
   "cell_type": "code",
   "execution_count": 4,
   "metadata": {},
   "outputs": [
    {
     "data": {
      "text/plain": [
       "False"
      ]
     },
     "execution_count": 4,
     "metadata": {},
     "output_type": "execute_result"
    }
   ],
   "source": [
    "a=trie_node('a')\n",
    "b=trie_node('b')\n",
    "a.children['b']=b\n",
    "a.children\n",
    "a.is_complete"
   ]
  },
  {
   "cell_type": "code",
   "execution_count": 5,
   "metadata": {
    "deletable": false,
    "editable": false,
    "nbgrader": {
     "checksum": "1508b71c8dd8e9828a2fbdbf34d84717",
     "grade": true,
     "grade_id": "cell-b1b12dbb4976108d",
     "locked": true,
     "points": 0.5,
     "schema_version": 1,
     "solution": false
    }
   },
   "outputs": [],
   "source": [
    "root = trie_node('')\n",
    "root.children['m'] = trie_node('m')\n",
    "root.children['n'] = trie_node('n')\n",
    "\n",
    "assert root.val == ''\n",
    "assert root.children['m'].val == 'm'\n",
    "assert root.children['n'].val == 'n'\n",
    "assert len(root.children) == 2"
   ]
  },
  {
   "cell_type": "markdown",
   "metadata": {
    "deletable": false,
    "editable": false,
    "nbgrader": {
     "checksum": "0d236aa3213147f2208097098b784f5e",
     "grade": false,
     "grade_id": "cell-dfd271f868973ff9",
     "locked": true,
     "schema_version": 1,
     "solution": false
    }
   },
   "source": [
    "# Problem 2\n",
    "\n",
    "Implement the `trie` class. This should include a single `root` trie_node.\n",
    "\n",
    "You must implement the following methods:\n",
    "\n",
    "`find`: takes a string `word` as input and returns `True` if `word` is in the `trie` and `False` otherwise.\n",
    "\n",
    "`insert`: takes a string `word` as input and inserts `word` into the `trie`.\n",
    "\n",
    "`starts_with`: takes a string `prefix` as input and returns a list of all strings in the `trie` that have `prefix` as a prefix."
   ]
  },
  {
   "cell_type": "code",
   "execution_count": 24,
   "metadata": {
    "deletable": false,
    "nbgrader": {
     "checksum": "ca2902ded10727a7e3c52ab8412c6dd7",
     "grade": false,
     "grade_id": "cell-26254032e02425bf",
     "locked": false,
     "schema_version": 1,
     "solution": true
    }
   },
   "outputs": [],
   "source": [
    "class trie(object):\n",
    "    def __init__(self):\n",
    "        self.root = trie_node('')\n",
    "        \n",
    "    def __str__(self):\n",
    "        result = ''\n",
    "        q = [self.root]\n",
    "        \n",
    "        while len(q) > 0:\n",
    "            node = q[0]\n",
    "            q = q[1:]\n",
    "            \n",
    "            result += node.val + ' '\n",
    "            \n",
    "            if len(node.children) > 0:\n",
    "                for v in node.children.values():\n",
    "                    q.append(v)\n",
    "        \n",
    "        return result\n",
    "\n",
    "    def insert(self, word):\n",
    "        index=0\n",
    "        parent=self.root\n",
    "        while index<len(word):\n",
    "            newT=trie_node(word[index])\n",
    "            contents=parent.children.keys()\n",
    "            if newT.val in contents:\n",
    "                parent=parent.children[word[index]]\n",
    "                index+=1\n",
    "                continue\n",
    "            else:\n",
    "                parent.children[word[index]]=newT\n",
    "                parent=parent.children[word[index]]\n",
    "                index+=1\n",
    "                continue\n",
    "        parent.is_complete=True\n",
    "                  \n",
    "    def find(self, word):\n",
    "        \n",
    "        def helper(word,index,parent):\n",
    "            if index==len(word):\n",
    "                if parent.is_complete==True:\n",
    "                    return True\n",
    "                else:\n",
    "                    return False\n",
    "            else: \n",
    "                if word[index] not in parent.children:\n",
    "                    return False\n",
    "                else:\n",
    "                    return helper(word,index+1,parent.children[word[index]])\n",
    "            \n",
    "        return helper(word,0,self.root)\n",
    "        \n",
    "    def starts_with(self,prefix):\n",
    "        R=[[self.root]]\n",
    "        store=R[:]\n",
    "        R=[]\n",
    "        done=[]\n",
    "        while store!=[]:\n",
    "            for i in store:\n",
    "                if i[-1].is_complete==True:\n",
    "                    done.append(i)\n",
    "                if i[-1].children!={}:\n",
    "                    for j in i[-1].children.values():\n",
    "                        R.append(i+[j])\n",
    "            store=R[:]\n",
    "            R=[]\n",
    "        result=[]\n",
    "        for List in done:\n",
    "            for i in range(len(List)):\n",
    "                List[i]=List[i].val\n",
    "            List=''.join(List)\n",
    "            if List.startswith(prefix)==True:\n",
    "                result.append(List)\n",
    "        if prefix in result:\n",
    "            result.remove(prefix)\n",
    "        return result\n"
   ]
  },
  {
   "cell_type": "markdown",
   "metadata": {
    "deletable": false,
    "editable": false,
    "nbgrader": {
     "checksum": "011b8f253a218e8be5c3cc6f3ec8ba1a",
     "grade": false,
     "grade_id": "cell-05a6cfaa8faa9666",
     "locked": true,
     "schema_version": 1,
     "solution": false
    }
   },
   "source": [
    "## Test Case 1: Insert"
   ]
  },
  {
   "cell_type": "code",
   "execution_count": 13,
   "metadata": {
    "deletable": false,
    "editable": false,
    "nbgrader": {
     "checksum": "a7b79b53fd7589850f59c1f965099740",
     "grade": true,
     "grade_id": "cell-68689597d1269994",
     "locked": true,
     "points": 0.5,
     "schema_version": 1,
     "solution": false
    }
   },
   "outputs": [],
   "source": [
    "t = trie()\n",
    "\n",
    "t.insert('John')\n",
    "t.insert('Johnny')\n",
    "t.insert('Joe')\n",
    "t.insert('Jane')\n",
    "t.insert('Jack')\n",
    "\n",
    "assert str(t).strip() == 'J o a h e n c n e k n y'"
   ]
  },
  {
   "cell_type": "markdown",
   "metadata": {
    "deletable": false,
    "editable": false,
    "nbgrader": {
     "checksum": "27ca7eef3f6f4442cee87f28ccd1add9",
     "grade": false,
     "grade_id": "cell-09239f2bf3c9e243",
     "locked": true,
     "schema_version": 1,
     "solution": false
    }
   },
   "source": [
    "## Test Case 2: Find"
   ]
  },
  {
   "cell_type": "code",
   "execution_count": 14,
   "metadata": {
    "deletable": false,
    "editable": false,
    "nbgrader": {
     "checksum": "4b92c56c4b317adc620ab378f0a00fe3",
     "grade": true,
     "grade_id": "cell-6ff65e72731d281c",
     "locked": true,
     "points": 0.5,
     "schema_version": 1,
     "solution": false
    }
   },
   "outputs": [],
   "source": [
    "t = trie()\n",
    "\n",
    "J = trie_node('J')\n",
    "o = trie_node('o')\n",
    "h = trie_node('h')\n",
    "n1 = trie_node('n')\n",
    "n1.is_complete = True \n",
    "n2 = trie_node('n')\n",
    "y = trie_node('y')\n",
    "y.is_complete = True\n",
    "a = trie_node('a')\n",
    "n3 = trie_node('n')\n",
    "e = trie_node('e')\n",
    "e.is_complete = True\n",
    "\n",
    "t.root.children['J'] = J\n",
    "J.children['o'] = o\n",
    "J.children['a'] = a\n",
    "o.children['h'] = h\n",
    "h.children['n'] = n1\n",
    "n1.children['n'] = n2\n",
    "n2.children['y'] = y\n",
    "a.children['n'] = n3\n",
    "n3.children['e'] = e\n",
    "\n",
    "assert t.find('John') == True\n",
    "assert t.find('Johnn') == False\n",
    "assert t.find('Johnny') == True\n",
    "assert t.find('Jane') == True\n",
    "assert t.find('Janey') == False"
   ]
  },
  {
   "cell_type": "markdown",
   "metadata": {
    "deletable": false,
    "editable": false,
    "nbgrader": {
     "checksum": "856461ca363abe64a2bc4f25a1920838",
     "grade": false,
     "grade_id": "cell-9c35a0ed407ade56",
     "locked": true,
     "schema_version": 1,
     "solution": false
    }
   },
   "source": [
    "## Test Case 3: Starts With"
   ]
  },
  {
   "cell_type": "code",
   "execution_count": 25,
   "metadata": {
    "deletable": false,
    "editable": false,
    "nbgrader": {
     "checksum": "70699d79d38a22d6035dabf1b781bfee",
     "grade": true,
     "grade_id": "cell-b920d7b03d3b969c",
     "locked": true,
     "points": 0.5,
     "schema_version": 1,
     "solution": false
    }
   },
   "outputs": [],
   "source": [
    "dictionary = trie()\n",
    "\n",
    "file = open('wordlist.txt', 'r')\n",
    "\n",
    "for word in file:\n",
    "    dictionary.insert(word.strip())\n",
    "\n",
    "assert set(dictionary.starts_with('abac')) == set(['abaca', 'abacist', 'aback', 'abactinal', 'abacus'])\n",
    "assert set(dictionary.starts_with('chin')) == set(['chin-up', 'china', 'chinaberry', 'chinaman', 'chinaware', 'chincapin', 'chinch', 'chincherinchee', 'chinchilla', 'chinchillidae', 'chine', 'chinese', 'chink', 'chinked', 'chinking', 'chinks', 'chinless', 'chino', 'chinoiserie', 'chinoises', 'chinook', 'chinookan', 'chinos', 'chintz'])\n",
    "assert set(dictionary.starts_with('xenop')) == set(['xenophobia', 'xenophobic', 'xenopodidae', 'xenopus'])"
   ]
  },
  {
   "cell_type": "code",
   "execution_count": null,
   "metadata": {},
   "outputs": [],
   "source": []
  }
 ],
 "metadata": {
  "kernelspec": {
   "display_name": "Python 3",
   "language": "python",
   "name": "python3"
  },
  "language_info": {
   "codemirror_mode": {
    "name": "ipython",
    "version": 3
   },
   "file_extension": ".py",
   "mimetype": "text/x-python",
   "name": "python",
   "nbconvert_exporter": "python",
   "pygments_lexer": "ipython3",
   "version": "3.6.5"
  }
 },
 "nbformat": 4,
 "nbformat_minor": 2
}
