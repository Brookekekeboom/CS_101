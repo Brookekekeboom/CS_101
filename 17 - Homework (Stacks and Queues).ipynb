{
 "cells": [
  {
   "cell_type": "markdown",
   "metadata": {
    "deletable": false,
    "editable": false,
    "nbgrader": {
     "checksum": "3420316ac2ae7e23f7f5d0d8a2651b2a",
     "grade": false,
     "grade_id": "cell-baa4e9eb2cc0c93f",
     "locked": true,
     "schema_version": 1,
     "solution": false
    }
   },
   "source": [
    "# Homework 17\n",
    "COMPSCI 101 spring 2019 Session 4, Duke Kunshan University\n",
    "\n",
    "Due: **April 11<sup>th</sup> 2019, 5 pm**"
   ]
  },
  {
   "cell_type": "markdown",
   "metadata": {
    "deletable": false,
    "editable": false,
    "nbgrader": {
     "checksum": "b5c79cd21fcaefc8c8ef34e5c5ded186",
     "grade": false,
     "grade_id": "cell-3d6ef25eb3610afa",
     "locked": true,
     "schema_version": 1,
     "solution": false
    }
   },
   "source": [
    "# Problem 1\n",
    "\n",
    "Implement the `stack` class using linked lists. This will be more efficient for pushing and popping than a plain Python list. You should implement the following methods:\n",
    "\n",
    "`__init__`: create a new `stack` with no elements.\n",
    "\n",
    "`pop`: return the element that was inputted last and remove the element from the `stack`.\n",
    "\n",
    "`peek`: return the element that was inputted last.\n",
    "\n",
    "`push`: insert a new element at the end of the `stack`.\n",
    "\n",
    "`__str__`: returns a string representation of the `stack`."
   ]
  },
  {
   "cell_type": "code",
   "execution_count": 45,
   "metadata": {
    "deletable": false,
    "nbgrader": {
     "checksum": "7ee29b31c91bb711598fd49189b2872c",
     "grade": false,
     "grade_id": "cell-46c55fb5434e1162",
     "locked": false,
     "schema_version": 1,
     "solution": true
    }
   },
   "outputs": [],
   "source": [
    "class node(object):\n",
    "    def __init__(self,value):\n",
    "        self.value=value\n",
    "        self.next=None\n",
    "\n",
    "class stack():\n",
    "    \n",
    "    def __init__(self):\n",
    "        self.head=None\n",
    "        self.tail=None\n",
    "    \n",
    "    def pop(self):\n",
    "        if self.head==self.tail and self.head!=None: # len==1\n",
    "            store=self.tail\n",
    "            self.tail=None\n",
    "            self.head=None\n",
    "            return store.value\n",
    "        \n",
    "        if self.head!=self.tail:    # len>1\n",
    "            current_N=self.head\n",
    "            previous_N=None\n",
    "            store=self.tail\n",
    "            while current_N.next!=None:  # current_N 在 tail的位置\n",
    "                previous_N=current_N\n",
    "                current_N=current_N.next\n",
    "            previous_N.next=None\n",
    "            self.tail=previous_N\n",
    "            return store.value\n",
    "    \n",
    "    def peek(self):\n",
    "        if self.head!=None:     # len!=0\n",
    "            return self.tail.value\n",
    "        \n",
    "    def push(self,value):\n",
    "        if self.tail==None:     # len==0\n",
    "            new_N=node(value)   # create one variable instead of calling it twice!!!\n",
    "            self.head=new_N\n",
    "            self.tail=new_N\n",
    "        else:\n",
    "            new_N=node(value)\n",
    "            self.tail.next=new_N\n",
    "            self.tail=new_N\n",
    "            \n",
    "    def __str__(self):\n",
    "        current_N=self.head\n",
    "        result=''\n",
    "        while current_N!=None:\n",
    "            result=str(current_N.value)+' '+result\n",
    "            current_N = current_N.next\n",
    "        return 'stack: '+result.strip()"
   ]
  },
  {
   "cell_type": "code",
   "execution_count": 52,
   "metadata": {
    "deletable": false,
    "editable": false,
    "nbgrader": {
     "checksum": "a8aea5aba539b616d71fb1c94c2d7422",
     "grade": true,
     "grade_id": "cell-b1b12dbb4976108d",
     "locked": true,
     "points": 1,
     "schema_version": 1,
     "solution": false
    }
   },
   "outputs": [],
   "source": [
    "s = stack()\n",
    "s.push(1)\n",
    "s.push(2)\n",
    "s.push(3)\n",
    "s.push(4)\n",
    "s.push(5)\n",
    "\n",
    "assert s.peek() == 5\n",
    "assert s.pop() == 5\n",
    "assert s.peek() == 4\n",
    "assert str(s) == 'stack: 4 3 2 1'\n",
    "\n",
    "s.pop()\n",
    "s.pop()\n",
    "s.pop()\n",
    "assert str(s) == 'stack: 1'"
   ]
  },
  {
   "cell_type": "markdown",
   "metadata": {
    "deletable": false,
    "editable": false,
    "nbgrader": {
     "checksum": "4e1561abb03848c53c6004e5010ad252",
     "grade": false,
     "grade_id": "cell-dfd271f868973ff9",
     "locked": true,
     "schema_version": 1,
     "solution": false
    }
   },
   "source": [
    "# Problem 2\n",
    "\n",
    "Implement the `queue` class using linked lists. This will be more efficient for pushing and popping than a plain Python list. You should implement the following methods:\n",
    "\n",
    "`__init__`:create a new `queue` with no elements.\n",
    "\n",
    "`pop`: return the element that was inputted first and remove the element from the `queue`.\n",
    "\n",
    "`peek`: return the element that was inputted first.\n",
    "\n",
    "`push`: insert a new element at the end of the `queue`.\n",
    "\n",
    "`__str__`: returns a string representation of the `queue`."
   ]
  },
  {
   "cell_type": "code",
   "execution_count": 61,
   "metadata": {
    "deletable": false,
    "nbgrader": {
     "checksum": "df704e0f14e7409f5e9c80f32f850566",
     "grade": false,
     "grade_id": "cell-26254032e02425bf",
     "locked": false,
     "schema_version": 1,
     "solution": true
    }
   },
   "outputs": [],
   "source": [
    "class node(object):\n",
    "    def __init__(self,value):\n",
    "        self.value=value\n",
    "        self.next=None\n",
    "\n",
    "class queue(object):\n",
    "    def __init__(self):\n",
    "        self.head=None\n",
    "        self.tail=None\n",
    "    \n",
    "    def pop(self):\n",
    "        if self.head==self.tail and self.head!=None: # len==1\n",
    "            store=self.head\n",
    "            self.tail=None\n",
    "            self.head=None\n",
    "            return store.value\n",
    "        \n",
    "        if self.head!=self.tail:    # len>1\n",
    "            store=self.head\n",
    "            self.head=self.head.next\n",
    "            return store.value\n",
    "    \n",
    "    def peek(self):\n",
    "        if self.head!=None:     # len!=0\n",
    "            return self.head.value\n",
    "        \n",
    "    def push(self,value):\n",
    "        if self.tail==None:     # len==0\n",
    "            new_N=node(value)\n",
    "            self.head=new_N\n",
    "            self.tail=new_N\n",
    "        else:\n",
    "            new_N=node(value)\n",
    "            self.tail.next=new_N\n",
    "            self.tail=new_N\n",
    "            \n",
    "    def __str__(self):\n",
    "        current_N=self.head\n",
    "        result=''\n",
    "        while current_N!=None:\n",
    "            result=result+' '+str(current_N.value)\n",
    "            current_N = current_N.next\n",
    "        return 'queue: '+result.strip()"
   ]
  },
  {
   "cell_type": "code",
   "execution_count": 62,
   "metadata": {
    "deletable": false,
    "editable": false,
    "nbgrader": {
     "checksum": "54fe8b960d5294752c5b63a075b9951e",
     "grade": true,
     "grade_id": "cell-68689597d1269994",
     "locked": true,
     "points": 1,
     "schema_version": 1,
     "solution": false
    }
   },
   "outputs": [],
   "source": [
    "q = queue()\n",
    "q.push(1)\n",
    "q.push(2)\n",
    "q.push(3)\n",
    "q.push(4)\n",
    "q.push(5)\n",
    "\n",
    "assert q.peek() == 1\n",
    "assert q.pop() == 1\n",
    "assert q.peek() == 2\n",
    "assert str(q) == 'queue: 2 3 4 5'\n",
    "\n",
    "q.pop()\n",
    "q.pop()\n",
    "q.pop()\n",
    "assert str(q) == 'queue: 5'"
   ]
  },
  {
   "cell_type": "code",
   "execution_count": null,
   "metadata": {},
   "outputs": [],
   "source": []
  }
 ],
 "metadata": {
  "kernelspec": {
   "display_name": "Python 3",
   "language": "python",
   "name": "python3"
  },
  "language_info": {
   "codemirror_mode": {
    "name": "ipython",
    "version": 3
   },
   "file_extension": ".py",
   "mimetype": "text/x-python",
   "name": "python",
   "nbconvert_exporter": "python",
   "pygments_lexer": "ipython3",
   "version": "3.6.5"
  }
 },
 "nbformat": 4,
 "nbformat_minor": 2
}
