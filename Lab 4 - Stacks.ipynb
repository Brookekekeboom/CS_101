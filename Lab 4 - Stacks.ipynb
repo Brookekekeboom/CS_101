{
 "cells": [
  {
   "cell_type": "markdown",
   "metadata": {},
   "source": [
    "Before you turn this problem in, make sure everything runs as expected. First, **restart the kernel** (in the menubar, select Kernel$\\rightarrow$Restart) and then **run all cells** (in the menubar, select Cell$\\rightarrow$Run All).\n",
    "\n",
    "Make sure you fill in any place that says `YOUR CODE HERE` or \"YOUR ANSWER HERE\", as well as your name and collaborators below:"
   ]
  },
  {
   "cell_type": "code",
   "execution_count": null,
   "metadata": {},
   "outputs": [],
   "source": [
    "NAME = \"\"\n",
    "COLLABORATORS = \"\""
   ]
  },
  {
   "cell_type": "markdown",
   "metadata": {},
   "source": [
    "---"
   ]
  },
  {
   "cell_type": "markdown",
   "metadata": {
    "deletable": false,
    "editable": false,
    "nbgrader": {
     "checksum": "931ab7f5778a3b6b4d08615a0cbfa2eb",
     "grade": false,
     "grade_id": "cell-baa4e9eb2cc0c93f",
     "locked": true,
     "schema_version": 1,
     "solution": false
    }
   },
   "source": [
    "# Lab 4\n",
    "COMPSCI 101 spring 2019 Session 4, Duke Kunshan University\n",
    "\n",
    "**April 4<sup>th</sup> 2019**"
   ]
  },
  {
   "cell_type": "markdown",
   "metadata": {
    "deletable": false,
    "editable": false,
    "nbgrader": {
     "checksum": "8556b2ee89c504c6bbd122ea5f420ab7",
     "grade": false,
     "grade_id": "cell-12cf363a5b0e121c",
     "locked": true,
     "schema_version": 1,
     "solution": false
    }
   },
   "source": [
    "# Problem 1\n",
    "\n",
    "A list can be used to implement a `stack`. A `stack` is a data structure that ensures first-in-last-out (FILO) behavior. So if you insert (technically called a `push`) values into a stack you will retrieve (technically called a `pop`) the values in reverse order.\n",
    "\n",
    "Write two functions `push` and `pop`.\n",
    "\n",
    "`push` takes two inputs: the list `L` that represents the stack and an integer `val` that is being inserted into `L`. This function then returns `L`.\n",
    "\n",
    "`pop` takes the list `L` as input and removes the integer that was last inserted from `L` and returns this integer."
   ]
  },
  {
   "cell_type": "code",
   "execution_count": 51,
   "metadata": {
    "deletable": false,
    "nbgrader": {
     "checksum": "7555722c4eaf0db08b84c9a5c9ab5de7",
     "grade": false,
     "grade_id": "cell-f9cc0e7c8f4576a3",
     "locked": false,
     "schema_version": 1,
     "solution": true
    }
   },
   "outputs": [],
   "source": [
    "def push(L, val):\n",
    "    L.append(val)\n",
    "\n",
    "def pop(L):\n",
    "    last=L[-1]\n",
    "    del(L[-1])\n",
    "    return last"
   ]
  },
  {
   "cell_type": "code",
   "execution_count": 52,
   "metadata": {
    "deletable": false,
    "editable": false,
    "nbgrader": {
     "checksum": "bb385364200f1fbdc7ec704e963b31d1",
     "grade": true,
     "grade_id": "cell-764b2aa492773005",
     "locked": true,
     "points": 1,
     "schema_version": 1,
     "solution": false
    }
   },
   "outputs": [],
   "source": [
    "stack = []\n",
    "push(stack, 1)\n",
    "push(stack, 2)\n",
    "push(stack, 3)\n",
    "assert pop(stack) == 3\n",
    "push(stack, 4)\n",
    "push(stack, 5)\n",
    "assert pop(stack) == 5\n",
    "assert stack == [1,2,4]"
   ]
  },
  {
   "cell_type": "markdown",
   "metadata": {
    "deletable": false,
    "editable": false,
    "nbgrader": {
     "checksum": "44fd40201411bfa86e7b80fa1a261f6f",
     "grade": false,
     "grade_id": "cell-e50ebc63d971a216",
     "locked": true,
     "schema_version": 1,
     "solution": false
    }
   },
   "source": [
    "# Problem 2\n",
    "\n",
    "The Stock Span problem is a financial problem where we have a list of `n` daily price quotes for a stock and we need to calculate the spans of the stock's price for all `n` days.\n",
    "\n",
    "The span `S`<sub>i</sub> of the stock’s price on day `i` is defined as the maximum number of consecutive days before the `i`th day, for which the price of the stock on the earliest day is less than the price on the `i`th day.\n",
    "\n",
    "For example, if a list of 7 days of prices is given as [100, 80, 60, 70, 60, 75, 85], then the span values for the corresponding 7 days are [1, 1, 1, 2, 1, 4, 6]."
   ]
  },
  {
   "cell_type": "code",
   "execution_count": 53,
   "metadata": {
    "deletable": false,
    "nbgrader": {
     "checksum": "702f4152cc742c1be6a793603980919a",
     "grade": false,
     "grade_id": "cell-77b8dd1a59eda2ee",
     "locked": false,
     "schema_version": 1,
     "solution": true
    }
   },
   "outputs": [],
   "source": [
    "def stock_span(L):\n",
    "    result=[1]\n",
    "    if len(L)>=2:\n",
    "        for i in range(1,len(L)):\n",
    "            counter=1\n",
    "            index=i-1\n",
    "            while L[i]>L[index]:\n",
    "                counter=counter+1\n",
    "                index=index-1\n",
    "                if index==-1:\n",
    "                    break\n",
    "            result.append(counter)\n",
    "    return result"
   ]
  },
  {
   "cell_type": "code",
   "execution_count": 54,
   "metadata": {
    "deletable": false,
    "editable": false,
    "nbgrader": {
     "checksum": "0e50c9a3bafc113792be1971d034b1f1",
     "grade": true,
     "grade_id": "cell-209c42fabacb044c",
     "locked": true,
     "points": 1,
     "schema_version": 1,
     "solution": false
    }
   },
   "outputs": [
    {
     "name": "stdout",
     "output_type": "stream",
     "text": [
      "70.1 ms ± 482 µs per loop (mean ± std. dev. of 7 runs, 10 loops each)\n"
     ]
    }
   ],
   "source": [
    "import random\n",
    "\n",
    "def gen_list(n):\n",
    "    return [random.randint(0,100000) for i in range(n)]\n",
    "\n",
    "assert stock_span([100]) == [1]\n",
    "assert stock_span([100,80,60,70,60,75,85]) == [1,1,1,2,1,4,6]\n",
    "assert stock_span([97, 65, 94, 199, 160, 139, 136, 108, 19, 166, 75, 160, 196, 105, 99, 39, 102, 40, 44, 13, 84, 156, 94, 91, 141, 197, 21, 10, 170, 171, 48, 147, 51, 127, 43, 68, 80, 101, 38, 142, 27, 83, 85, 162, 157, 184, 25, 30, 162, 162]) == [1, 1, 2, 4, 1, 1, 1, 1, 1, 6, 1, 2, 9, 1, 1, 1, 3, 1, 2, 1, 4, 9, 1, 1, 3, 22, 1, 1, 3, 4, 1, 2, 1, 2, 1, 2, 3, 4, 1, 8, 1, 2, 3, 14, 1, 20, 1, 2, 3, 1]\n",
    "result = %timeit -o stock_span(sorted(gen_list(1000)))"
   ]
  },
  {
   "cell_type": "markdown",
   "metadata": {
    "deletable": false,
    "editable": false,
    "nbgrader": {
     "checksum": "c73715f7d85badaa0bd31c8f65e66bf7",
     "grade": false,
     "grade_id": "cell-b7d3b5eac9a20aae",
     "locked": true,
     "schema_version": 1,
     "solution": false
    }
   },
   "source": [
    "# Problem 3\n",
    "\n",
    "A more efficient solution exists that utilizes the functionality of a `stack`. The idea is to `push` the index of the first stock price into the `stack`.\n",
    "\n",
    "Then we can go through the following steps for the rest of the stock prices:\n",
    "\n",
    "1. For the stock price at index `i`, compare it with the stock price at index `j` where `j` is the value at the top of the `stack`.\n",
    "2. If the stock price at `i` is less than or equal to the stock price at `j` then `pop` the stack. Continue doing this until the stock price at `i` is greater than `j`.\n",
    "3. Now we know that the stock price at index `j` is greater than the stock price at index `i` so the `span` for the stock price at `i` will be `i` - `j`.\n",
    "4. If this is not the case then the stack is empty and there is no other previous stock price that is greater than the stock price at index `i` so the `span` for the stock price at `i` will be `i` + 1."
   ]
  },
  {
   "cell_type": "code",
   "execution_count": 49,
   "metadata": {
    "deletable": false,
    "nbgrader": {
     "checksum": "5513c6a972df47c40b572074e5a41f07",
     "grade": false,
     "grade_id": "cell-6beaeece872ef205",
     "locked": false,
     "schema_version": 1,
     "solution": true
    }
   },
   "outputs": [],
   "source": [
    "def stock_span_stack(L):\n",
    "    def helper(i):\n",
    "        if len(stack)==0:\n",
    "            push(stack,i)\n",
    "            return i+1\n",
    "        else:\n",
    "            j=stack[-1]\n",
    "            while L[i]>L[j]:\n",
    "                pop(stack)\n",
    "                if len(stack)==0:\n",
    "                    push(stack,i)\n",
    "                    return i+1\n",
    "                else:\n",
    "                    j=stack[-1]\n",
    "                    continue\n",
    "            push(stack,i)\n",
    "            return i-j\n",
    "            \n",
    "        \n",
    "    result=[1]\n",
    "    stack=[0]\n",
    "    for i in range(1,len(L)):\n",
    "        result.append(helper(i))\n",
    "    return result"
   ]
  },
  {
   "cell_type": "code",
   "execution_count": 50,
   "metadata": {
    "deletable": false,
    "editable": false,
    "nbgrader": {
     "checksum": "5ef63529089dd856e6abd9c4efb1a153",
     "grade": true,
     "grade_id": "cell-bcc453928b6b56b1",
     "locked": true,
     "points": 1,
     "schema_version": 1,
     "solution": false
    }
   },
   "outputs": [
    {
     "name": "stdout",
     "output_type": "stream",
     "text": [
      "2.52 ms ± 57.1 µs per loop (mean ± std. dev. of 7 runs, 100 loops each)\n"
     ]
    }
   ],
   "source": [
    "assert stock_span_stack([100]) == [1]\n",
    "assert stock_span_stack([100,80,60,70,60,75,85]) == [1,1,1,2,1,4,6]\n",
    "assert stock_span_stack([97, 65, 94, 199, 160, 139, 136, 108, 19, 166, 75, 160, 196, 105, 99, 39, 102, 40, 44, 13, 84, 156, 94, 91, 141, 197, 21, 10, 170, 171, 48, 147, 51, 127, 43, 68, 80, 101, 38, 142, 27, 83, 85, 162, 157, 184, 25, 30, 162, 162]) == [1, 1, 2, 4, 1, 1, 1, 1, 1, 6, 1, 2, 9, 1, 1, 1, 3, 1, 2, 1, 4, 9, 1, 1, 3, 22, 1, 1, 3, 4, 1, 2, 1, 2, 1, 2, 3, 4, 1, 8, 1, 2, 3, 14, 1, 20, 1, 2, 3, 1]\n",
    "result = %timeit -o stock_span_stack(sorted(gen_list(1000)))"
   ]
  }
 ],
 "metadata": {
  "kernelspec": {
   "display_name": "Python 3",
   "language": "python",
   "name": "python3"
  },
  "language_info": {
   "codemirror_mode": {
    "name": "ipython",
    "version": 3
   },
   "file_extension": ".py",
   "mimetype": "text/x-python",
   "name": "python",
   "nbconvert_exporter": "python",
   "pygments_lexer": "ipython3",
   "version": "3.6.5"
  }
 },
 "nbformat": 4,
 "nbformat_minor": 2
}
