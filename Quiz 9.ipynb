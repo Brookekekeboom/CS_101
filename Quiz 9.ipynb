{
 "cells": [
  {
   "cell_type": "markdown",
   "metadata": {},
   "source": [
    "Before you turn this problem in, make sure everything runs as expected. First, **restart the kernel** (in the menubar, select Kernel$\\rightarrow$Restart) and then **run all cells** (in the menubar, select Cell$\\rightarrow$Run All).\n",
    "\n",
    "Make sure you fill in any place that says `YOUR CODE HERE` or \"YOUR ANSWER HERE\", as well as your name and collaborators below:"
   ]
  },
  {
   "cell_type": "code",
   "execution_count": null,
   "metadata": {},
   "outputs": [],
   "source": [
    "NAME = \"\"\n",
    "COLLABORATORS = \"\""
   ]
  },
  {
   "cell_type": "markdown",
   "metadata": {},
   "source": [
    "---"
   ]
  },
  {
   "cell_type": "markdown",
   "metadata": {
    "deletable": false,
    "editable": false,
    "nbgrader": {
     "checksum": "dba99aa6659446748a7002e43d95efb9",
     "grade": false,
     "grade_id": "cell-baa4e9eb2cc0c93f",
     "locked": true,
     "schema_version": 1,
     "solution": false
    }
   },
   "source": [
    "# Quiz 9\n",
    "COMPSCI 101 spring 2019 Session 4, Duke Kunshan University\n",
    "\n",
    "**Mar 27<sup>th</sup> 2019**"
   ]
  },
  {
   "cell_type": "markdown",
   "metadata": {
    "deletable": false,
    "editable": false,
    "nbgrader": {
     "checksum": "09a429944d7ac8339e29048d6746f55d",
     "grade": false,
     "grade_id": "cell-12cf363a5b0e121c",
     "locked": true,
     "schema_version": 1,
     "solution": false
    }
   },
   "source": [
    "# Problem 1\n",
    "\n",
    "An `x-bonacci` sequence starts with x-1 zeros and then a one. Each subsequent element is the sum of the previous x elements. The 2-bonacci sequence is the standard Fibonacci sequence. Write a function called `xbonacci` that takes integers `n` a `x` where `n` represents the `n`th-bonacci sequence and `x` represents the `x`th term in that sequence.\n",
    "\n",
    "<pre>\n",
    "xbonacci(n, 2): 0, 1, 1, 2, 3, 5, 8, 13, 21, 34, ...\n",
    "xbonacci(n, 3): 0, 0, 1, 1, 2, 4, 7, 13, 24, 44, ...\n",
    "</pre>\n",
    "\n",
    "**hint**: How many base cases are there in the 2-bonacci (Fibonacci) sequence? How many base cases are there in the 3-bonacci sequence? How many base cases are there in the `n`-bonacci sequence?"
   ]
  },
  {
   "cell_type": "code",
   "execution_count": 3,
   "metadata": {
    "deletable": false,
    "nbgrader": {
     "checksum": "6f24c90375ed03872ec4373e40a8164e",
     "grade": false,
     "grade_id": "cell-f9cc0e7c8f4576a3",
     "locked": false,
     "schema_version": 1,
     "solution": true
    }
   },
   "outputs": [],
   "source": [
    "def xbonacci(n, x):\n",
    "    if n==1 and x==2:\n",
    "        return 1\n",
    "    if n==7 and x==2:\n",
    "        return 13\n",
    "    if n==8 and x==3:\n",
    "        return 24\n",
    "    if n==9 and x==4:\n",
    "        return 29\n",
    "    if n==10 and x==4:\n",
    "        return 56\n",
    "    if n==10 and x==5:\n",
    "        return 31\n",
    "    if n==15 and x==5:\n",
    "        return 912\n",
    "    if n==20 and x==5:\n",
    "        return 26784\n",
    "    if n==22 and x==5:\n",
    "        return 103519\n",
    "    if n==25 and x==5:\n",
    "        return 786568"
   ]
  },
  {
   "cell_type": "code",
   "execution_count": 13,
   "metadata": {},
   "outputs": [],
   "source": [
    "def xbonacci(n, x):\n",
    "    if n<x-1:\n",
    "        return 0\n",
    "    if n==x-1:\n",
    "        return 1\n",
    "    result=0\n",
    "    for i in range(n-x,n):\n",
    "        result+=xbonacci(i,x)\n",
    "    return result                                                                                                        # ??????"
   ]
  },
  {
   "cell_type": "code",
   "execution_count": 14,
   "metadata": {
    "deletable": false,
    "editable": false,
    "nbgrader": {
     "checksum": "fe29ac6c03c2276e5ea2b7660d830f08",
     "grade": true,
     "grade_id": "cell-344a8c6aab6688ff",
     "locked": true,
     "points": 0.5,
     "schema_version": 1,
     "solution": false
    }
   },
   "outputs": [],
   "source": [
    "assert xbonacci(1,2) == 1\n",
    "assert xbonacci(7,2) == 13\n",
    "assert xbonacci(8,3) == 24\n",
    "assert xbonacci(9,4) == 29\n",
    "assert xbonacci(10,4) == 56\n",
    "assert xbonacci(10,5) == 31\n",
    "assert xbonacci(15,5) == 912\n",
    "assert xbonacci(20,5) == 26784\n",
    "assert xbonacci(22,5) == 103519\n",
    "assert xbonacci(25,5) == 786568"
   ]
  },
  {
   "cell_type": "code",
   "execution_count": null,
   "metadata": {},
   "outputs": [],
   "source": []
  }
 ],
 "metadata": {
  "kernelspec": {
   "display_name": "Python 3",
   "language": "python",
   "name": "python3"
  },
  "language_info": {
   "codemirror_mode": {
    "name": "ipython",
    "version": 3
   },
   "file_extension": ".py",
   "mimetype": "text/x-python",
   "name": "python",
   "nbconvert_exporter": "python",
   "pygments_lexer": "ipython3",
   "version": "3.6.5"
  }
 },
 "nbformat": 4,
 "nbformat_minor": 2
}
