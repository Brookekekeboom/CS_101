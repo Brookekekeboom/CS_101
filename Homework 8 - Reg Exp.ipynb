{
 "cells": [
  {
   "cell_type": "markdown",
   "metadata": {},
   "source": [
    "Before you turn this problem in, make sure everything runs as expected. First, **restart the kernel** (in the menubar, select Kernel$\\rightarrow$Restart) and then **run all cells** (in the menubar, select Cell$\\rightarrow$Run All).\n",
    "\n",
    "Make sure you fill in any place that says `YOUR CODE HERE` or \"YOUR ANSWER HERE\", as well as your name and collaborators below:"
   ]
  },
  {
   "cell_type": "code",
   "execution_count": null,
   "metadata": {},
   "outputs": [],
   "source": [
    "NAME = \"Xuchen Gong\"\n",
    "COLLABORATORS = \"Yueran Pan\""
   ]
  },
  {
   "cell_type": "markdown",
   "metadata": {},
   "source": [
    "---"
   ]
  },
  {
   "cell_type": "markdown",
   "metadata": {
    "deletable": false,
    "editable": false,
    "nbgrader": {
     "checksum": "bd7ef069b418244be00a1d17fbc8788f",
     "grade": false,
     "grade_id": "cell-baa4e9eb2cc0c93f",
     "locked": true,
     "schema_version": 1,
     "solution": false
    }
   },
   "source": [
    "# Homework 8\n",
    "COMPSCI 101 spring 2019 Session 4, Duke Kunshan University\n",
    "\n",
    "Due: **March 26<sup>th</sup> 2019, 5 pm**"
   ]
  },
  {
   "cell_type": "markdown",
   "metadata": {
    "deletable": false,
    "editable": false,
    "nbgrader": {
     "checksum": "5ed8fc035d6844dfa290e62c9496cddf",
     "grade": false,
     "grade_id": "cell-12cf363a5b0e121c",
     "locked": true,
     "schema_version": 1,
     "solution": false
    }
   },
   "source": [
    "# Problem 1\n",
    "\n",
    "The TV series Game of Thrones is very popupar around the world. It has a 9.5 rating on [IMDB](https://www.imdb.com/title/tt0944947/?ref_=fn_al_tt_1). \n",
    "\n",
    "The HTML source code of this webpage is saved in GOT-cast.html in the current directory.\n",
    "\n",
    "Write a function called `get_cast_dict` that extracts the relevant information from the cast list of the HTML file and then creates a dictionary in which the keys are the names of the actresses and actors, and the values are the names of the characters they play."
   ]
  },
  {
   "cell_type": "code",
   "execution_count": 45,
   "metadata": {
    "deletable": false,
    "nbgrader": {
     "checksum": "0cfcd08fbdd2271fe87fed2b2d2ec3b2",
     "grade": false,
     "grade_id": "cell-46c55fb5434e1162",
     "locked": false,
     "schema_version": 1,
     "solution": true
    }
   },
   "outputs": [],
   "source": [
    "# first version\n",
    "import re\n",
    " \n",
    "def get_cast_dict():\n",
    "    d={}\n",
    "    file=open('GOT-cast.html','r')\n",
    "    actor=[]\n",
    "    character=[]\n",
    "    for line in file:\n",
    "        if re.search('> ',line):\n",
    "            actor_name=re.findall('> (\\w+ \\w+)',line)\n",
    "            actor.append(actor_name)\n",
    "        if re.search('&nbsp',line):\n",
    "            character_name=re.findall('>([ \\w\\']*)</a>',line)\n",
    "            character.append(character_name)\n",
    "    actor_new=[]\n",
    "    character_new=[]\n",
    "    for item in actor:\n",
    "         if item !=[]:\n",
    "            actor_new=actor_new+item\n",
    "    for item in character:\n",
    "         if item !=[]:\n",
    "            character_new=character_new+item\n",
    "    del(character_new[-1])\n",
    "\n",
    "    for i in range(len(actor_new)):\n",
    "        d[actor_new[i]]=character_new[i]\n",
    "    return d"
   ]
  },
  {
   "cell_type": "code",
   "execution_count": 50,
   "metadata": {},
   "outputs": [],
   "source": [
    "# after simplification\n",
    "import re\n",
    " \n",
    "def get_cast_dict():\n",
    "    d={}\n",
    "    file=open('GOT-cast.html','r')\n",
    "    actor=[]\n",
    "    character=[]\n",
    "    for line in file:\n",
    "        actor=actor+re.findall('> (\\w+ \\w+)',line)\n",
    "        character=character+re.findall('&nbsp.+>([ \\w\\']+)</a>',line)\n",
    "    for i in range(len(actor)):\n",
    "        d[actor[i]]=character[i]\n",
    "    return d"
   ]
  },
  {
   "cell_type": "code",
   "execution_count": 51,
   "metadata": {
    "deletable": false,
    "editable": false,
    "nbgrader": {
     "checksum": "3027257df00bd7d49e4b8aad7d1c50f4",
     "grade": true,
     "grade_id": "cell-344a8c6aab6688ff",
     "locked": true,
     "points": 1,
     "schema_version": 1,
     "solution": false
    }
   },
   "outputs": [],
   "source": [
    "assert get_cast_dict()['Lena Headey'] == 'Cersei Lannister'\n",
    "assert get_cast_dict()['Sophie Turner'] == 'Sansa Stark'\n",
    "assert get_cast_dict()['Jack Gleeson'] == 'Joffrey Baratheon'\n",
    "assert get_cast_dict()['Ben Crompton'] == 'Eddison Tollett'"
   ]
  },
  {
   "cell_type": "markdown",
   "metadata": {
    "deletable": false,
    "editable": false,
    "nbgrader": {
     "checksum": "becf111e6d508f866586c42e78025785",
     "grade": false,
     "grade_id": "cell-c04e0df4416e6644",
     "locked": true,
     "schema_version": 1,
     "solution": false
    }
   },
   "source": [
    "# Problem 2: \n",
    "\n",
    "Harry Potter has to learn many magical spells, but it is difficult for him to remember all of the magical spells. He needs your help. \n",
    "\n",
    "Write a function called `get_explanation` that uses Harry Potter's notes for magical spells, and returns the explanation when given a magical spell. If you cannot find the magical spell, please return 'what?'"
   ]
  },
  {
   "cell_type": "code",
   "execution_count": null,
   "metadata": {
    "deletable": false,
    "nbgrader": {
     "checksum": "3fb1d9dc5ae401282541b0559874a3e6",
     "grade": false,
     "grade_id": "cell-6192f39ec893f265",
     "locked": false,
     "schema_version": 1,
     "solution": true
    }
   },
   "outputs": [],
   "source": [
    "# The KEY is the explanation and the VALUE is the magical spell.\n",
    "magic_notes = {\n",
    "'the disarming charm': 'expelliarmus',\n",
    "'send a jet of silver light to hit the enemy': 'rictusempra',\n",
    "'control the movement of one`s legs': 'tarantallegra',\n",
    "'shoot a snake out of the end of one`s wand': 'serpensortia',\n",
    "'light the wand': 'lumos',\n",
    "'the memory charm': 'obliviate',\n",
    "'send a Patronus to the dementors': 'expecto patronum',\n",
    "'the summoning charm': 'accio',\n",
    "}\n",
    "\n",
    "def get_explanation(magic_spell):\n",
    "    for k,v in magic_notes.items():\n",
    "        if magic_spell==v:\n",
    "            return k\n",
    "    return 'what?'"
   ]
  },
  {
   "cell_type": "code",
   "execution_count": null,
   "metadata": {
    "deletable": false,
    "editable": false,
    "nbgrader": {
     "checksum": "d9ee18d8251ce154aef84108980e777d",
     "grade": true,
     "grade_id": "cell-e77cdd3ef25cfb44",
     "locked": true,
     "points": 1,
     "schema_version": 1,
     "solution": false
    }
   },
   "outputs": [],
   "source": [
    "assert get_explanation('tarantallegra') == 'control the movement of one`s legs'\n",
    "assert get_explanation('accio') == 'the summoning charm'\n",
    "assert get_explanation('obliviate') == 'the memory charm'\n",
    "assert get_explanation('avada kedavra') == 'what?'  # This is The Killing Curse, which is forbidden and unforgivable in the wizarding world."
   ]
  }
 ],
 "metadata": {
  "kernelspec": {
   "display_name": "Python 3",
   "language": "python",
   "name": "python3"
  },
  "language_info": {
   "codemirror_mode": {
    "name": "ipython",
    "version": 3
   },
   "file_extension": ".py",
   "mimetype": "text/x-python",
   "name": "python",
   "nbconvert_exporter": "python",
   "pygments_lexer": "ipython3",
   "version": "3.6.5"
  }
 },
 "nbformat": 4,
 "nbformat_minor": 2
}
