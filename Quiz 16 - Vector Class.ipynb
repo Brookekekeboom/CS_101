{
 "cells": [
  {
   "cell_type": "markdown",
   "metadata": {},
   "source": [
    "Before you turn this problem in, make sure everything runs as expected. First, **restart the kernel** (in the menubar, select Kernel$\\rightarrow$Restart) and then **run all cells** (in the menubar, select Cell$\\rightarrow$Run All).\n",
    "\n",
    "Make sure you fill in any place that says `YOUR CODE HERE` or \"YOUR ANSWER HERE\", as well as your name and collaborators below:"
   ]
  },
  {
   "cell_type": "code",
   "execution_count": null,
   "metadata": {},
   "outputs": [],
   "source": [
    "NAME = \"\"\n",
    "COLLABORATORS = \"\""
   ]
  },
  {
   "cell_type": "markdown",
   "metadata": {},
   "source": [
    "---"
   ]
  },
  {
   "cell_type": "markdown",
   "metadata": {
    "deletable": false,
    "editable": false,
    "nbgrader": {
     "checksum": "964159e765ef265f3f86f5763f6a6fd9",
     "grade": false,
     "grade_id": "cell-baa4e9eb2cc0c93f",
     "locked": true,
     "schema_version": 1,
     "solution": false
    }
   },
   "source": [
    "# Quiz 16\n",
    "COMPSCI 101 spring 2019 Session 4, Duke Kunshan University\n",
    "\n",
    "**April 10<sup>th</sup> 2019**"
   ]
  },
  {
   "cell_type": "markdown",
   "metadata": {
    "deletable": false,
    "editable": false,
    "nbgrader": {
     "checksum": "2005610e5ad1fe839f2a329aaf232a00",
     "grade": false,
     "grade_id": "cell-12cf363a5b0e121c",
     "locked": true,
     "schema_version": 1,
     "solution": false
    }
   },
   "source": [
    "# Problem 1\n",
    "\n",
    "Implement the `Vector` class.\n",
    "\n",
    "Overload the following operators of the `Vector` class:\n",
    "* Operator `+`\n",
    "    + `Vector(1, 1) + Vector(1, 1) = Vector(2, 2)`\n",
    "    + Define a method called `__add__`\n",
    "    \n",
    "    \n",
    "* Opeartor `-`\n",
    "    + `Vector(1, 1) - Vector(1, 1) = Vector(0, 0)`\n",
    "    + Define a method called `__sub__`\n",
    "    \n",
    "    \n",
    "* Opeartor `*` \n",
    "    + [Dot Product] (https://en.wikipedia.org/wiki/Dot_product#Algebraic_definition) (Multiply with another Vector): `Vector(1, 2) * Vector(3, 4) = 11`\n",
    "    + Multiply with a scalar: `Vector(1, 1) * 2 = Vector(2, 2)`\n",
    "    + Define a method called `__mul__`\n",
    "    \n",
    "    \n",
    "* Operator `==`\n",
    "    + Return `True` if the numbers of the two vevtors are same\n",
    "    + Define a method called `__eq__`"
   ]
  },
  {
   "cell_type": "code",
   "execution_count": 11,
   "metadata": {
    "deletable": false,
    "nbgrader": {
     "checksum": "b78acf2637f6eb46af2f29a58f2c3aad",
     "grade": false,
     "grade_id": "cell-f9cc0e7c8f4576a3",
     "locked": false,
     "schema_version": 1,
     "solution": true
    }
   },
   "outputs": [],
   "source": [
    "class Vector:\n",
    "    def __init__(self, x=0, y=0):\n",
    "        self.x = x\n",
    "        self.y = y\n",
    "        \n",
    "#     def __repr__(self):\n",
    "#         return 'Vector(%r, %r)' % (self.x, self.y)\n",
    "    \n",
    "    def __add__(self, other):\n",
    "        x = self.x + other.x\n",
    "        y = self.y + other.y\n",
    "        return Vector(x, y)\n",
    "    \n",
    "    def __sub__(self, other):\n",
    "        x = self.x - other.x\n",
    "        y = self.y - other.y\n",
    "        return Vector(x, y)\n",
    "    \n",
    "    def __mul__(self, other):\n",
    "        try:\n",
    "            return Vector(self.x * other, self.y * other)\n",
    "        except:\n",
    "            return self.x * other.x + self.y * other.y\n",
    "    \n",
    "    def __eq__(self,other):\n",
    "        return (self.x==other.x) and (self.y==other.y)"
   ]
  },
  {
   "cell_type": "code",
   "execution_count": 12,
   "metadata": {
    "deletable": false,
    "editable": false,
    "nbgrader": {
     "checksum": "128c16edfeb1f87bc2ade48238b00b86",
     "grade": true,
     "grade_id": "cell-344a8c6aab6688ff",
     "locked": true,
     "points": 0.5,
     "schema_version": 1,
     "solution": false
    }
   },
   "outputs": [],
   "source": [
    "a = Vector(1, 1)\n",
    "b = Vector(2, 2)\n",
    "c = Vector(6, -3)\n",
    "assert a+b == Vector(3, 3)\n",
    "assert a+b+c == Vector(9, 0)\n",
    "assert a-b == Vector(-1, -1)\n",
    "assert a-b-c == Vector(-7, 2)\n",
    "assert a*b == 4\n",
    "assert c*(b*a) == Vector(24, -12)\n",
    "assert b*c == c*b\n",
    "assert a*2 == b"
   ]
  },
  {
   "cell_type": "code",
   "execution_count": 15,
   "metadata": {},
   "outputs": [
    {
     "data": {
      "text/plain": [
       "<__main__.Vector at 0x7fcc505ff710>"
      ]
     },
     "execution_count": 15,
     "metadata": {},
     "output_type": "execute_result"
    }
   ],
   "source": [
    "a"
   ]
  },
  {
   "cell_type": "code",
   "execution_count": null,
   "metadata": {},
   "outputs": [],
   "source": []
  }
 ],
 "metadata": {
  "kernelspec": {
   "display_name": "Python 3",
   "language": "python",
   "name": "python3"
  },
  "language_info": {
   "codemirror_mode": {
    "name": "ipython",
    "version": 3
   },
   "file_extension": ".py",
   "mimetype": "text/x-python",
   "name": "python",
   "nbconvert_exporter": "python",
   "pygments_lexer": "ipython3",
   "version": "3.6.5"
  }
 },
 "nbformat": 4,
 "nbformat_minor": 2
}
