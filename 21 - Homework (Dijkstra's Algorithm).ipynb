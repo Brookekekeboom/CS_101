{
 "cells": [
  {
   "cell_type": "markdown",
   "metadata": {},
   "source": [
    "Before you turn this problem in, make sure everything runs as expected. First, **restart the kernel** (in the menubar, select Kernel$\\rightarrow$Restart) and then **run all cells** (in the menubar, select Cell$\\rightarrow$Run All).\n",
    "\n",
    "Make sure you fill in any place that says `YOUR CODE HERE` or \"YOUR ANSWER HERE\", as well as your name and collaborators below:"
   ]
  },
  {
   "cell_type": "code",
   "execution_count": null,
   "metadata": {},
   "outputs": [],
   "source": [
    "NAME = \"\"\n",
    "COLLABORATORS = \"\""
   ]
  },
  {
   "cell_type": "markdown",
   "metadata": {},
   "source": [
    "---"
   ]
  },
  {
   "cell_type": "markdown",
   "metadata": {
    "deletable": false,
    "editable": false,
    "nbgrader": {
     "checksum": "6b619943316e1fd61fafd19c7289a493",
     "grade": false,
     "grade_id": "cell-baa4e9eb2cc0c93f",
     "locked": true,
     "schema_version": 1,
     "solution": false
    }
   },
   "source": [
    "# Homework 21\n",
    "COMPSCI 101 spring 2019 Session 4, Duke Kunshan University\n",
    "\n",
    "Due: **April 18<sup>th</sup> 2019, 5 pm**"
   ]
  },
  {
   "cell_type": "code",
   "execution_count": 58,
   "metadata": {
    "deletable": false,
    "editable": false,
    "nbgrader": {
     "checksum": "762ad4ee3795e8ef9edeee0f67be6eb3",
     "grade": false,
     "grade_id": "cell-db59890d37ad41bb",
     "locked": true,
     "schema_version": 1,
     "solution": false
    }
   },
   "outputs": [],
   "source": [
    "class Digraph(object):\n",
    "    # nodes is a list of strings in the graph\n",
    "    # edges is a dictionary mapping each node to a list of its children\n",
    "    def __init__(self):\n",
    "        self.nodes = []\n",
    "        self.edges = {}\n",
    "\n",
    "    def childrenOf(self, node):\n",
    "        return self.edges[node]\n",
    "    \n",
    "    def hasNode(self, node):\n",
    "        return node in self.nodes\n",
    "    \n",
    "    def __str__(self):\n",
    "        result = ''\n",
    "        for src in self.nodes:\n",
    "            for dest in self.edges[src]:\n",
    "                result = result + src.getName() + '->'\\\n",
    "                         + dest.getName() + '\\n'\n",
    "        return result[:-1] #omit final newline"
   ]
  },
  {
   "cell_type": "markdown",
   "metadata": {
    "deletable": false,
    "editable": false,
    "nbgrader": {
     "checksum": "bb33905a26482ec0718645d44281fe30",
     "grade": false,
     "grade_id": "cell-6dd5e264db880e8d",
     "locked": true,
     "schema_version": 1,
     "solution": false
    }
   },
   "source": [
    "# Problem 1\n",
    "\n",
    "Implement `Dijkstra's Algorithm`.\n",
    "\n",
    "Given a graph `G`, node `s` and node `e`, return the shortest distance between these two nodes. If there is no path between s and e, return 9999.\n",
    "\n",
    "<img src=\"graph.png\" width=\"350\">"
   ]
  },
  {
   "cell_type": "code",
   "execution_count": 53,
   "metadata": {
    "deletable": false,
    "nbgrader": {
     "checksum": "d2f7e0673f35b0a057582b793251d3df",
     "grade": false,
     "grade_id": "cell-761dacc86a1b5d0b",
     "locked": false,
     "schema_version": 1,
     "solution": true
    }
   },
   "outputs": [],
   "source": [
    "def dijkstra(G, s, e):\n",
    "    '''\n",
    "    G: Graph\n",
    "    s: start node\n",
    "    e: end node\n",
    "    '''\n",
    "    # table initial setting\n",
    "    if G.edges[s]==[]:\n",
    "        return 9999\n",
    "    else:\n",
    "        unvisited=[]\n",
    "        visited=[s]\n",
    "        for item in G.edges.keys():\n",
    "            if G.edges[item]!=[]:\n",
    "                unvisited.append(item)\n",
    "        unvisited.remove(s)\n",
    "        table={}\n",
    "        neighbors=[]\n",
    "        for tuples in G.edges[s]:\n",
    "            neighbors.append(tuples[0])\n",
    "            table[tuples[0]]=tuples[1]\n",
    "        for node in G.nodes:\n",
    "            if node not in neighbors:\n",
    "                table[node]=9999\n",
    "        table[s]=0\n",
    "        # change table\n",
    "        while len(unvisited)!=0:\n",
    "            # find smallest\n",
    "            smallest=None\n",
    "            for item in unvisited:\n",
    "                if smallest==None or table[item]<smallest[1]:\n",
    "                    smallest=(item,table[item])\n",
    "            unvisited.remove(smallest[0])\n",
    "            visited.append(smallest[0])\n",
    "\n",
    "            # visit this node and update\n",
    "            for nb in G.edges[smallest[0]]:\n",
    "                if nb[0] not in visited:\n",
    "                    if nb[1]+smallest[1]<table[nb[0]]:\n",
    "                        table[nb[0]]=nb[1]+smallest[1]\n",
    "\n",
    "        return table[e]"
   ]
  },
  {
   "cell_type": "code",
   "execution_count": 67,
   "metadata": {},
   "outputs": [],
   "source": [
    "def dijkstra(G, s, e):\n",
    "    # initialize\n",
    "    table={item:9999 for item in G.nodes}\n",
    "    table[s]=0\n",
    "    unvisited=[node for node in G.nodes]\n",
    "    # algorithm\n",
    "    while unvisited:\n",
    "        smallest=min([(i,table[i]) for i in unvisited],key=lambda x:x[1])[0]\n",
    "        unvisited.remove(smallest)\n",
    "        if smallest in G.edges:\n",
    "            for node, weight in G.edges[smallest]:\n",
    "                table[node]=min(table[node],table[smallest]+weight)\n",
    "    return table[e]\n"
   ]
  },
  {
   "cell_type": "code",
   "execution_count": 68,
   "metadata": {
    "deletable": false,
    "editable": false,
    "nbgrader": {
     "checksum": "88d6038ff61b19e087b7e64a05e52ce9",
     "grade": true,
     "grade_id": "cell-b1b12dbb4976108d",
     "locked": true,
     "points": 1,
     "schema_version": 1,
     "solution": false
    }
   },
   "outputs": [],
   "source": [
    "G1 = Digraph()\n",
    "G1.nodes = ['A', 'B', 'C', 'D']\n",
    "G1.edges = {\n",
    "    'A':[('B', 1), ('C', 4), ('D', 6)],\n",
    "    'B':[('C', 2), ('D', 7)],\n",
    "    'C':[('D', 1)],\n",
    "}\n",
    "\n",
    "assert dijkstra(G1, 'A', 'C') == 3\n",
    "assert dijkstra(G1, 'B', 'D') == 3"
   ]
  },
  {
   "cell_type": "code",
   "execution_count": 69,
   "metadata": {
    "deletable": false,
    "editable": false,
    "nbgrader": {
     "checksum": "01ec5695630b0033034527841b2bdc01",
     "grade": true,
     "grade_id": "cell-22bba7a04540e005",
     "locked": true,
     "points": 1,
     "schema_version": 1,
     "solution": false
    }
   },
   "outputs": [],
   "source": [
    "G2 = Digraph()\n",
    "G2.nodes = ['A', 'B', 'C', 'D', 'E', 'F']\n",
    "G2.edges = {\n",
    "    'A':[('B', 7), ('C', 9), ('F', 14)],\n",
    "    'B':[('C', 10), ('D', 15)],\n",
    "    'C':[('D', 11), ('F', 2)],\n",
    "    'D':[('E', 6)],\n",
    "    'E':[],\n",
    "    'F':[('E', 9)],\n",
    "}\n",
    "\n",
    "assert dijkstra(G2, 'A', 'D') == 20\n",
    "assert dijkstra(G2, 'A', 'E') == 20\n",
    "assert dijkstra(G2, 'B', 'D') == 15\n",
    "assert dijkstra(G2, 'B', 'A') == 9999\n",
    "assert dijkstra(G2, 'C', 'E') == 11\n",
    "assert dijkstra(G2, 'E', 'A') == 9999\n",
    "assert dijkstra(G2, 'F', 'E') == 9"
   ]
  },
  {
   "cell_type": "code",
   "execution_count": null,
   "metadata": {},
   "outputs": [],
   "source": []
  }
 ],
 "metadata": {
  "kernelspec": {
   "display_name": "Python 3",
   "language": "python",
   "name": "python3"
  },
  "language_info": {
   "codemirror_mode": {
    "name": "ipython",
    "version": 3
   },
   "file_extension": ".py",
   "mimetype": "text/x-python",
   "name": "python",
   "nbconvert_exporter": "python",
   "pygments_lexer": "ipython3",
   "version": "3.6.5"
  }
 },
 "nbformat": 4,
 "nbformat_minor": 2
}
