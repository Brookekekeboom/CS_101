{
 "cells": [
  {
   "cell_type": "markdown",
   "metadata": {},
   "source": [
    "Before you turn this problem in, make sure everything runs as expected. First, **restart the kernel** (in the menubar, select Kernel$\\rightarrow$Restart) and then **run all cells** (in the menubar, select Cell$\\rightarrow$Run All).\n",
    "\n",
    "Make sure you fill in any place that says `YOUR CODE HERE` or \"YOUR ANSWER HERE\", as well as your name and collaborators below:"
   ]
  },
  {
   "cell_type": "code",
   "execution_count": null,
   "metadata": {},
   "outputs": [],
   "source": [
    "NAME = \"\"\n",
    "COLLABORATORS = \"\""
   ]
  },
  {
   "cell_type": "markdown",
   "metadata": {},
   "source": [
    "---"
   ]
  },
  {
   "cell_type": "markdown",
   "metadata": {
    "deletable": false,
    "editable": false,
    "nbgrader": {
     "checksum": "73f789b627147f6094600a4039dd9070",
     "grade": false,
     "grade_id": "cell-baa4e9eb2cc0c93f",
     "locked": true,
     "schema_version": 1,
     "solution": false
    }
   },
   "source": [
    "# Homework 14\n",
    "COMPSCI 101 spring 2019 Session 4, Duke Kunshan University\n",
    "\n",
    "Due: **April 5<sup>th</sup> 2019, 5 pm**"
   ]
  },
  {
   "cell_type": "markdown",
   "metadata": {
    "deletable": false,
    "editable": false,
    "nbgrader": {
     "checksum": "95c3268a9c218a8eaad7f71b342785b0",
     "grade": false,
     "grade_id": "cell-12cf363a5b0e121c",
     "locked": true,
     "schema_version": 1,
     "solution": false
    }
   },
   "source": [
    "# Problem 1\n",
    "\n",
    "Implement functions that will allow you to use the `heap` data structure. A new `heap` begins as a Python list with its 1<sup>st</sup> element set to `None`.\n",
    "\n",
    "The heap will be handled through two functions:\n",
    "\n",
    "(1) `insert` - takes a heap `h` and integer `val` as input and returns the heap with the integer inserted into the appropriate location of the heap.\n",
    "\n",
    "(2) `delete` - takes a heap `h` as input, returns the integer at the root, and deletes that integer from the heap."
   ]
  },
  {
   "cell_type": "code",
   "execution_count": 1,
   "metadata": {
    "deletable": false,
    "nbgrader": {
     "checksum": "0340462929e132936358bf673885c1c7",
     "grade": false,
     "grade_id": "cell-46c55fb5434e1162",
     "locked": false,
     "schema_version": 1,
     "solution": true
    }
   },
   "outputs": [],
   "source": [
    "def insert(h, val):\n",
    "    h.append(val)\n",
    "    index=len(h)-1\n",
    "    if len(h)>2:\n",
    "        while h[int(index/2)]<h[index]:\n",
    "            h[int(index/2)],h[index]=h[index],h[int(index/2)]\n",
    "            index=int(index/2)\n",
    "            if index==1:\n",
    "                break\n",
    "\n",
    "\n",
    "def delete(h):\n",
    "    root=h[1]\n",
    "    h[1],h[len(h)-1]=h[len(h)-1],h[1]\n",
    "    del(h[len(h)-1])\n",
    "    index=1\n",
    "    while index<=int(len(h)/2-1):\n",
    "        if h[2*index]<h[2*index+1]:\n",
    "            if h[index]<h[2*index+1]:\n",
    "                h[index],h[2*index+1]=h[2*index+1],h[index]\n",
    "                index=2*index+1\n",
    "            else:\n",
    "                break\n",
    "        elif h[2*index]>=h[2*index+1]:\n",
    "            if h[index]<=h[2*index]:\n",
    "                h[index],h[2*index]=h[2*index],h[index]\n",
    "                index=2*index\n",
    "            else:\n",
    "                break\n",
    "    if index==int((len(h)-1)/2):\n",
    "        if h[index]<h[2*index]:\n",
    "            h[index],h[2*index]=h[2*index],h[index]\n",
    "    return root"
   ]
  },
  {
   "cell_type": "code",
   "execution_count": 2,
   "metadata": {
    "deletable": false,
    "editable": false,
    "nbgrader": {
     "checksum": "550403bef759ce3270275414549717cc",
     "grade": true,
     "grade_id": "cell-344a8c6aab6688ff",
     "locked": true,
     "points": 1.5,
     "schema_version": 1,
     "solution": false
    }
   },
   "outputs": [],
   "source": [
    "heap = [None]\n",
    "insert(heap, 9)\n",
    "insert(heap, 8)\n",
    "insert(heap, 1)\n",
    "insert(heap, 3)\n",
    "insert(heap, 10)\n",
    "insert(heap, 5)\n",
    "assert heap == [None, 10, 9, 5, 3, 8, 1]\n",
    "val = delete(heap)\n",
    "assert val == 10\n",
    "assert heap == [None, 9, 8, 5, 3, 1]\n",
    "val = delete(heap)\n",
    "assert val == 9\n",
    "assert heap == [None, 8, 3, 5, 1]\n",
    "val = delete(heap)\n",
    "assert val == 8\n",
    "assert heap == [None, 5, 3, 1]"
   ]
  },
  {
   "cell_type": "markdown",
   "metadata": {
    "deletable": false,
    "editable": false,
    "nbgrader": {
     "checksum": "ca9988b6777f10c32a95690a98bad491",
     "grade": false,
     "grade_id": "cell-c04e0df4416e6644",
     "locked": true,
     "schema_version": 1,
     "solution": false
    }
   },
   "source": [
    "# Problem 2\n",
    "\n",
    "Implement the `heap_sort` function using the heap object you just defined."
   ]
  },
  {
   "cell_type": "code",
   "execution_count": 3,
   "metadata": {
    "deletable": false,
    "nbgrader": {
     "checksum": "08096f8b794f236aa154920ff6c03827",
     "grade": false,
     "grade_id": "cell-6192f39ec893f265",
     "locked": false,
     "schema_version": 1,
     "solution": true
    }
   },
   "outputs": [],
   "source": [
    "def heap_sort(L):\n",
    "    h=[None]\n",
    "    for val in L:\n",
    "        insert(h, val)\n",
    "    result=[]\n",
    "    while len(h)>=2:\n",
    "        result.append(delete(h))\n",
    "    return result"
   ]
  },
  {
   "cell_type": "code",
   "execution_count": 7,
   "metadata": {
    "deletable": false,
    "editable": false,
    "nbgrader": {
     "checksum": "09d01090a9c74d955501635f6cf8c78c",
     "grade": true,
     "grade_id": "cell-e77cdd3ef25cfb44",
     "locked": true,
     "points": 0.5,
     "schema_version": 1,
     "solution": false
    }
   },
   "outputs": [
    {
     "name": "stdout",
     "output_type": "stream",
     "text": [
      "11.6 ms ± 67.6 µs per loop (mean ± std. dev. of 7 runs, 100 loops each)\n"
     ]
    }
   ],
   "source": [
    "import random\n",
    "\n",
    "def generate_list(n, k):\n",
    "    return [random.randint(1,k) for i in range(n)]\n",
    "\n",
    "L = [4, 2, 1, 6, 8, 9, 2, 4, 5, 2, 3, 3]\n",
    "result = %timeit -o heap_sort(generate_list(1000,1000))\n",
    "assert heap_sort(L) == [9, 8, 6, 5, 4, 4, 3, 3, 2, 2, 2, 1]\n",
    "assert result.best < 0.03"
   ]
  },
  {
   "cell_type": "code",
   "execution_count": null,
   "metadata": {},
   "outputs": [],
   "source": []
  }
 ],
 "metadata": {
  "kernelspec": {
   "display_name": "Python 3",
   "language": "python",
   "name": "python3"
  },
  "language_info": {
   "codemirror_mode": {
    "name": "ipython",
    "version": 3
   },
   "file_extension": ".py",
   "mimetype": "text/x-python",
   "name": "python",
   "nbconvert_exporter": "python",
   "pygments_lexer": "ipython3",
   "version": "3.6.5"
  }
 },
 "nbformat": 4,
 "nbformat_minor": 2
}
