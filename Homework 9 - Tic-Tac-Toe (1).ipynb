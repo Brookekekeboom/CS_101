{
 "cells": [
  {
   "cell_type": "markdown",
   "metadata": {},
   "source": [
    "Before you turn this problem in, make sure everything runs as expected. First, **restart the kernel** (in the menubar, select Kernel$\\rightarrow$Restart) and then **run all cells** (in the menubar, select Cell$\\rightarrow$Run All).\n",
    "\n",
    "Make sure you fill in any place that says `YOUR CODE HERE` or \"YOUR ANSWER HERE\", as well as your name and collaborators below:"
   ]
  },
  {
   "cell_type": "code",
   "execution_count": null,
   "metadata": {},
   "outputs": [],
   "source": [
    "NAME = \"\"\n",
    "COLLABORATORS = \"\""
   ]
  },
  {
   "cell_type": "markdown",
   "metadata": {},
   "source": [
    "---"
   ]
  },
  {
   "cell_type": "markdown",
   "metadata": {
    "deletable": false,
    "editable": false,
    "nbgrader": {
     "checksum": "e8c79cd5f45ac275bb3ac1e32622a641",
     "grade": false,
     "grade_id": "cell-baa4e9eb2cc0c93f",
     "locked": true,
     "schema_version": 1,
     "solution": false
    }
   },
   "source": [
    "# Homework 9\n",
    "COMPSCI 101 spring 2019 Session 4, Duke Kunshan University\n",
    "\n",
    "Due: **March 27<sup>th</sup> 2019, 5 pm**"
   ]
  },
  {
   "cell_type": "markdown",
   "metadata": {
    "deletable": false,
    "editable": false,
    "nbgrader": {
     "checksum": "9e4ca78f6af9699ebf5f8c28ad49e8ac",
     "grade": false,
     "grade_id": "cell-516f29a2b4f721e2",
     "locked": true,
     "schema_version": 1,
     "solution": false
    }
   },
   "source": [
    "# TIC-TAC-TOE\n",
    "\n",
    "**Tic-Tac-Toe** is a game for two players who take turns marking spaces in a $3x3$ grid. One player uses 'X' to mark spaces and the other player uses 'O' to mark spaces. The player who succeeds in placing three of their marks in a horizontal, vertical, or diagonal row wins the game. If all the spaces are marked and there is no winner, the game is a draw.\n",
    "\n",
    "In this homework assignment you will implement three functions that are self-contained and can be used as parts of an overall program that let's one play Tic-Tac-Toe.\n",
    "\n",
    "Wikipedia: https://en.wikipedia.org/wiki/Tic-tac-toe"
   ]
  },
  {
   "cell_type": "markdown",
   "metadata": {
    "deletable": false,
    "editable": false,
    "nbgrader": {
     "checksum": "031be83bf773063174bf316c5f64476e",
     "grade": false,
     "grade_id": "cell-12cf363a5b0e121c",
     "locked": true,
     "schema_version": 1,
     "solution": false
    }
   },
   "source": [
    "# Problem 1: Display Grid\n",
    "\n",
    "Write a function called `display_grid` that takes a one-dimensional list `L` that contain 'X's, 'O's, or ' 's, and an integer `r` that represents the number of rows. This function will return a string with proper formatting escape characters that can be printed as a 2-dimensional matrix with `r` rows.\n",
    "\n",
    "** You can assume that the length of `L` is evenly divisible by `r`. So when `L` has 12 elements and `r` is 4, `display_grid` will return a string that, when printed, will display a 4 x 3 matrix.\n",
    "\n",
    "<pre>\n",
    "display_grid(['X','O','X',' ',' ','X','O','O',' '],3)\n",
    "\n",
    "'-----------------\\n| X | O | X |   |\\n-----------------\\n|   | X | O | O |\\n-----------------\\n|   |   |   | X |\\n-----------------'\n",
    "\n",
    "print(display_grid(['X','O','X',' ',' ','X','O','O',' '],3))\n",
    "\n",
    "-------------\n",
    "| X | O | X |\n",
    "-------------\n",
    "|   |   | X |\n",
    "-------------\n",
    "| O | O |   |\n",
    "-------------\n",
    "</pre>"
   ]
  },
  {
   "cell_type": "code",
   "execution_count": 6,
   "metadata": {
    "deletable": false,
    "nbgrader": {
     "checksum": "09514d98d0ac585c5672784546b2cdc4",
     "grade": false,
     "grade_id": "cell-46c55fb5434e1162",
     "locked": false,
     "schema_version": 1,
     "solution": true
    }
   },
   "outputs": [],
   "source": [
    "def display_grid(L, r):\n",
    "    each_row=int(len(L)/r)\n",
    "    length_row=4*each_row+1\n",
    "    result=['-'*length_row]\n",
    "    body=[]\n",
    "    for item in L:\n",
    "        body.append('| '+item+' |')\n",
    "    modified_body=[]\n",
    "    if body !=[]:\n",
    "        for i in range(r):\n",
    "            modified_body.append(body[0:each_row])\n",
    "            del(body[0:each_row])\n",
    "# row=[]\n",
    "# all_row=[]\n",
    "# for i in L:\n",
    "#     row.append(L[i])\n",
    "#     if (i+1)%each_row==0:\n",
    "#         all_rows.append(row)\n",
    "#         row=[]\n",
    "\n",
    "    MB=[]\n",
    "    for item in modified_body:\n",
    "        MB.append(''.join(item))\n",
    "    new_MB=[]\n",
    "    for string in MB:\n",
    "        new_MB.append(string.replace('||','|'))\n",
    "    for item in new_MB:\n",
    "        result.append('\\n'+item+'\\n'+'-'*length_row)\n",
    "            \n",
    "    return ''.join(result)"
   ]
  },
  {
   "cell_type": "code",
   "execution_count": 7,
   "metadata": {
    "deletable": false,
    "editable": false,
    "nbgrader": {
     "checksum": "35b0a1d5a5e713cbf2216137051b594d",
     "grade": true,
     "grade_id": "cell-344a8c6aab6688ff",
     "locked": true,
     "points": 1,
     "schema_version": 1,
     "solution": false
    }
   },
   "outputs": [],
   "source": [
    "assert display_grid(['X','O','X',' ',' ','X','O','O',' '],3) == '-------------\\n| X | O | X |\\n-------------\\n|   |   | X |\\n-------------\\n| O | O |   |\\n-------------'\n",
    "assert display_grid(['X','O','X',' ',' ','X','O','O',' ','O','X',' '],3) == '-----------------\\n| X | O | X |   |\\n-----------------\\n|   | X | O | O |\\n-----------------\\n|   | O | X |   |\\n-----------------'\n",
    "assert display_grid(['X','O','X',' ',' ','X','O','O',' ','O','X',' '],4) == '-------------\\n| X | O | X |\\n-------------\\n|   |   | X |\\n-------------\\n| O | O |   |\\n-------------\\n| O | X |   |\\n-------------'"
   ]
  },
  {
   "cell_type": "markdown",
   "metadata": {
    "deletable": false,
    "editable": false,
    "nbgrader": {
     "checksum": "c725bbf44b309939abdcbc1370d45dae",
     "grade": false,
     "grade_id": "cell-c04e0df4416e6644",
     "locked": true,
     "schema_version": 1,
     "solution": false
    }
   },
   "source": [
    "# Problem 2: Check for Winner\n",
    "\n",
    "Write a function called `is_winner` that takes a one-dimensional list `L` that contains 'X's, 'O's, or ' 's, and a 1-character string `player` that is either an 'X' or an 'O'. This function will return a boolean value - `True` if `player` won and `False` otherwise."
   ]
  },
  {
   "cell_type": "code",
   "execution_count": null,
   "metadata": {
    "deletable": false,
    "nbgrader": {
     "checksum": "194405fe951aea72a6ff3bf08b808ba1",
     "grade": false,
     "grade_id": "cell-6192f39ec893f265",
     "locked": false,
     "schema_version": 1,
     "solution": true
    }
   },
   "outputs": [],
   "source": [
    "def is_winner(L, player):\n",
    "    for i in range(0,3):\n",
    "        if L[i]==L[i+3]==L[i+6]==player:\n",
    "            return True\n",
    "    if L[0]==L[4]==L[8]==player:\n",
    "        return True\n",
    "    if L[2]==L[4]==L[6]==player:\n",
    "        return True\n",
    "    return False"
   ]
  },
  {
   "cell_type": "code",
   "execution_count": null,
   "metadata": {
    "deletable": false,
    "editable": false,
    "nbgrader": {
     "checksum": "4c05e5e6461b8e65b049e89c4c2593ab",
     "grade": true,
     "grade_id": "cell-e77cdd3ef25cfb44",
     "locked": true,
     "points": 0.5,
     "schema_version": 1,
     "solution": false
    }
   },
   "outputs": [],
   "source": [
    "assert is_winner(['X','O','X',' ',' ','X','O','O',' '], 'X') == False\n",
    "assert is_winner(['X','O','X',' ',' ','X','O','O','X'], 'X') == True\n",
    "assert is_winner(['X','O','X',' ',' ','X','O','O','X'], 'O') == False\n",
    "assert is_winner(['X','O','O','X','O','X','O','O','X'], 'O') == True\n",
    "assert is_winner(['X','O','O','X','O','X','X','O','X'], 'X') == True\n",
    "assert is_winner(['X','O','O','X','O','X','X','O','X'], 'O') == True"
   ]
  },
  {
   "cell_type": "markdown",
   "metadata": {
    "deletable": false,
    "editable": false,
    "nbgrader": {
     "checksum": "31ced239cc0c1e6622c800f37119fa6d",
     "grade": false,
     "grade_id": "cell-063ac5d34ed865a8",
     "locked": true,
     "schema_version": 1,
     "solution": false
    }
   },
   "source": [
    "# Problem 3: Possible Moves\n",
    "\n",
    "Write a function called `possible_moves` that takes a one-dimensional list `L` that contains 'X's, 'O's, or ' 's. This function returns a list of empty positions in the grid.\n",
    "\n",
    "** Positions correspond to the numbers in the following grid:\n",
    "\n",
    "<pre>\n",
    "-------------\n",
    "| 0 | 1 | 2 |\n",
    "-------------\n",
    "| 3 | 4 | 5 |\n",
    "-------------\n",
    "| 6 | 7 | 8 |\n",
    "-------------\n",
    "</pre>"
   ]
  },
  {
   "cell_type": "code",
   "execution_count": null,
   "metadata": {
    "deletable": false,
    "nbgrader": {
     "checksum": "06af03d4183055b7d67350968759f190",
     "grade": false,
     "grade_id": "cell-605908b0deafec1e",
     "locked": false,
     "schema_version": 1,
     "solution": true
    }
   },
   "outputs": [],
   "source": [
    "def possible_moves(L):\n",
    "    result=[]\n",
    "    for i in range(len(L)):\n",
    "        if L[i]==' ':\n",
    "            result.append(i)\n",
    "    return result"
   ]
  },
  {
   "cell_type": "code",
   "execution_count": null,
   "metadata": {
    "deletable": false,
    "editable": false,
    "nbgrader": {
     "checksum": "272b2a63869760fc4939c3948b1f32c4",
     "grade": true,
     "grade_id": "cell-dda05966fb20db3c",
     "locked": true,
     "points": 0.5,
     "schema_version": 1,
     "solution": false
    }
   },
   "outputs": [],
   "source": [
    "assert possible_moves(['X','O','X',' ',' ','X','O','O','X']) == [3, 4]\n",
    "assert possible_moves([' ',' ',' ',' ',' ','X','O',' ',' ']) == [0, 1, 2, 3, 4, 7, 8]\n",
    "assert possible_moves([' ',' ',' ',' ',' ',' ',' ',' ',' ']) == [0, 1, 2, 3, 4, 5, 6, 7, 8]\n",
    "assert possible_moves(['X','O','X','O','X','X','O','O','X']) == []"
   ]
  }
 ],
 "metadata": {
  "kernelspec": {
   "display_name": "Python 3",
   "language": "python",
   "name": "python3"
  },
  "language_info": {
   "codemirror_mode": {
    "name": "ipython",
    "version": 3
   },
   "file_extension": ".py",
   "mimetype": "text/x-python",
   "name": "python",
   "nbconvert_exporter": "python",
   "pygments_lexer": "ipython3",
   "version": "3.6.5"
  }
 },
 "nbformat": 4,
 "nbformat_minor": 2
}
