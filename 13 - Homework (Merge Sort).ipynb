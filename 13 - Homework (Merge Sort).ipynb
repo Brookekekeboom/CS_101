{
 "cells": [
  {
   "cell_type": "markdown",
   "metadata": {},
   "source": [
    "Before you turn this problem in, make sure everything runs as expected. First, **restart the kernel** (in the menubar, select Kernel$\\rightarrow$Restart) and then **run all cells** (in the menubar, select Cell$\\rightarrow$Run All).\n",
    "\n",
    "Make sure you fill in any place that says `YOUR CODE HERE` or \"YOUR ANSWER HERE\", as well as your name and collaborators below:"
   ]
  },
  {
   "cell_type": "code",
   "execution_count": null,
   "metadata": {},
   "outputs": [],
   "source": [
    "NAME = \"\"\n",
    "COLLABORATORS = \"\""
   ]
  },
  {
   "cell_type": "markdown",
   "metadata": {},
   "source": [
    "---"
   ]
  },
  {
   "cell_type": "markdown",
   "metadata": {
    "deletable": false,
    "editable": false,
    "nbgrader": {
     "checksum": "7c78be72fec35ad6aacef44b860241bb",
     "grade": false,
     "grade_id": "cell-baa4e9eb2cc0c93f",
     "locked": true,
     "schema_version": 1,
     "solution": false
    }
   },
   "source": [
    "# Homework 13\n",
    "COMPSCI 101 spring 2019 Session 4, Duke Kunshan University\n",
    "\n",
    "Due: **April 4<sup>th</sup> 2019, 5 pm**"
   ]
  },
  {
   "cell_type": "markdown",
   "metadata": {
    "deletable": false,
    "editable": false,
    "nbgrader": {
     "checksum": "54628cb0854809d7b008493dbf76b322",
     "grade": false,
     "grade_id": "cell-12cf363a5b0e121c",
     "locked": true,
     "schema_version": 1,
     "solution": false
    }
   },
   "source": [
    "# Problem 1\n",
    "\n",
    "Implement the `merge` function that will be used in implementing the `merge_sort` function. This function takes two sorted lists of integers, `L1` and `L2`, as inputs and returns a sorted list of the two lists combined."
   ]
  },
  {
   "cell_type": "code",
   "execution_count": 1,
   "metadata": {
    "deletable": false,
    "nbgrader": {
     "checksum": "2a35c8c6c7feafc6e1b0fe84bbed8d03",
     "grade": false,
     "grade_id": "cell-46c55fb5434e1162",
     "locked": false,
     "schema_version": 1,
     "solution": true
    }
   },
   "outputs": [],
   "source": [
    "def merge(L1, L2):\n",
    "    result=[]\n",
    "    while L1!=[] and L2!=[]:\n",
    "        if L1[0]<=L2[0]:\n",
    "            result.append(L1[0])\n",
    "            del(L1[0])\n",
    "        else:\n",
    "            result.append(L2[0])\n",
    "            del(L2[0])\n",
    "    result=result+L1+L2\n",
    "    return result"
   ]
  },
  {
   "cell_type": "code",
   "execution_count": 2,
   "metadata": {
    "deletable": false,
    "editable": false,
    "nbgrader": {
     "checksum": "efadf7a7c15802f0840574bbd8165038",
     "grade": true,
     "grade_id": "cell-344a8c6aab6688ff",
     "locked": true,
     "points": 0.5,
     "schema_version": 1,
     "solution": false
    }
   },
   "outputs": [],
   "source": [
    "assert merge([1, 5, 6, 9],[1, 2, 4, 8]) == [1, 1, 2, 4, 5, 6, 8, 9]\n",
    "assert merge([1,2,3],[]) == [1, 2, 3]\n",
    "assert merge([],[1,2,3]) == [1, 2, 3]"
   ]
  },
  {
   "cell_type": "markdown",
   "metadata": {
    "deletable": false,
    "editable": false,
    "nbgrader": {
     "checksum": "383b784b5d74127d6069c253fa21b445",
     "grade": false,
     "grade_id": "cell-c04e0df4416e6644",
     "locked": true,
     "schema_version": 1,
     "solution": false
    }
   },
   "source": [
    "# Problem 2\n",
    "\n",
    "Implement the `merge_sort` function. It takes a list of integers `L` and returns a sorted list of the same integers. This function recursively divides `L` in half and runs `merge_sort` on each half, then uses `merge` to combine the two sorted halves."
   ]
  },
  {
   "cell_type": "code",
   "execution_count": 8,
   "metadata": {
    "deletable": false,
    "nbgrader": {
     "checksum": "9071f40ca0198e5a64909af588107aa8",
     "grade": false,
     "grade_id": "cell-6192f39ec893f265",
     "locked": false,
     "schema_version": 1,
     "solution": true
    }
   },
   "outputs": [],
   "source": [
    "def merge_sort(L):\n",
    "    if len(L)==1:\n",
    "        return L\n",
    "    else:\n",
    "        d1=L[:int(len(L)/2)]\n",
    "        d2=L[int(len(L)/2):]\n",
    "        return merge(merge_sort(d1),merge_sort(d2))"
   ]
  },
  {
   "cell_type": "code",
   "execution_count": 9,
   "metadata": {
    "deletable": false,
    "editable": false,
    "nbgrader": {
     "checksum": "425a63ec6237887afe13b08528866b28",
     "grade": true,
     "grade_id": "cell-e77cdd3ef25cfb44",
     "locked": true,
     "points": 0.5,
     "schema_version": 1,
     "solution": false
    }
   },
   "outputs": [
    {
     "name": "stdout",
     "output_type": "stream",
     "text": [
      "6.06 ms ± 24.2 µs per loop (mean ± std. dev. of 7 runs, 100 loops each)\n"
     ]
    }
   ],
   "source": [
    "import random\n",
    "\n",
    "def generate_list(n, k):\n",
    "    return [random.randint(1,k) for i in range(n)]\n",
    "\n",
    "result = %timeit -o merge_sort(generate_list(1000,1000))\n",
    "assert result.best < 0.01\n",
    "assert merge_sort([4, 2, 1, 9, 3, 9, 2, 3, 5, 6, 3, 4, 9, 11]) == [1, 2, 2, 3, 3, 3, 4, 4, 5, 6, 9, 9, 9, 11]"
   ]
  },
  {
   "cell_type": "markdown",
   "metadata": {
    "deletable": false,
    "editable": false,
    "nbgrader": {
     "checksum": "91a0e26e396ff1b25e8ba5180bb26102",
     "grade": false,
     "grade_id": "cell-b00500784e56f106",
     "locked": true,
     "schema_version": 1,
     "solution": false
    }
   },
   "source": [
    "# Problem 3\n",
    "\n",
    "Use your implementation of `comb_sort` (as described in class and issued for the most recent assignment) and check, using timing functions, which `shrink factor k` value works most efficiently: 1.1, 1.3, or 1.5?\n",
    "\n",
    "To select a value simply delete the BEST_K assignment statements you don't want.\n",
    "\n",
    "**hint**:\n",
    "<ul>\n",
    "<li>When you devise test cases be sure that **every** time `comb_sort` is executed it is given a **new** list of randomly ordered integers.\n",
    "<li>Be sure to use tests of sufficiently large lists (at least 1,000 elements)\n",
    "</ul>"
   ]
  },
  {
   "cell_type": "code",
   "execution_count": 13,
   "metadata": {
    "deletable": false,
    "nbgrader": {
     "checksum": "f6613daf92585c93958ed3320a8312e9",
     "grade": false,
     "grade_id": "cell-10e89ce14c311ec1",
     "locked": false,
     "schema_version": 1,
     "solution": true
    }
   },
   "outputs": [
    {
     "name": "stdout",
     "output_type": "stream",
     "text": [
      "6.18 ms ± 64.4 µs per loop (mean ± std. dev. of 7 runs, 100 loops each)\n",
      "4.21 ms ± 44.1 µs per loop (mean ± std. dev. of 7 runs, 100 loops each)\n",
      "9.26 ms ± 420 µs per loop (mean ± std. dev. of 7 runs, 100 loops each)\n"
     ]
    }
   ],
   "source": [
    "def comb_sort(L, k):\n",
    "    gap=len(L)-1\n",
    "    while gap>=1:\n",
    "        for i in range(0,len(L)-gap):\n",
    "            if L[i]>L[i+gap]:\n",
    "                L[i],L[i+gap]=L[i+gap],L[i]\n",
    "        gap=int(gap/k)\n",
    "    \n",
    "    while True:\n",
    "        break_or_not=1\n",
    "        for i in range(len(L)-1):\n",
    "            if L[i]>L[i+1]:\n",
    "                L[i],L[i+1]=L[i+1],L[i]\n",
    "                break_or_not=0\n",
    "        if break_or_not==1:\n",
    "            break\n",
    "    return L \n",
    "\n",
    "### SELECT YOUR ANSWER BY REMOVING THE OTHER TWO ASSIGNMENTS\n",
    "\n",
    "BEST_K = 1.3\n",
    "\n",
    "import random\n",
    "\n",
    "def generate_list(lenth, maximum):\n",
    "    return [random.randint(1,maximum) for i in range(lenth)]\n",
    "\n",
    "k1_1=%timeit comb_sort(generate_list(1000,100),1.1)\n",
    "k1_3=%timeit comb_sort(generate_list(1000,100),1.3)\n",
    "k1_5=%timeit comb_sort(generate_list(1000,100),1.5)"
   ]
  },
  {
   "cell_type": "code",
   "execution_count": null,
   "metadata": {
    "deletable": false,
    "editable": false,
    "nbgrader": {
     "checksum": "e36a30890f1cfc9fb1aa23395c31eb43",
     "grade": true,
     "grade_id": "cell-3eef655e969a4e9c",
     "locked": true,
     "points": 1,
     "schema_version": 1,
     "solution": false
    }
   },
   "outputs": [],
   "source": [
    "# There is a hidden test here"
   ]
  }
 ],
 "metadata": {
  "kernelspec": {
   "display_name": "Python 3",
   "language": "python",
   "name": "python3"
  },
  "language_info": {
   "codemirror_mode": {
    "name": "ipython",
    "version": 3
   },
   "file_extension": ".py",
   "mimetype": "text/x-python",
   "name": "python",
   "nbconvert_exporter": "python",
   "pygments_lexer": "ipython3",
   "version": "3.6.5"
  }
 },
 "nbformat": 4,
 "nbformat_minor": 2
}
