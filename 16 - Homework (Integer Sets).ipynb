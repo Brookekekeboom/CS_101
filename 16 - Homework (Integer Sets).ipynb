{
 "cells": [
  {
   "cell_type": "markdown",
   "metadata": {},
   "source": [
    "Before you turn this problem in, make sure everything runs as expected. First, **restart the kernel** (in the menubar, select Kernel$\\rightarrow$Restart) and then **run all cells** (in the menubar, select Cell$\\rightarrow$Run All).\n",
    "\n",
    "Make sure you fill in any place that says `YOUR CODE HERE` or \"YOUR ANSWER HERE\", as well as your name and collaborators below:"
   ]
  },
  {
   "cell_type": "code",
   "execution_count": null,
   "metadata": {},
   "outputs": [],
   "source": [
    "NAME = \"\"\n",
    "COLLABORATORS = \"\""
   ]
  },
  {
   "cell_type": "markdown",
   "metadata": {},
   "source": [
    "---"
   ]
  },
  {
   "cell_type": "markdown",
   "metadata": {
    "deletable": false,
    "editable": false,
    "nbgrader": {
     "checksum": "c383855ab4bcf466a3946eadf307cf4f",
     "grade": false,
     "grade_id": "cell-baa4e9eb2cc0c93f",
     "locked": true,
     "schema_version": 1,
     "solution": false
    }
   },
   "source": [
    "# Homework 16\n",
    "COMPSCI 101 spring 2019 Session 4, Duke Kunshan University\n",
    "\n",
    "Due: **April 10<sup>th</sup> 2019, 5 pm**"
   ]
  },
  {
   "cell_type": "markdown",
   "metadata": {
    "deletable": false,
    "editable": false,
    "nbgrader": {
     "checksum": "e0aaf489154f06eb67be9663c96da954",
     "grade": false,
     "grade_id": "cell-3d6ef25eb3610afa",
     "locked": true,
     "schema_version": 1,
     "solution": false
    }
   },
   "source": [
    "# Problem 1\n",
    "\n",
    "Implement the `IntegerSet` class that can contain integers in the range 0 through 100. Represent the set internally as a list `set` of `boolean` values. Element `set[i]` is `True` if integer `i` is in the set. Element `set[i]` is `False` if integer `i` is not in the set. The default constructor initializes the `set` to the so-called 'empty set,' i.e., a set for which all the elements are `False`.\n",
    "\n",
    "This class should also have the following methods:\n",
    "\n",
    "`unionOfSets`: updates the current set with the set-theoretic union of itself and another set (i.e., an element of the result is set to `True` if that element is `True` in either or both of the existing sets, and an element of the result is set to `False` if that element is `False` in both of the existing sets).\n",
    "\n",
    "`intersectionOfSets`: updates the current set with the set-theoretic intersection of itself and another set (i.e., an element of the result is set to `False` if that element is `False` in either or both of the existing sets, and an element of the result is set to `True` if that element is `True` in each of the existing sets).\n",
    "\n",
    "`insertElement`: inserts an integer `k` by setting `set[k]` to `True`.\n",
    "\n",
    "`deleteElement`: deletes an integer `k` by setting `set[k]` to `False`.\n",
    "\n",
    "`__str__`: formats the set as a list of numbers separated by spaces. If the set is empty then return `-`."
   ]
  },
  {
   "cell_type": "code",
   "execution_count": 56,
   "metadata": {
    "deletable": false,
    "nbgrader": {
     "checksum": "f1cccf9f8eeda9720d58fd3414958373",
     "grade": false,
     "grade_id": "cell-46c55fb5434e1162",
     "locked": false,
     "schema_version": 1,
     "solution": true
    }
   },
   "outputs": [],
   "source": [
    "class IntegerSet1:\n",
    "    \n",
    "    def __init__(self):\n",
    "        self.set = [False for i in range(101)]\n",
    "        \n",
    "    def unionOfSets(self,other):\n",
    "        for i in range(101):\n",
    "            if other.set[i]==True and self.set[i]==False:\n",
    "                self.set[i]=True\n",
    "                \n",
    "    def intersectionOfSets(self,other):\n",
    "        for i in range(101):\n",
    "            if other.set[i]==False and self.set[i]==True:\n",
    "                self.set[i]=False\n",
    "                \n",
    "    def insertElement(self,k):\n",
    "        self.set[k]=True\n",
    "    \n",
    "    def deleteElement(self,k):\n",
    "        self.set[k]=False\n",
    "        \n",
    "    def __str__(self):\n",
    "        if True not in self.set:\n",
    "            return 'IntegerSet: -'\n",
    "        else:\n",
    "            result=''\n",
    "            for i in range(101):\n",
    "                if self.set[i]==True:\n",
    "                    result=result+' '+str(i)\n",
    "            return 'IntegerSet:'+ result\n",
    "    \n",
    "    def __getitem__(self,i):\n",
    "        return self.set[i]"
   ]
  },
  {
   "cell_type": "code",
   "execution_count": 57,
   "metadata": {
    "deletable": false,
    "editable": false,
    "nbgrader": {
     "checksum": "cfdc76dd982f2a1de2467dc67c867a17",
     "grade": true,
     "grade_id": "cell-b1b12dbb4976108d",
     "locked": true,
     "points": 1,
     "schema_version": 1,
     "solution": false
    }
   },
   "outputs": [],
   "source": [
    "a = IntegerSet1()\n",
    "a.set == [False for i in range(101)]\n",
    "assert str(a) == 'IntegerSet: -'\n",
    "\n",
    "for i in range(101):\n",
    "    assert a[i] == False\n",
    "\n",
    "for i in range(0, 101, 2):\n",
    "    a.insertElement(i)\n",
    "    \n",
    "for i in range(101):\n",
    "    assert a[i] == (i%2==0)\n",
    "\n",
    "assert str(a) == 'IntegerSet: 0 2 4 6 8 10 12 14 16 18 20 22 24 26 28 30 32 34 36 38 40 42 44 46 48 50 52 54 56 58 60 62 64 66 68 70 72 74 76 78 80 82 84 86 88 90 92 94 96 98 100'\n",
    "\n",
    "for i in range(50, 101):\n",
    "    a.deleteElement(i)\n",
    "\n",
    "assert str(a) == 'IntegerSet: 0 2 4 6 8 10 12 14 16 18 20 22 24 26 28 30 32 34 36 38 40 42 44 46 48'\n",
    "\n",
    "b = IntegerSet1()\n",
    "for i in range(0, 50, 3):\n",
    "    b.insertElement(i)\n",
    "\n",
    "assert str(b) == 'IntegerSet: 0 3 6 9 12 15 18 21 24 27 30 33 36 39 42 45 48'\n",
    "\n",
    "a.unionOfSets(b)\n",
    "assert str(a) == 'IntegerSet: 0 2 3 4 6 8 9 10 12 14 15 16 18 20 21 22 24 26 27 28 30 32 33 34 36 38 39 40 42 44 45 46 48'\n",
    "\n",
    "a.intersectionOfSets(b)\n",
    "assert str(a) == 'IntegerSet: 0 3 6 9 12 15 18 21 24 27 30 33 36 39 42 45 48'"
   ]
  },
  {
   "cell_type": "markdown",
   "metadata": {
    "deletable": false,
    "editable": false,
    "nbgrader": {
     "checksum": "2801678675eb1558f48adfa2ceaa5de0",
     "grade": false,
     "grade_id": "cell-dfd271f868973ff9",
     "locked": true,
     "schema_version": 1,
     "solution": false
    }
   },
   "source": [
    "# Problem 2\n",
    "\n",
    "Implement the `IntegerSet` class with a list of integers."
   ]
  },
  {
   "cell_type": "code",
   "execution_count": 69,
   "metadata": {
    "deletable": false,
    "nbgrader": {
     "checksum": "3783a32adb6c9a1263d78d7e97e10361",
     "grade": false,
     "grade_id": "cell-26254032e02425bf",
     "locked": false,
     "schema_version": 1,
     "solution": true
    }
   },
   "outputs": [],
   "source": [
    "class IntegerSet2:\n",
    "    def __init__(self):\n",
    "        self.set = []\n",
    "    \n",
    "    def unionOfSets(self,other):\n",
    "        result=[]\n",
    "        for i in range(101):\n",
    "            if i in self.set or i in other.set:\n",
    "                result.append(i)\n",
    "        a.set=result\n",
    "                \n",
    "    def intersectionOfSets(self,other):\n",
    "        Result=[]\n",
    "        for i in range(101):\n",
    "            if i in self.set and i in other.set:\n",
    "                Result.append(i)\n",
    "        a.set=Result\n",
    "                \n",
    "    def insertElement(self,k):\n",
    "        self.set.append(k)\n",
    "    \n",
    "    def deleteElement(self,k):\n",
    "        if k in self.set:\n",
    "            self.set.remove(k)\n",
    "        \n",
    "    def __str__(self):\n",
    "        if len(self.set)==0:\n",
    "            return 'IntegerSet: -'\n",
    "        else:\n",
    "            result=''\n",
    "            for num in self.set:\n",
    "                result=result+' '+str(num)\n",
    "            return 'IntegerSet:'+ result \n",
    "        \n",
    "    def __getitem__(self,i):\n",
    "        if i in self.set:\n",
    "            return True\n",
    "        else:\n",
    "            return False"
   ]
  },
  {
   "cell_type": "code",
   "execution_count": 70,
   "metadata": {
    "deletable": false,
    "editable": false,
    "nbgrader": {
     "checksum": "3c31232392572281a3887c5f7b7b9ca8",
     "grade": true,
     "grade_id": "cell-68689597d1269994",
     "locked": true,
     "points": 1,
     "schema_version": 1,
     "solution": false
    }
   },
   "outputs": [],
   "source": [
    "a = IntegerSet2()\n",
    "a.set == []\n",
    "assert str(a) == 'IntegerSet: -'\n",
    "\n",
    "for i in range(101):\n",
    "    assert a[i] == False\n",
    "\n",
    "for i in range(0, 101, 2):\n",
    "    a.insertElement(i)\n",
    "    \n",
    "for i in range(101):\n",
    "    assert a[i] == (i%2==0)\n",
    "\n",
    "assert str(a) == 'IntegerSet: 0 2 4 6 8 10 12 14 16 18 20 22 24 26 28 30 32 34 36 38 40 42 44 46 48 50 52 54 56 58 60 62 64 66 68 70 72 74 76 78 80 82 84 86 88 90 92 94 96 98 100'\n",
    "\n",
    "for i in range(50, 101):\n",
    "    a.deleteElement(i)\n",
    "\n",
    "assert str(a) == 'IntegerSet: 0 2 4 6 8 10 12 14 16 18 20 22 24 26 28 30 32 34 36 38 40 42 44 46 48'\n",
    "\n",
    "b = IntegerSet2()\n",
    "for i in range(0, 50, 3):\n",
    "    b.insertElement(i)\n",
    "\n",
    "assert str(b) == 'IntegerSet: 0 3 6 9 12 15 18 21 24 27 30 33 36 39 42 45 48'\n",
    "\n",
    "a.unionOfSets(b)\n",
    "assert str(a) == 'IntegerSet: 0 2 3 4 6 8 9 10 12 14 15 16 18 20 21 22 24 26 27 28 30 32 33 34 36 38 39 40 42 44 45 46 48'\n",
    "\n",
    "a.intersectionOfSets(b)\n",
    "assert str(a) == 'IntegerSet: 0 3 6 9 12 15 18 21 24 27 30 33 36 39 42 45 48'"
   ]
  },
  {
   "cell_type": "code",
   "execution_count": null,
   "metadata": {},
   "outputs": [],
   "source": []
  }
 ],
 "metadata": {
  "kernelspec": {
   "display_name": "Python 3",
   "language": "python",
   "name": "python3"
  },
  "language_info": {
   "codemirror_mode": {
    "name": "ipython",
    "version": 3
   },
   "file_extension": ".py",
   "mimetype": "text/x-python",
   "name": "python",
   "nbconvert_exporter": "python",
   "pygments_lexer": "ipython3",
   "version": "3.6.5"
  }
 },
 "nbformat": 4,
 "nbformat_minor": 2
}
