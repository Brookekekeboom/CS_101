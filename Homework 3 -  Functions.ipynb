{
 "cells": [
  {
   "cell_type": "markdown",
   "metadata": {},
   "source": [
    "Before you turn this problem in, make sure everything runs as expected. First, **restart the kernel** (in the menubar, select Kernel$\\rightarrow$Restart) and then **run all cells** (in the menubar, select Cell$\\rightarrow$Run All).\n",
    "\n",
    "Make sure you fill in any place that says `YOUR CODE HERE` or \"YOUR ANSWER HERE\", as well as your name and collaborators below:"
   ]
  },
  {
   "cell_type": "code",
   "execution_count": null,
   "metadata": {},
   "outputs": [],
   "source": [
    "NAME = \"Xuchen Gong\"\n",
    "COLLABORATORS = \"Ran Ju\""
   ]
  },
  {
   "cell_type": "markdown",
   "metadata": {},
   "source": [
    "---"
   ]
  },
  {
   "cell_type": "markdown",
   "metadata": {
    "deletable": false,
    "editable": false,
    "nbgrader": {
     "checksum": "1f4b78aae057c1ef92fdc07dd8c072c1",
     "grade": false,
     "grade_id": "cell-baa4e9eb2cc0c93f",
     "locked": true,
     "schema_version": 1,
     "solution": false
    }
   },
   "source": [
    "# Homework 3\n",
    "COMPSCI 101 spring 2019 Session 4, Duke Kunshan University\n",
    "\n",
    "Due: **March 15<sup>th</sup> 2019, 5 pm**"
   ]
  },
  {
   "cell_type": "markdown",
   "metadata": {
    "deletable": false,
    "editable": false,
    "nbgrader": {
     "checksum": "5fbc2591858257807d67b59dc2a92e8c",
     "grade": false,
     "grade_id": "cell-12cf363a5b0e121c",
     "locked": true,
     "schema_version": 1,
     "solution": false
    }
   },
   "source": [
    "# Problem 1\n",
    "\n",
    "A reporter had interviews with many students at DKU. He made notes of these students' personal information. However, his notes are a mess. Could you please standardize his notes?"
   ]
  },
  {
   "cell_type": "code",
   "execution_count": 78,
   "metadata": {
    "deletable": false,
    "editable": false,
    "nbgrader": {
     "checksum": "fabcbf12c85b8cbd189ebdf456b9fada",
     "grade": false,
     "grade_id": "cell-46c55fb5434e1162",
     "locked": true,
     "schema_version": 1,
     "solution": false
    }
   },
   "outputs": [],
   "source": [
    "student1 = 'student1@dukekunshan.edu.cn,23,cHINESE'\n",
    "student2 = 'student2@dku,datA science,16'\n",
    "student3 = '17,computer science,student3@DKU'\n",
    "student4 = 'student4@dukekunshan.edu.cn,29,cHINeSE'\n",
    "student5 = 'student5@dku,english,16'\n",
    "student6 = '19,computer science,student6@DKU'\n",
    "student7 = 'student7@dukekunshan.edu.cn,28,computer SCIENCE'\n",
    "student8 = 'student8@dku,data science,27'\n",
    "student9 = '17,COMPUter science,student9@DKU'"
   ]
  },
  {
   "cell_type": "markdown",
   "metadata": {
    "deletable": false,
    "editable": false,
    "nbgrader": {
     "checksum": "bd55b8407a8a4a32447616a65f6f9ae5",
     "grade": false,
     "grade_id": "cell-02ce6d2046f72d1d",
     "locked": true,
     "schema_version": 1,
     "solution": false
    }
   },
   "source": [
    "## Step 1 Get Age\n",
    "\n",
    "Write a function called `get_age` that takes a string (which represents a student's information) as input and returns the age (as a string).\n",
    "\n",
    "**hint**: all the ages are 2 digits"
   ]
  },
  {
   "cell_type": "code",
   "execution_count": 79,
   "metadata": {
    "deletable": false,
    "nbgrader": {
     "checksum": "8756be4ca7604b8cf8b8f5d8bfb9d831",
     "grade": false,
     "grade_id": "cell-f9cc0e7c8f4576a3",
     "locked": false,
     "schema_version": 1,
     "solution": true
    }
   },
   "outputs": [],
   "source": [
    "def get_age(student):\n",
    "    # YOUR CODE HERE\n",
    "    A=student.split(',')\n",
    "    B='0123456789'\n",
    "    for part in A:\n",
    "        if part[0]in B and part[1] in B:\n",
    "            return part[0:2]"
   ]
  },
  {
   "cell_type": "code",
   "execution_count": 80,
   "metadata": {
    "deletable": false,
    "editable": false,
    "nbgrader": {
     "checksum": "88d374a55dc39ada629fc74b6851605f",
     "grade": true,
     "grade_id": "cell-344a8c6aab6688ff",
     "locked": true,
     "points": 0.5,
     "schema_version": 1,
     "solution": false
    }
   },
   "outputs": [],
   "source": [
    "assert get_age(student1) == '23'\n",
    "assert get_age(student2) == '16'\n",
    "assert get_age(student3) == '17'"
   ]
  },
  {
   "cell_type": "markdown",
   "metadata": {
    "deletable": false,
    "editable": false,
    "nbgrader": {
     "checksum": "e77927c865b7fac6083bef3f7512bbc3",
     "grade": false,
     "grade_id": "cell-c04e0df4416e6644",
     "locked": true,
     "schema_version": 1,
     "solution": false
    }
   },
   "source": [
    "## Step 2 Get E-mail Address\n",
    "\n",
    "Write a function called `get_email` that returns a student's email address.\n",
    "\n",
    "**Note** that some email addresses are incorrect, you should return emails with the following suffix: ***@dukekunshan.edu.cn"
   ]
  },
  {
   "cell_type": "code",
   "execution_count": 81,
   "metadata": {
    "deletable": false,
    "nbgrader": {
     "checksum": "4531dd2ad00908c42a85bc6763a23fac",
     "grade": false,
     "grade_id": "cell-6192f39ec893f265",
     "locked": false,
     "schema_version": 1,
     "solution": true
    }
   },
   "outputs": [],
   "source": [
    "def get_email(student):\n",
    "    # YOUR CODE HERE\n",
    "    C=student.split(',')\n",
    "    for part in C:\n",
    "        if '@'in part:\n",
    "            name=part.split('@')\n",
    "            return name[0]+'@dukekunshan.edu.cn'        "
   ]
  },
  {
   "cell_type": "code",
   "execution_count": 82,
   "metadata": {
    "deletable": false,
    "editable": false,
    "nbgrader": {
     "checksum": "d428b21e6429341ff1e707af7e9cf9d6",
     "grade": true,
     "grade_id": "cell-e77cdd3ef25cfb44",
     "locked": true,
     "points": 0.5,
     "schema_version": 1,
     "solution": false
    }
   },
   "outputs": [],
   "source": [
    "assert get_email(student3) == 'student3@dukekunshan.edu.cn'\n",
    "assert get_email(student4) == 'student4@dukekunshan.edu.cn'\n",
    "assert get_email(student9) == 'student9@dukekunshan.edu.cn'"
   ]
  },
  {
   "cell_type": "markdown",
   "metadata": {
    "deletable": false,
    "editable": false,
    "nbgrader": {
     "checksum": "57598f7ebd4b7842c44729efafe34d24",
     "grade": false,
     "grade_id": "cell-ffaa252249c0790b",
     "locked": true,
     "schema_version": 1,
     "solution": false
    }
   },
   "source": [
    "## Step 3 Get Course\n",
    "\n",
    "Write a function called `get_course` that returns a student's course. The course should be given in all upper-case letters."
   ]
  },
  {
   "cell_type": "code",
   "execution_count": 83,
   "metadata": {
    "deletable": false,
    "nbgrader": {
     "checksum": "7f68e52c25c1931edb4d385985faaa5b",
     "grade": false,
     "grade_id": "cell-f31c8d516d0460e3",
     "locked": false,
     "schema_version": 1,
     "solution": true
    }
   },
   "outputs": [],
   "source": [
    "def get_course(student):\n",
    "    # YOUR CODE HERE\n",
    "    D=student.split(',')\n",
    "    E='0123456789'\n",
    "    for part in D:\n",
    "        if part[0] not in E and '@'not in part:\n",
    "            return part.upper()"
   ]
  },
  {
   "cell_type": "code",
   "execution_count": 84,
   "metadata": {
    "deletable": false,
    "editable": false,
    "nbgrader": {
     "checksum": "7bd553b6241e5d30f57874ce64530f4e",
     "grade": true,
     "grade_id": "cell-ea32695a9bec9a5c",
     "locked": true,
     "points": 0.5,
     "schema_version": 1,
     "solution": false
    }
   },
   "outputs": [],
   "source": [
    "assert get_course(student7) == 'COMPUTER SCIENCE'\n",
    "assert get_course(student4) == 'CHINESE'\n",
    "assert get_course(student8) == 'DATA SCIENCE'"
   ]
  },
  {
   "cell_type": "markdown",
   "metadata": {
    "deletable": false,
    "editable": false,
    "nbgrader": {
     "checksum": "b066f61bbc9012a198b12735acd4e79b",
     "grade": false,
     "grade_id": "cell-70849df175f3b6ac",
     "locked": true,
     "schema_version": 1,
     "solution": false
    }
   },
   "source": [
    "## Step 4 Standardize Student\n",
    "\n",
    "Write a function called `standardize` that applies all functions above and standardizes all the information. All adults' (students 18 years or older) ages should be replaced with '**' to maintain confidentiality. And simply return `None` for those who study data science.\n",
    "\n",
    "The result should be like:\n",
    "\n",
    "student1: student1@dukekunshan.edu.cn,**,CHINESE\n",
    "\n",
    "student2: None\n",
    "\n",
    "student3: student3@dukekunshan.edu.cn,17,COMPUTER SCIENCE"
   ]
  },
  {
   "cell_type": "code",
   "execution_count": 87,
   "metadata": {
    "deletable": false,
    "nbgrader": {
     "checksum": "f545f155f2e3bbd834a5fcfc6bad81e2",
     "grade": false,
     "grade_id": "cell-804725bd9bc5f2ad",
     "locked": false,
     "schema_version": 1,
     "solution": true
    }
   },
   "outputs": [],
   "source": [
    "def standardize(student):\n",
    "    # YOUR CODE HERE\n",
    "    M=student.upper()\n",
    "    N='DATA SCIENCE'\n",
    "    if N in M:\n",
    "        return None\n",
    "    else:\n",
    "        if int(get_age(student))>=18:\n",
    "            return get_email(student)+','+'**'+','+get_course(student).upper()\n",
    "        else:\n",
    "            return get_email(student)+','+get_age(student)+','+get_course(student).upper()"
   ]
  },
  {
   "cell_type": "code",
   "execution_count": 88,
   "metadata": {
    "deletable": false,
    "editable": false,
    "nbgrader": {
     "checksum": "ceff956c15bb52c10439b061603ff1d7",
     "grade": true,
     "grade_id": "cell-1f0b7468d08c02e9",
     "locked": true,
     "points": 0.5,
     "schema_version": 1,
     "solution": false
    }
   },
   "outputs": [],
   "source": [
    "assert standardize(student1) == 'student1@dukekunshan.edu.cn,**,CHINESE'\n",
    "assert standardize(student2) == None\n",
    "assert standardize(student3) == 'student3@dukekunshan.edu.cn,17,COMPUTER SCIENCE'"
   ]
  },
  {
   "cell_type": "code",
   "execution_count": null,
   "metadata": {},
   "outputs": [],
   "source": []
  }
 ],
 "metadata": {
  "kernelspec": {
   "display_name": "Python 3",
   "language": "python",
   "name": "python3"
  },
  "language_info": {
   "codemirror_mode": {
    "name": "ipython",
    "version": 3
   },
   "file_extension": ".py",
   "mimetype": "text/x-python",
   "name": "python",
   "nbconvert_exporter": "python",
   "pygments_lexer": "ipython3",
   "version": "3.6.5"
  }
 },
 "nbformat": 4,
 "nbformat_minor": 2
}
