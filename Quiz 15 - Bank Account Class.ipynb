{
 "cells": [
  {
   "cell_type": "markdown",
   "metadata": {},
   "source": [
    "Before you turn this problem in, make sure everything runs as expected. First, **restart the kernel** (in the menubar, select Kernel$\\rightarrow$Restart) and then **run all cells** (in the menubar, select Cell$\\rightarrow$Run All).\n",
    "\n",
    "Make sure you fill in any place that says `YOUR CODE HERE` or \"YOUR ANSWER HERE\", as well as your name and collaborators below:"
   ]
  },
  {
   "cell_type": "code",
   "execution_count": null,
   "metadata": {},
   "outputs": [],
   "source": [
    "NAME = \"\"\n",
    "COLLABORATORS = \"\""
   ]
  },
  {
   "cell_type": "markdown",
   "metadata": {},
   "source": [
    "---"
   ]
  },
  {
   "cell_type": "markdown",
   "metadata": {
    "deletable": false,
    "editable": false,
    "nbgrader": {
     "checksum": "0d2d3b6232030d4d61eb81ca1b9a21d9",
     "grade": false,
     "grade_id": "cell-baa4e9eb2cc0c93f",
     "locked": true,
     "schema_version": 1,
     "solution": false
    }
   },
   "source": [
    "# Quiz 15\n",
    "COMPSCI 101 spring 2019 Session 4, Duke Kunshan University\n",
    "\n",
    "**April 9<sup>th</sup> 2019**"
   ]
  },
  {
   "cell_type": "markdown",
   "metadata": {
    "deletable": false,
    "editable": false,
    "nbgrader": {
     "checksum": "08ffdadf034828d632844d5f46cc169d",
     "grade": false,
     "grade_id": "cell-12cf363a5b0e121c",
     "locked": true,
     "schema_version": 1,
     "solution": false
    }
   },
   "source": [
    "# Problem 1\n",
    "\n",
    "Implement the class **BankAccount**.\n",
    "\n",
    "A bank account has a non-negative balance and the owner's name (we do not use bank card numbers here). We can deposit, withdraw, and transfer money. The balance can also be checked at any time.\n",
    "\n",
    "**hint**: you need to implement the following methods: `__init__`, `deposit_money`, `withdraw_money`, `check_balance`, and `transfer`"
   ]
  },
  {
   "cell_type": "code",
   "execution_count": 18,
   "metadata": {
    "deletable": false,
    "nbgrader": {
     "checksum": "fe9689f856a1d96435f8d29d7c9c83fe",
     "grade": false,
     "grade_id": "cell-f9cc0e7c8f4576a3",
     "locked": false,
     "schema_version": 1,
     "solution": true
    }
   },
   "outputs": [],
   "source": [
    "class BankAccount:\n",
    "    def __init__(self,owner,balance):\n",
    "        self.balance=balance\n",
    "        self.owner=owner\n",
    "    def deposit_money(self,money):\n",
    "        self.balance+=money\n",
    "    def withdraw_money(self,money):\n",
    "        self.balance-=money\n",
    "    def check_balance(self):\n",
    "        return self.balance\n",
    "    def transfer(self,other,money):\n",
    "        self.balance-=money\n",
    "        other.balance+=money"
   ]
  },
  {
   "cell_type": "code",
   "execution_count": 19,
   "metadata": {
    "deletable": false,
    "editable": false,
    "nbgrader": {
     "checksum": "e3e6b481cbdb16c7c081d555973724b8",
     "grade": true,
     "grade_id": "cell-344a8c6aab6688ff",
     "locked": true,
     "points": 0.5,
     "schema_version": 1,
     "solution": false
    }
   },
   "outputs": [],
   "source": [
    "james = BankAccount('James Miller', 4000)\n",
    "assert james.owner == 'James Miller'\n",
    "assert james.check_balance() == 4000\n",
    "denis = BankAccount('Denis Simon', 0)\n",
    "assert denis.owner == 'Denis Simon'\n",
    "assert denis.check_balance() == 0\n",
    "james.withdraw_money(200)\n",
    "assert james.check_balance() == 3800\n",
    "james.deposit_money(300)\n",
    "assert james.check_balance() == 4100\n",
    "james.transfer(denis, 3000)\n",
    "assert james.check_balance() == 1100\n",
    "assert denis.check_balance() == 3000"
   ]
  },
  {
   "cell_type": "code",
   "execution_count": null,
   "metadata": {},
   "outputs": [],
   "source": []
  }
 ],
 "metadata": {
  "kernelspec": {
   "display_name": "Python 3",
   "language": "python",
   "name": "python3"
  },
  "language_info": {
   "codemirror_mode": {
    "name": "ipython",
    "version": 3
   },
   "file_extension": ".py",
   "mimetype": "text/x-python",
   "name": "python",
   "nbconvert_exporter": "python",
   "pygments_lexer": "ipython3",
   "version": "3.6.5"
  }
 },
 "nbformat": 4,
 "nbformat_minor": 2
}
