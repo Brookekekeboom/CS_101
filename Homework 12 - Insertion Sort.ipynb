{
 "cells": [
  {
   "cell_type": "markdown",
   "metadata": {},
   "source": [
    "Before you turn this problem in, make sure everything runs as expected. First, **restart the kernel** (in the menubar, select Kernel$\\rightarrow$Restart) and then **run all cells** (in the menubar, select Cell$\\rightarrow$Run All).\n",
    "\n",
    "Make sure you fill in any place that says `YOUR CODE HERE` or \"YOUR ANSWER HERE\", as well as your name and collaborators below:"
   ]
  },
  {
   "cell_type": "code",
   "execution_count": null,
   "metadata": {},
   "outputs": [],
   "source": [
    "NAME = \"\"\n",
    "COLLABORATORS = \"\""
   ]
  },
  {
   "cell_type": "markdown",
   "metadata": {},
   "source": [
    "---"
   ]
  },
  {
   "cell_type": "markdown",
   "metadata": {
    "deletable": false,
    "editable": false,
    "nbgrader": {
     "checksum": "286cd35d90653b15c4ed542db322c7bc",
     "grade": false,
     "grade_id": "cell-baa4e9eb2cc0c93f",
     "locked": true,
     "schema_version": 1,
     "solution": false
    }
   },
   "source": [
    "# Homework 12\n",
    "COMPSCI 101 spring 2019 Session 4, Duke Kunshan University\n",
    "\n",
    "Due: **April 3<sup>rd</sup> 2019, 5 pm**"
   ]
  },
  {
   "cell_type": "markdown",
   "metadata": {
    "deletable": false,
    "editable": false,
    "nbgrader": {
     "checksum": "e1db7a846d7a3c7857c599325da11f3d",
     "grade": false,
     "grade_id": "cell-12cf363a5b0e121c",
     "locked": true,
     "schema_version": 1,
     "solution": false
    }
   },
   "source": [
    "# Problem 1\n",
    "\n",
    "Implement the `insert` function as it works in the insertion sort algorithm. This function takes three inputs: (i) a list of integers `L`, (ii) an integer `k`, and (iii) an integer `i`.\n",
    "\n",
    "`L` is divided into two sections. The first section, marked by the range 0 to `k`, represents the sorted section. The second section, marked by the range `k`+1 to -1, represents the unsorted section.\n",
    "\n",
    "`k` represents the index of the last element in the sorted section of `L`.\n",
    "\n",
    "`i` represents the index of the integer that is to be inserted into the sorted section of `L`.\n",
    "\n",
    "This function returns `L` with the integer at `i` inserted into the sorted section.\n",
    "\n",
    "** Do <strong>NOT</strong> use the built in Python functions: `insert`, `del`, `pop`, or `remove`!"
   ]
  },
  {
   "cell_type": "code",
   "execution_count": 10,
   "metadata": {
    "deletable": false,
    "nbgrader": {
     "checksum": "ee2cf410d4b47d1ddd0a7fed6921ad41",
     "grade": false,
     "grade_id": "cell-46c55fb5434e1162",
     "locked": false,
     "schema_version": 1,
     "solution": true
    }
   },
   "outputs": [],
   "source": [
    "# special case\n",
    "\n",
    "# def insert(L, k, i)\n",
    "#     while L[i]<L[i-1]:\n",
    "#         L[i],L[i-1]=L[i-1],L[i]\n",
    "#         i=i-1 \n",
    "#         if i==0:\n",
    "#             break\n",
    "#     return L"
   ]
  },
  {
   "cell_type": "code",
   "execution_count": 56,
   "metadata": {},
   "outputs": [],
   "source": [
    "# general case\n",
    "\n",
    "def insert(L, k, i):\n",
    "    original_k=k\n",
    "    L[i],L[k+1]=L[k+1],L[i]\n",
    "    while L[k+1]<L[k]:\n",
    "        L[k+1],L[k]=L[k],L[k+1]\n",
    "        k=k-1 \n",
    "        if k==-1:\n",
    "            break\n",
    "    k=original_k+1\n",
    "    return L"
   ]
  },
  {
   "cell_type": "code",
   "execution_count": 57,
   "metadata": {
    "deletable": false,
    "editable": false,
    "nbgrader": {
     "checksum": "aaf0aa1ce6d0fe4f62a066d9ae49fe32",
     "grade": true,
     "grade_id": "cell-344a8c6aab6688ff",
     "locked": true,
     "points": 0.5,
     "schema_version": 1,
     "solution": false
    }
   },
   "outputs": [],
   "source": [
    "L = [1, 3, 7, 2, 7, 9, 5, 4, 8]\n",
    "insert(L, 2, 3)\n",
    "assert L == [1, 2, 3, 7, 7, 9, 5, 4, 8]\n",
    "\n",
    "L = [1, 2, 3, 7, 7, 9, 5, 4, 8]\n",
    "insert(L, 5, 6)\n",
    "assert L == [1, 2, 3, 5, 7, 7, 9, 4, 8]\n",
    "\n",
    "L = [9, 2, 3, 7, 6, 9, 5, 4, 8]\n",
    "insert(L, 0, 1)\n",
    "assert L == [2, 9, 3, 7, 6, 9, 5, 4, 8]"
   ]
  },
  {
   "cell_type": "markdown",
   "metadata": {
    "deletable": false,
    "editable": false,
    "nbgrader": {
     "checksum": "51f112d89b7352d3b02fa2e4a32ef5a3",
     "grade": false,
     "grade_id": "cell-c04e0df4416e6644",
     "locked": true,
     "schema_version": 1,
     "solution": false
    }
   },
   "source": [
    "# Problem 2\n",
    "\n",
    "Implement the `insertion_sort` function. This function takes a list of integers `L` as input and updates `L` so that it is sorted. This function must use the `insert` function."
   ]
  },
  {
   "cell_type": "code",
   "execution_count": 58,
   "metadata": {
    "deletable": false,
    "nbgrader": {
     "checksum": "f34974cdcf1f3d3ebdaabe473e5bd23d",
     "grade": false,
     "grade_id": "cell-6192f39ec893f265",
     "locked": false,
     "schema_version": 1,
     "solution": true
    }
   },
   "outputs": [],
   "source": [
    "def insertion_sort(L):\n",
    "    for i in range(1,len(L)):\n",
    "        insert(L, i-1, i)\n",
    "    return L"
   ]
  },
  {
   "cell_type": "code",
   "execution_count": 59,
   "metadata": {
    "deletable": false,
    "editable": false,
    "nbgrader": {
     "checksum": "cf8a65e83bc628ef5cea4764871f13e5",
     "grade": true,
     "grade_id": "cell-e77cdd3ef25cfb44",
     "locked": true,
     "points": 0.5,
     "schema_version": 1,
     "solution": false
    }
   },
   "outputs": [],
   "source": [
    "L = [6, 3, 9, 5, 7, 0, 9, 7, 5, 4, 3, 1, 3, 4, 2, 4, 6, 1, 7]\n",
    "insertion_sort(L)\n",
    "assert L == [0, 1, 1, 2, 3, 3, 3, 4, 4, 4, 5, 5, 6, 6, 7, 7, 7, 9, 9]\n",
    "\n",
    "L = [0, 0, 0, 0, 0, 0, -1, 1, 1, 1, 1, 1, 1, -1, -1, -1, -1, -1, -1]\n",
    "insertion_sort(L)\n",
    "assert L == [-1, -1, -1, -1, -1, -1, -1, 0, 0, 0, 0, 0, 0, 1, 1, 1, 1, 1, 1]"
   ]
  },
  {
   "cell_type": "markdown",
   "metadata": {
    "deletable": false,
    "editable": false,
    "nbgrader": {
     "checksum": "21fcaff994e73c2ea34c387feb0fb45b",
     "grade": false,
     "grade_id": "cell-b00500784e56f106",
     "locked": true,
     "schema_version": 1,
     "solution": false
    }
   },
   "source": [
    "# Problem 3\n",
    "\n",
    "Implement the `comb_sort` function. In `bubble sort`, when any two elements are compared, they always have a gap (distance from each other) of 1. The basic idea of comb sort is that the gap can be **much more than 1**. The inner loop of bubble sort, which does the actual swap, is modified such that gap between swapped elements goes down (for each iteration of outer loop) in steps of a \"shrink factor\" `k`.\n",
    "\n",
    "The gap starts out as the length of the list being sorted and one pass of the aforementioned modified bubble sort is applied with that gap. Then the gap is divided by the shrink factor `k`, the list is sorted with this new gap, and the process repeats until the gap is 1. At this point, comb sort **continues using a gap of 1** until the list is fully sorted. The final stage of the sort is thus equivalent to a bubble sort, but by this time most turtles have been dealt with, so a bubble sort will be more efficient."
   ]
  },
  {
   "cell_type": "code",
   "execution_count": 42,
   "metadata": {
    "deletable": false,
    "nbgrader": {
     "checksum": "f80f757cfb6650bf8f0c2b12462ab51e",
     "grade": false,
     "grade_id": "cell-10e89ce14c311ec1",
     "locked": false,
     "schema_version": 1,
     "solution": true
    }
   },
   "outputs": [],
   "source": [
    "def comb_sort(L, k):\n",
    "    gap=len(L)-1\n",
    "    while gap>=1:\n",
    "        for i in range(0,len(L)-gap):\n",
    "            if L[i]>L[i+gap]:\n",
    "                L[i],L[i+gap]=L[i+gap],L[i]\n",
    "        gap=int(gap/k)\n",
    "    \n",
    "    while True:\n",
    "        break_or_not=1\n",
    "        for i in range(len(L)-1):\n",
    "            if L[i]>L[i+1]:\n",
    "                L[i],L[i+1]=L[i+1],L[i]\n",
    "                break_or_not=0\n",
    "        if break_or_not==1:\n",
    "            break\n",
    "    return L       "
   ]
  },
  {
   "cell_type": "code",
   "execution_count": 64,
   "metadata": {
    "nbgrader": {
     "checksum": "f80f757cfb6650bf8f0c2b12462ab51e",
     "grade": false,
     "grade_id": "cell-10e89ce14c311ec1",
     "locked": false,
     "schema_version": 1,
     "solution": true
    }
   },
   "outputs": [],
   "source": [
    "def comb_sort(L, k):\n",
    "    gap=len(L)-1\n",
    "    while gap>=1:\n",
    "        for i in range(0,len(L)-gap):\n",
    "            if L[i]>L[i+gap]:\n",
    "                L[i],L[i+gap]=L[i+gap],L[i]\n",
    "        gap=int(gap/k)\n",
    "    \n",
    "    for i in range(len(L)-1):\n",
    "        if L[i]>L[i+1]:\n",
    "            L[i],L[i+1]=L[i+1],L[i]\n",
    "\n",
    "    return L       "
   ]
  },
  {
   "cell_type": "code",
   "execution_count": 66,
   "metadata": {},
   "outputs": [],
   "source": [
    "# CR's     (limitation: if k is very big, cannot ensure the examination process when gap=1)\n",
    "\n",
    "def comb_sort(L, k):\n",
    "    l=len(L)-1\n",
    "    while l>=1:\n",
    "        i=0\n",
    "        while (i+l)<len(L):\n",
    "            if L[i]>L[i+l]:\n",
    "                L[i],L[i+l]=L[i+l],L[i]\n",
    "            i+=1\n",
    "        l=int(l//k)\n",
    "    return L"
   ]
  },
  {
   "cell_type": "code",
   "execution_count": 67,
   "metadata": {
    "deletable": false,
    "editable": false,
    "nbgrader": {
     "checksum": "4d8710dae7a7d4ab0ab7538d8872ecce",
     "grade": true,
     "grade_id": "cell-3eef655e969a4e9c",
     "locked": true,
     "points": 1,
     "schema_version": 1,
     "solution": false
    }
   },
   "outputs": [],
   "source": [
    "L = [3, 2, 7, 9, 6, 4, 2, 3, 4, 5, 6, 4]\n",
    "comb_sort(L,1.5)\n",
    "assert L == [2, 2, 3, 3, 4, 4, 4, 5, 6, 6, 7, 9]\n",
    "\n",
    "L = [-1, 0, 10, 10, 10, 10, 0, 0, 0, 10, 0]\n",
    "comb_sort(L,1.5)\n",
    "assert L == [-1, 0, 0, 0, 0, 0, 10, 10, 10, 10, 10]"
   ]
  },
  {
   "cell_type": "code",
   "execution_count": null,
   "metadata": {},
   "outputs": [],
   "source": []
  }
 ],
 "metadata": {
  "kernelspec": {
   "display_name": "Python 3",
   "language": "python",
   "name": "python3"
  },
  "language_info": {
   "codemirror_mode": {
    "name": "ipython",
    "version": 3
   },
   "file_extension": ".py",
   "mimetype": "text/x-python",
   "name": "python",
   "nbconvert_exporter": "python",
   "pygments_lexer": "ipython3",
   "version": "3.6.5"
  }
 },
 "nbformat": 4,
 "nbformat_minor": 2
}
