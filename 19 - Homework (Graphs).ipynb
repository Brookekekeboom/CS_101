{
 "cells": [
  {
   "cell_type": "markdown",
   "metadata": {},
   "source": [
    "Before you turn this problem in, make sure everything runs as expected. First, **restart the kernel** (in the menubar, select Kernel$\\rightarrow$Restart) and then **run all cells** (in the menubar, select Cell$\\rightarrow$Run All).\n",
    "\n",
    "Make sure you fill in any place that says `YOUR CODE HERE` or \"YOUR ANSWER HERE\", as well as your name and collaborators below:"
   ]
  },
  {
   "cell_type": "code",
   "execution_count": null,
   "metadata": {},
   "outputs": [],
   "source": [
    "NAME = \"\"\n",
    "COLLABORATORS = \"\""
   ]
  },
  {
   "cell_type": "markdown",
   "metadata": {},
   "source": [
    "---"
   ]
  },
  {
   "cell_type": "markdown",
   "metadata": {
    "deletable": false,
    "editable": false,
    "nbgrader": {
     "checksum": "2e2f2c90e65ff12361484d8b6ed2987e",
     "grade": false,
     "grade_id": "cell-baa4e9eb2cc0c93f",
     "locked": true,
     "schema_version": 1,
     "solution": false
    }
   },
   "source": [
    "# Homework 19\n",
    "COMPSCI 101 spring 2019 Session 4, Duke Kunshan University\n",
    "\n",
    "Due: **April 16<sup>th</sup> 2019, 5 pm**"
   ]
  },
  {
   "cell_type": "markdown",
   "metadata": {
    "deletable": false,
    "editable": false,
    "nbgrader": {
     "checksum": "e79a879ba5bbf4d64dd1078b9b141f87",
     "grade": false,
     "grade_id": "cell-6dd5e264db880e8d",
     "locked": true,
     "schema_version": 1,
     "solution": false
    }
   },
   "source": [
    "# Problem 1\n",
    "\n",
    "Given an `DirectedGraphNode`, we can serialize the graph into a string.\n",
    "\n",
    "We use `#` as a separator for each node and `,` as a separator for each neighbor of the node.\n",
    " \n",
    "As an example, consider the serialized graph {0,1,2#1,2#2,2#}.\n",
    "\n",
    "The graph has a total of three nodes, and therefore contains three parts separated by `#`.\n",
    "\n",
    "The first node is labeled 0 and it has two neighbors: node 1 and node 2.\n",
    "The second node is labeled 1 and it has one neighbor: node 2.\n",
    "The third node is labeled 2 and it has one neighbor: node 2 (itself)."
   ]
  },
  {
   "cell_type": "code",
   "execution_count": 1,
   "metadata": {
    "deletable": false,
    "nbgrader": {
     "checksum": "5990bc4ee61d8366c00339e0b19770c5",
     "grade": false,
     "grade_id": "cell-46c55fb5434e1162",
     "locked": false,
     "schema_version": 1,
     "solution": true
    }
   },
   "outputs": [],
   "source": [
    "class DirectedGraphNode:\n",
    "#     all_nodes=[]\n",
    "    \n",
    "    def __init__(self,val):\n",
    "        self.val=val\n",
    "        self.neighbors=[]\n",
    "    \n",
    "#     def append(self,something):\n",
    "#         self.append(something)\n",
    "#         self.__class__.all_nodes.append(something)\n",
    "        \n",
    "#     def get_nodes(self):\n",
    "#         result=[self.val]\n",
    "#         if self.neighbors==[]:\n",
    "#             return result\n",
    "#         else:\n",
    "#             for item in self.neighbors:\n",
    "#                 result=result+item.get_nodes()\n",
    "#             return result    \n",
    "        \n",
    "#     def print_subgraph_from_here(self,nodelist):\n",
    "#         result=''\n",
    "#         nodes=list(set(self.__class__.all_nodes))\n",
    "#         for item in nodes:\n",
    "#             copy_n=item.neighbors[:]\n",
    "#             for i in range(len(copy_n)):\n",
    "#                 copy_n[i]=str(copy_n[i])\n",
    "#             result=result+str(item.val)+','+','.join(copy_n)+'#'\n",
    "#         return result\n",
    "    \n",
    "    def print_subgraph_from_here(self,nodelist):\n",
    "        nodelist.append(self)\n",
    "        index=0\n",
    "        while index<len(nodelist):\n",
    "            for item in nodelist[index].neighbors:\n",
    "                if item not in nodelist:\n",
    "                    nodelist.append(item)\n",
    "            index=index+1\n",
    "            \n",
    "        result=''\n",
    "        for node in nodelist:\n",
    "            copy_nb=node.neighbors[:]\n",
    "            for i in range(len(copy_nb)):\n",
    "                copy_nb[i]=str(copy_nb[i].val)\n",
    "            result=result+str(node.val)+','+','.join(copy_nb)+'#'\n",
    "        return result\n",
    "        "
   ]
  },
  {
   "cell_type": "code",
   "execution_count": null,
   "metadata": {
    "deletable": false,
    "editable": false,
    "nbgrader": {
     "checksum": "28998e91b47ea6b53e59a9a4a596d13f",
     "grade": true,
     "grade_id": "cell-b1b12dbb4976108d",
     "locked": true,
     "points": 1,
     "schema_version": 1,
     "solution": false
    }
   },
   "outputs": [],
   "source": [
    "n0 = DirectedGraphNode(0)\n",
    "n1 = DirectedGraphNode(1)\n",
    "n2 = DirectedGraphNode(2)\n",
    "\n",
    "n0.neighbors.append(n1)\n",
    "n0.neighbors.append(n2)\n",
    "n1.neighbors.append(n2)\n",
    "n2.neighbors.append(n2)\n",
    "\n",
    "assert n0.print_subgraph_from_here([])=='0,1,2#1,2#2,2#'"
   ]
  },
  {
   "cell_type": "markdown",
   "metadata": {
    "deletable": false,
    "editable": false,
    "nbgrader": {
     "checksum": "3cc59bc217e555c5b59a3b30bb98e05a",
     "grade": false,
     "grade_id": "cell-dfd271f868973ff9",
     "locked": true,
     "schema_version": 1,
     "solution": false
    }
   },
   "source": [
    "# Problem 2\n",
    "\n",
    "Write a function called `clone_graph` that takes the head node of a graph as input and returns a deep copy (clone) of the graph. Each node in the graph contains a label (int) and a list (List[DirectedGraphNode]) of its neighbors. There is an edge between the given node and each of the nodes in neighbors."
   ]
  },
  {
   "cell_type": "code",
   "execution_count": null,
   "metadata": {
    "deletable": false,
    "nbgrader": {
     "checksum": "190c310f194f648674f94b4878a7d099",
     "grade": false,
     "grade_id": "cell-26254032e02425bf",
     "locked": false,
     "schema_version": 1,
     "solution": true
    }
   },
   "outputs": [],
   "source": [
    "import copy\n",
    "def cloneGraph(node):\n",
    "    return copy.deepcopy(node)"
   ]
  },
  {
   "cell_type": "code",
   "execution_count": 2,
   "metadata": {},
   "outputs": [],
   "source": [
    "def cloneGraph(node):\n",
    "    copy=DirectedGraphNode(node.val)\n",
    "    copy.neighbors=node.neighbors[:]   \n",
    "    return copy"
   ]
  },
  {
   "cell_type": "code",
   "execution_count": null,
   "metadata": {},
   "outputs": [],
   "source": [
    "def cloneGraph(node):\n",
    "    copy  = {}\n",
    "    def DFS(n):\n",
    "        if n in copy:\n",
    "            return copy[n]\n",
    "        node_new = DirectedGraphNode(n.val)\n",
    "        copy[n] = node_new\n",
    "        for i in n.neighbors:\n",
    "            node_new.neighbors.append(DFS(i))\n",
    "        return node_new\n",
    "    return DFS(node)"
   ]
  },
  {
   "cell_type": "code",
   "execution_count": 3,
   "metadata": {
    "deletable": false,
    "editable": false,
    "nbgrader": {
     "checksum": "1dfdbc3e2ddfed79055bf854edc298d5",
     "grade": true,
     "grade_id": "cell-68689597d1269994",
     "locked": true,
     "points": 1,
     "schema_version": 1,
     "solution": false
    }
   },
   "outputs": [],
   "source": [
    "n0 = DirectedGraphNode(0)\n",
    "n1 = DirectedGraphNode(1)\n",
    "n2 = DirectedGraphNode(2)\n",
    "n3 = DirectedGraphNode(3)\n",
    "\n",
    "n0.neighbors.append(n1)\n",
    "n0.neighbors.append(n2)\n",
    "n1.neighbors.append(n2)\n",
    "n2.neighbors.append(n3)\n",
    "n3.neighbors.append(n3)\n",
    "\n",
    "n0_clone = cloneGraph(n0)\n",
    "\n",
    "assert n0_clone.print_subgraph_from_here([]) == '0,1,2#1,2#2,3#3,3#'\n",
    "assert n0_clone.print_subgraph_from_here([]) == n0.print_subgraph_from_here([])\n",
    "assert n0_clone is not n0"
   ]
  },
  {
   "cell_type": "code",
   "execution_count": null,
   "metadata": {},
   "outputs": [],
   "source": []
  }
 ],
 "metadata": {
  "kernelspec": {
   "display_name": "Python 3",
   "language": "python",
   "name": "python3"
  },
  "language_info": {
   "codemirror_mode": {
    "name": "ipython",
    "version": 3
   },
   "file_extension": ".py",
   "mimetype": "text/x-python",
   "name": "python",
   "nbconvert_exporter": "python",
   "pygments_lexer": "ipython3",
   "version": "3.6.5"
  }
 },
 "nbformat": 4,
 "nbformat_minor": 2
}
