{
 "cells": [
  {
   "cell_type": "markdown",
   "metadata": {},
   "source": [
    "Before you turn this problem in, make sure everything runs as expected. First, **restart the kernel** (in the menubar, select Kernel$\\rightarrow$Restart) and then **run all cells** (in the menubar, select Cell$\\rightarrow$Run All).\n",
    "\n",
    "Make sure you fill in any place that says `YOUR CODE HERE` or \"YOUR ANSWER HERE\", as well as your name and collaborators below:"
   ]
  },
  {
   "cell_type": "code",
   "execution_count": null,
   "metadata": {},
   "outputs": [],
   "source": [
    "NAME = \"\"\n",
    "COLLABORATORS = \"\""
   ]
  },
  {
   "cell_type": "markdown",
   "metadata": {},
   "source": [
    "---"
   ]
  },
  {
   "cell_type": "markdown",
   "metadata": {
    "deletable": false,
    "editable": false,
    "nbgrader": {
     "checksum": "b89b18d8dcb7a8f111521f16c2ce86a8",
     "grade": false,
     "grade_id": "cell-baa4e9eb2cc0c93f",
     "locked": true,
     "schema_version": 1,
     "solution": false
    }
   },
   "source": [
    "# MiniProject 2\n",
    "COMPSCI 101 spring 2019 Session 4, Duke Kunshan University\n",
    "\n",
    "Due: **Mar 25<sup>th</sup> 2019, 5 pm**"
   ]
  },
  {
   "cell_type": "markdown",
   "metadata": {
    "deletable": false,
    "editable": false,
    "nbgrader": {
     "checksum": "d32efd218ad09da01e7aba643f4c9a29",
     "grade": false,
     "grade_id": "cell-12cf363a5b0e121c",
     "locked": true,
     "schema_version": 1,
     "solution": false
    }
   },
   "source": [
    "# Problem 1\n",
    "\n",
    "Assume that a valid phone number must appear in one of the following two formats: (xxx) xxx-xxxx or xxx-xxx-xxxx. (x is a digit).\n",
    "\n",
    "Write a function called `valid_number` that takes a string `phone_number` and returns `True` if it is a valid phone number and `False` otherwise."
   ]
  },
  {
   "cell_type": "code",
   "execution_count": 27,
   "metadata": {
    "deletable": false,
    "nbgrader": {
     "checksum": "45d43d84f5f360625990098623c4aa0c",
     "grade": false,
     "grade_id": "cell-f9cc0e7c8f4576a3",
     "locked": false,
     "schema_version": 1,
     "solution": true
    }
   },
   "outputs": [],
   "source": [
    "def valid_number(numstr):\n",
    "    num='1234567890'\n",
    "    \n",
    "    if len(numstr)==12:\n",
    "        for ch in (numstr[:3]and numstr[4:7]and numstr[8:12]):\n",
    "            if ch not in num:\n",
    "                return False\n",
    "        if numstr[3] !='-' or numstr[7] !='-':\n",
    "                return False\n",
    "        else:\n",
    "            return True\n",
    "    if len(numstr)==14:\n",
    "        for ch in (numstr[1:4]and numstr[6:9]and numstr[10:14]):\n",
    "            if ch not in num:\n",
    "                return False\n",
    "        if numstr[0]!='(' or numstr[4]!=')':\n",
    "            return False\n",
    "        if numstr[5]!=' ':\n",
    "            return False\n",
    "        if numstr[9]!='-':\n",
    "            return False\n",
    "        else:\n",
    "            return True\n",
    "    else:\n",
    "        return False"
   ]
  },
  {
   "cell_type": "code",
   "execution_count": 28,
   "metadata": {
    "deletable": false,
    "editable": false,
    "nbgrader": {
     "checksum": "c1c414104030bd9805c5c65f1d3e6b07",
     "grade": true,
     "grade_id": "cell-344a8c6aab6688ff",
     "locked": true,
     "points": 1,
     "schema_version": 1,
     "solution": false
    }
   },
   "outputs": [],
   "source": [
    "assert valid_number(' 287-323-4567') == False\n",
    "assert valid_number('321-456-1213') == True\n",
    "assert valid_number('213-1234-1213') == False\n",
    "assert valid_number('(871)716-1243') == False\n",
    "assert valid_number('(672) 716-1234') == True\n",
    "assert valid_number('817-2139976') == False\n",
    "assert valid_number('1123-121-8876') == False\n",
    "assert valid_number(' (672) 716-1234') == False\n",
    "assert valid_number('(672) 716-1234 ') == False"
   ]
  },
  {
   "cell_type": "markdown",
   "metadata": {
    "deletable": false,
    "editable": false,
    "nbgrader": {
     "checksum": "e03236f738c67757d491e906df0848d8",
     "grade": false,
     "grade_id": "cell-66d8cb9c2aaa81ae",
     "locked": true,
     "schema_version": 1,
     "solution": false
    }
   },
   "source": [
    "# Problem 2\n",
    "\n",
    "The `count and say` sequence is the sequence of integers where the first six terms are as follows:\n",
    "\n",
    "<ol>\n",
    "<li>1\n",
    "<li>11\n",
    "<li>21\n",
    "<li>1211\n",
    "<li>111221\n",
    "<li>312211\n",
    "</ol>\n",
    "\n",
    "`1` is read off as `\"one 1\"` or `11`.  \n",
    "`11` is read off as `\"two 1s\"` or `21`.  \n",
    "`21` is read off as `\"one 2, then one 1\"` or `1211`\n",
    "\n",
    "Write a function called `count_and_say` that takes an integer `n` (1 $\\leq$ n $\\leq$ 30) as input and returns the $n^{th}$ term of the count and say sequence.\n",
    "\n",
    "__Note__: Each term of the sequence of integers will be represented as a string."
   ]
  },
  {
   "cell_type": "code",
   "execution_count": 87,
   "metadata": {
    "deletable": false,
    "nbgrader": {
     "checksum": "363cbc4ad520a4a9a4afddf6346f1ebf",
     "grade": false,
     "grade_id": "cell-150d02900c3a3f16",
     "locked": false,
     "schema_version": 1,
     "solution": true
    }
   },
   "outputs": [],
   "source": [
    "def count_and_say(n):\n",
    "    if n==1:\n",
    "        return '1'\n",
    "    else:\n",
    "        L=count_and_say(n-1)\n",
    "        A=[]\n",
    "        for i in range(0,len(L)-1):\n",
    "            A.append(L[i])\n",
    "            if L[i]!=L[i+1]:\n",
    "                A.append(' ')\n",
    "        A.append(L[-1])       \n",
    "        B=''.join(A)\n",
    "        C=B.split()\n",
    "        result=''\n",
    "        for item in C:\n",
    "            result=result+str(len(item))+item[0]\n",
    "        return result"
   ]
  },
  {
   "cell_type": "code",
   "execution_count": 88,
   "metadata": {
    "deletable": false,
    "editable": false,
    "nbgrader": {
     "checksum": "200c1077ca5f45862c28d6fd7f5f075b",
     "grade": true,
     "grade_id": "cell-58720deb797a5a5e",
     "locked": true,
     "points": 1,
     "schema_version": 1,
     "solution": false
    }
   },
   "outputs": [],
   "source": [
    "assert count_and_say(3) == '21'\n",
    "assert count_and_say(6) == '312211'\n",
    "assert count_and_say(12)[-6:] == '113211'"
   ]
  },
  {
   "cell_type": "markdown",
   "metadata": {
    "deletable": false,
    "editable": false,
    "nbgrader": {
     "checksum": "82013d50b8c6a024266235e133449da5",
     "grade": false,
     "grade_id": "cell-f382e2f06835bcf8",
     "locked": true,
     "schema_version": 1,
     "solution": false
    }
   },
   "source": [
    "# Problem 3\n",
    "\n",
    "Write a function called `find_pairs` that takes a list of integers `L` and an integer `k` and returns the number of **unique** `k`-diff pairs. A `k`-diff pair is defined as an integer pair (i, j), where `i` and `j` are both numbers in the list and their absolute difference is `k`.\n",
    "\n",
    "#### Example 1\n",
    "**Input:** [3, 1, 4, 1, 5], k = 2   \n",
    "**Output:** 2  \n",
    "**Note:** There are two 2-diff pairs in the array, (1, 3) and (3, 5).\n",
    "Although we have two 1s in the input, we should only return the number of **unique** pairs.\n",
    "\n",
    "#### Example 2\n",
    "**Input:** [1, 2, 3, 4, 5], k = 1  \n",
    "**Output:** 4  \n",
    "**Note:** There are four 1-diff pairs in the array, (1, 2), (2, 3), (3, 4) and (4, 5).\n",
    "\n",
    "#### Example 3\n",
    "**Input:** [1, 3, 1, 5, 4], k = 0  \n",
    "**Output:** 1  \n",
    "**Note:** There is one 0-diff pair in the array, (1, 1)."
   ]
  },
  {
   "cell_type": "code",
   "execution_count": 48,
   "metadata": {
    "deletable": false,
    "nbgrader": {
     "checksum": "f7f015946574fa5154a5b10be0f6687f",
     "grade": false,
     "grade_id": "cell-21240d427bd64c8f",
     "locked": false,
     "schema_version": 1,
     "solution": true
    }
   },
   "outputs": [],
   "source": [
    "def find_pairs(L, k):\n",
    "    List=list(set(L))\n",
    "    counter=0\n",
    "    for num1 in List:\n",
    "        for num2 in List:\n",
    "            if num1-num2==k:\n",
    "                counter=counter+1\n",
    "    if k!=0:\n",
    "        return counter\n",
    "    if k==0:\n",
    "        if L==List:\n",
    "            return counter-len(List)\n",
    "        else:\n",
    "            return counter-len(List)+1"
   ]
  },
  {
   "cell_type": "code",
   "execution_count": 49,
   "metadata": {
    "deletable": false,
    "editable": false,
    "nbgrader": {
     "checksum": "275b98d9bce037f1e82a3a633959b52e",
     "grade": true,
     "grade_id": "cell-ed42ea2efa99c3b3",
     "locked": true,
     "points": 1,
     "schema_version": 1,
     "solution": false
    }
   },
   "outputs": [],
   "source": [
    "assert find_pairs([1, 2, 3, 4, 5],1) == 4\n",
    "assert find_pairs([3, 1, 4, 1, 5],2) == 2\n",
    "assert find_pairs([1, 3, 1, 5, 4],0) == 1\n",
    "assert find_pairs([3, 1, 3, 6, 2, 8, 9, 11, 4, 1, 5], 4) == 4\n",
    "assert find_pairs([3, 1, 3, 6, 6, 3, 9, 3, 9, 3, 1], 3) == 2\n",
    "assert find_pairs([1, 1], 1) == 0\n",
    "assert find_pairs([1, 3, 7, 5, 11, 9, 8, 6, 3, 4, 9, 1, 2, 1], 2) == 8\n",
    "assert find_pairs([7, 5, 9, 8, 6, 3, 4, 9, 11, 2, 1, 9], 2) == 8"
   ]
  },
  {
   "cell_type": "code",
   "execution_count": null,
   "metadata": {},
   "outputs": [],
   "source": []
  }
 ],
 "metadata": {
  "kernelspec": {
   "display_name": "Python 3",
   "language": "python",
   "name": "python3"
  },
  "language_info": {
   "codemirror_mode": {
    "name": "ipython",
    "version": 3
   },
   "file_extension": ".py",
   "mimetype": "text/x-python",
   "name": "python",
   "nbconvert_exporter": "python",
   "pygments_lexer": "ipython3",
   "version": "3.6.5"
  }
 },
 "nbformat": 4,
 "nbformat_minor": 2
}
