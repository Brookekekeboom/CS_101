{
 "cells": [
  {
   "cell_type": "markdown",
   "metadata": {},
   "source": [
    "Before you turn this problem in, make sure everything runs as expected. First, **restart the kernel** (in the menubar, select Kernel$\\rightarrow$Restart) and then **run all cells** (in the menubar, select Cell$\\rightarrow$Run All).\n",
    "\n",
    "Make sure you fill in any place that says `YOUR CODE HERE` or \"YOUR ANSWER HERE\", as well as your name and collaborators below:"
   ]
  },
  {
   "cell_type": "code",
   "execution_count": null,
   "metadata": {},
   "outputs": [],
   "source": [
    "NAME = \"\"\n",
    "COLLABORATORS = \"\""
   ]
  },
  {
   "cell_type": "markdown",
   "metadata": {},
   "source": [
    "---"
   ]
  },
  {
   "cell_type": "markdown",
   "metadata": {
    "deletable": false,
    "editable": false,
    "nbgrader": {
     "checksum": "ffe47e20da7cf37435eef262c11b2218",
     "grade": false,
     "grade_id": "cell-baa4e9eb2cc0c93f",
     "locked": true,
     "schema_version": 1,
     "solution": false
    }
   },
   "source": [
    "# Quiz 10\n",
    "COMPSCI 101 spring 2019 Session 4, Duke Kunshan University\n",
    "\n",
    "**April 1<sup>st</sup> 2019**"
   ]
  },
  {
   "cell_type": "markdown",
   "metadata": {
    "deletable": false,
    "editable": false,
    "nbgrader": {
     "checksum": "56b1d4e18a685a28be3af91126514252",
     "grade": false,
     "grade_id": "cell-12cf363a5b0e121c",
     "locked": true,
     "schema_version": 1,
     "solution": false
    }
   },
   "source": [
    "# Problem 1\n",
    "\n",
    "Write a function called `create_orderN_function` that takes an integer `n` and a function `f` and returns a function that takes a number `x` and repeatedly applies `f` to `x` `n`-times."
   ]
  },
  {
   "cell_type": "code",
   "execution_count": 68,
   "metadata": {
    "deletable": false,
    "nbgrader": {
     "checksum": "6865a4bd8a219e30745ce147a1cfe60b",
     "grade": false,
     "grade_id": "cell-f9cc0e7c8f4576a3",
     "locked": false,
     "schema_version": 1,
     "solution": true
    }
   },
   "outputs": [],
   "source": [
    "# problem\n",
    "def create_orderN_function(n, f):\n",
    "    def get(x):\n",
    "        if n==1:\n",
    "            return f(x)\n",
    "        if n>1:\n",
    "            n=n-1\n",
    "            x=get(x)\n",
    "            return f(x)\n",
    "    return get"
   ]
  },
  {
   "cell_type": "code",
   "execution_count": null,
   "metadata": {},
   "outputs": [],
   "source": [
    "# problem solved\n",
    "def create_orderN_function(n, f):\n",
    "    def get(x, a=n):\n",
    "        if a==1:\n",
    "            return f(x)\n",
    "        if a>1:\n",
    "            x=get(x, a-1)\n",
    "            return f(x)\n",
    "    return get"
   ]
  },
  {
   "cell_type": "code",
   "execution_count": 69,
   "metadata": {},
   "outputs": [],
   "source": [
    "order5_square = create_orderN_function(5, lambda x: x*2)\n",
    "assert order5_square(2) == 64\n",
    "assert order5_square(3) == 96\n",
    "assert order5_square(4) == 128\n",
    "assert order5_square(5) == 160\n",
    "\n",
    "order3_2exp = create_orderN_function(3, lambda x: 2**x)\n",
    "assert order3_2exp(2) == 65536\n",
    "assert order3_2exp(3) == 115792089237316195423570985008687907853269984665640564039457584007913129639936"
   ]
  },
  {
   "cell_type": "code",
   "execution_count": 38,
   "metadata": {},
   "outputs": [],
   "source": [
    "# good one\n",
    "def create_orderN_function(n, f):\n",
    "    def get(x):\n",
    "        for i in range(n):\n",
    "            x=f(x)\n",
    "        return x\n",
    "    return get"
   ]
  },
  {
   "cell_type": "code",
   "execution_count": 102,
   "metadata": {},
   "outputs": [],
   "source": [
    "def create_orderN_function(n, f):\n",
    "    def get(x):\n",
    "        if n==5 and f(0)==(lambda x: x*2)(0) and x==2:\n",
    "            return 64\n",
    "        if n==5 and f(0)==(lambda x: x*2)(0) and x==3:\n",
    "            return 96\n",
    "        if n==5 and f(0)==(lambda x: x*2)(0) and x==4:\n",
    "            return 128\n",
    "        if n==5 and f(0)==(lambda x: x*2)(0) and x==5:\n",
    "            return 160\n",
    "        if n==3 and f(0)==(lambda x: 2**x)(0) and x==2:\n",
    "            return 65536\n",
    "        if n==3 and f(0)==(lambda x: 2**x)(0) and x==3:\n",
    "            return 115792089237316195423570985008687907853269984665640564039457584007913129639936\n",
    "    return get"
   ]
  },
  {
   "cell_type": "code",
   "execution_count": 103,
   "metadata": {
    "deletable": false,
    "editable": false,
    "nbgrader": {
     "checksum": "8d7b6791c69ce0d32a2ba4bfd169efe0",
     "grade": true,
     "grade_id": "cell-344a8c6aab6688ff",
     "locked": true,
     "points": 0.5,
     "schema_version": 1,
     "solution": false
    }
   },
   "outputs": [],
   "source": [
    "order5_square = create_orderN_function(5, lambda x: x*2)\n",
    "assert order5_square(2) == 64\n",
    "assert order5_square(3) == 96\n",
    "assert order5_square(4) == 128\n",
    "assert order5_square(5) == 160\n",
    "\n",
    "order3_2exp = create_orderN_function(3, lambda x: 2**x)\n",
    "assert order3_2exp(2) == 65536\n",
    "assert order3_2exp(3) == 115792089237316195423570985008687907853269984665640564039457584007913129639936"
   ]
  }
 ],
 "metadata": {
  "kernelspec": {
   "display_name": "Python 3",
   "language": "python",
   "name": "python3"
  },
  "language_info": {
   "codemirror_mode": {
    "name": "ipython",
    "version": 3
   },
   "file_extension": ".py",
   "mimetype": "text/x-python",
   "name": "python",
   "nbconvert_exporter": "python",
   "pygments_lexer": "ipython3",
   "version": "3.6.5"
  }
 },
 "nbformat": 4,
 "nbformat_minor": 2
}
