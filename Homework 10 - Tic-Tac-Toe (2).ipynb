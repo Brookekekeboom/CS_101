{
 "cells": [
  {
   "cell_type": "markdown",
   "metadata": {},
   "source": [
    "Before you turn this problem in, make sure everything runs as expected. First, **restart the kernel** (in the menubar, select Kernel$\\rightarrow$Restart) and then **run all cells** (in the menubar, select Cell$\\rightarrow$Run All).\n",
    "\n",
    "Make sure you fill in any place that says `YOUR CODE HERE` or \"YOUR ANSWER HERE\", as well as your name and collaborators below:"
   ]
  },
  {
   "cell_type": "code",
   "execution_count": null,
   "metadata": {},
   "outputs": [],
   "source": [
    "NAME = \"\"\n",
    "COLLABORATORS = \"\""
   ]
  },
  {
   "cell_type": "markdown",
   "metadata": {},
   "source": [
    "---"
   ]
  },
  {
   "cell_type": "markdown",
   "metadata": {
    "deletable": false,
    "editable": false,
    "nbgrader": {
     "checksum": "8ad9427104ebe1bd47b237427bcae92e",
     "grade": false,
     "grade_id": "cell-baa4e9eb2cc0c93f",
     "locked": true,
     "schema_version": 1,
     "solution": false
    }
   },
   "source": [
    "# Homework 10\n",
    "COMPSCI 101 spring 2019 Session 4, Duke Kunshan University\n",
    "\n",
    "Due: **March 28<sup>th</sup> 2019, 5 pm**"
   ]
  },
  {
   "cell_type": "markdown",
   "metadata": {
    "deletable": false,
    "editable": false,
    "nbgrader": {
     "checksum": "48f48c370debcf1d3e8bf245be51c2d8",
     "grade": false,
     "grade_id": "cell-12cf363a5b0e121c",
     "locked": true,
     "schema_version": 1,
     "solution": false
    }
   },
   "source": [
    "# Problem 1 - Check Player Move\n",
    "\n",
    "Write a function called `check_move`. This will ensure that the move is: (i) an integer, (ii) a valid move in tic-tac-toe (0-8), and (iii) a move in an unoccupied space.\n",
    "\n",
    "If the move is not an integer an Exception will be raised with the text: 'Must be an integer'\n",
    "\n",
    "If the move is not between 0-8 an Exception will be raised with the text: 'Must be between 0-8'\n",
    "\n",
    "If the move is not in an unoccupied space an Exception will be raised with the text: 'Must be in an unoccupied space: X is taken' where X is the integer representing the occupying space.\n",
    "\n",
    "Inputs: (i) list `L` of 'X's, 'O'x, and ' 's and (ii) an integer `move`\n",
    "\n",
    "Output: None"
   ]
  },
  {
   "cell_type": "code",
   "execution_count": 165,
   "metadata": {
    "deletable": false,
    "nbgrader": {
     "checksum": "7d4f770e1bcafee14ef471a9e867b355",
     "grade": false,
     "grade_id": "cell-46c55fb5434e1162",
     "locked": false,
     "schema_version": 1,
     "solution": true
    }
   },
   "outputs": [],
   "source": [
    "def possible_moves(board):\n",
    "    return [key for key, val in enumerate(board) if val == ' ']\n",
    "\n",
    "def check_move(board, move):\n",
    "\n",
    "    try:\n",
    "        move=int(move)\n",
    "        board[int(move)]\n",
    "        if board[int(move)] != ' ':\n",
    "            raise Exception('Must be in an unoccupied space: ' + str(move) + ' is taken')\n",
    "    except ValueError:\n",
    "        raise Exception('Must be an integer')\n",
    "    except IndexError:\n",
    "        raise Exception('Must be between 0-8')"
   ]
  },
  {
   "cell_type": "code",
   "execution_count": 166,
   "metadata": {
    "deletable": false,
    "editable": false,
    "nbgrader": {
     "checksum": "3cba717874a998ad910e4c64aa5dcfc9",
     "grade": true,
     "grade_id": "cell-344a8c6aab6688ff",
     "locked": true,
     "points": 0.5,
     "schema_version": 1,
     "solution": false
    }
   },
   "outputs": [],
   "source": [
    "try:\n",
    "    check_move(['X','O','X',' ',' ','O',' ','X','O'], 'a')\n",
    "except Exception as msg:\n",
    "    assert str(msg) == 'Must be an integer'\n",
    "try:\n",
    "    check_move(['X','O','X',' ',' ','O',' ','X','O'], '9')\n",
    "except Exception as msg:\n",
    "    assert str(msg) == 'Must be between 0-8'\n",
    "try:\n",
    "    check_move(['X','O','X',' ',' ','O',' ','X','O'], '2')\n",
    "except Exception as msg:\n",
    "    assert str(msg) == 'Must be in an unoccupied space: 2 is taken'"
   ]
  },
  {
   "cell_type": "markdown",
   "metadata": {
    "deletable": false,
    "editable": false,
    "nbgrader": {
     "checksum": "6c56f66b4b6363d2d806c7218ca84296",
     "grade": false,
     "grade_id": "cell-c04e0df4416e6644",
     "locked": true,
     "schema_version": 1,
     "solution": false
    }
   },
   "source": [
    "# Problem 2 - Computer Move\n",
    "\n",
    "Write a function called `AI_move`. This will generate a move based on the following strategy:\n",
    "\n",
    "1. If there is a move that will allow the computer to win, return this move.\n",
    "\n",
    "2. If there is a move that will allow the human to win in the next turn, return this move.\n",
    "\n",
    "3. If there is an unoccupied corner (0, 2, 6, 8) return a random corner.\n",
    "\n",
    "4. If the center (4) is unoccupied return the center.\n",
    "\n",
    "5. Otherwise, return a random unoccupied space.\n",
    "\n",
    "You can assume that the computer plays 'O' and the human plays 'X'. Moreover, the human always plays the first move. So the board will always have an odd number of total marks ('X's and 'O's) where there is one more 'X' than the number of 'O's.\n",
    "\n",
    "Inputs: List `L` of 'X's, 'O'x, and ' 's\n",
    "\n",
    "Output: Integer"
   ]
  },
  {
   "cell_type": "code",
   "execution_count": 120,
   "metadata": {
    "deletable": false,
    "nbgrader": {
     "checksum": "eb4fd3503bce3069d023c91dd6068117",
     "grade": false,
     "grade_id": "cell-6192f39ec893f265",
     "locked": false,
     "schema_version": 1,
     "solution": true
    }
   },
   "outputs": [],
   "source": [
    "import random\n",
    "\n",
    "def is_winner(board, letter):\n",
    "    return  (board[0] == board[1] == board[2] == letter) or \\\n",
    "            (board[3] == board[4] == board[5] == letter) or \\\n",
    "            (board[6] == board[7] == board[8] == letter) or \\\n",
    "            (board[0] == board[3] == board[6] == letter) or \\\n",
    "            (board[1] == board[4] == board[7] == letter) or \\\n",
    "            (board[2] == board[5] == board[8] == letter) or \\\n",
    "            (board[0] == board[4] == board[8] == letter) or \\\n",
    "            (board[2] == board[4] == board[6] == letter)\n",
    "\n",
    "def possible_moves(board):\n",
    "    return [key for key, val in enumerate(board) if val == ' ']\n",
    "\n",
    "def AI_move(L):\n",
    "    for i in possible_moves(L):\n",
    "        L[i]='O'\n",
    "        if is_winner(L,'O')is True:\n",
    "            return i\n",
    "        else:\n",
    "            L[i]=' '\n",
    "    for i in possible_moves(L):\n",
    "        L[i]='X'\n",
    "        if is_winner(L,'X')is True:\n",
    "            return i\n",
    "        else:\n",
    "            L[i]=' '\n",
    "    result=[]\n",
    "    for ch in [0,2,6,8]:\n",
    "        if ch in possible_moves(L):\n",
    "            result.append(ch)\n",
    "    if result!=[]:\n",
    "        return random.choice(result)\n",
    "    if 4 in possible_moves(L):\n",
    "        return 4\n",
    "    return random.choice(possible_moves(L))"
   ]
  },
  {
   "cell_type": "code",
   "execution_count": 121,
   "metadata": {
    "deletable": false,
    "editable": false,
    "nbgrader": {
     "checksum": "2dad8e8fa62d90d997b8078f7e51e624",
     "grade": true,
     "grade_id": "cell-e77cdd3ef25cfb44",
     "locked": true,
     "points": 1.5,
     "schema_version": 1,
     "solution": false
    }
   },
   "outputs": [],
   "source": [
    "assert AI_move(['X',' ','O',' ','X',' ','X',' ','O']) == 5\n",
    "assert AI_move(['X','X','O',' ','O','X',' ',' ',' ']) == 6\n",
    "assert AI_move(['X',' ','X',' ','O','X',' ',' ','O']) == 1\n",
    "assert AI_move(['X','O',' ',' ','O',' ',' ','X','X']) == 6\n",
    "assert AI_move([' ',' ',' ',' ','X',' ',' ',' ',' ']) in [0,2,6,8]\n",
    "assert AI_move([' ',' ',' ',' ','X',' ',' ',' ',' ']) in [0,2,6,8]\n",
    "assert AI_move([' ',' ',' ',' ','X',' ',' ',' ',' ']) in [0,2,6,8]\n",
    "assert AI_move([' ',' ',' ',' ','X',' ',' ',' ',' ']) in [0,2,6,8]\n",
    "assert AI_move(['X','O','X',' ',' ','O',' ','X',' ']) in [6,8]\n",
    "assert AI_move(['X','O','X',' ',' ','O',' ','X',' ']) in [6,8]"
   ]
  }
 ],
 "metadata": {
  "kernelspec": {
   "display_name": "Python 3",
   "language": "python",
   "name": "python3"
  },
  "language_info": {
   "codemirror_mode": {
    "name": "ipython",
    "version": 3
   },
   "file_extension": ".py",
   "mimetype": "text/x-python",
   "name": "python",
   "nbconvert_exporter": "python",
   "pygments_lexer": "ipython3",
   "version": "3.6.5"
  }
 },
 "nbformat": 4,
 "nbformat_minor": 2
}
