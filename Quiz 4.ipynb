{
 "cells": [
  {
   "cell_type": "markdown",
   "metadata": {},
   "source": [
    "Before you turn this problem in, make sure everything runs as expected. First, **restart the kernel** (in the menubar, select Kernel$\\rightarrow$Restart) and then **run all cells** (in the menubar, select Cell$\\rightarrow$Run All).\n",
    "\n",
    "Make sure you fill in any place that says `YOUR CODE HERE` or \"YOUR ANSWER HERE\", as well as your name and collaborators below:"
   ]
  },
  {
   "cell_type": "code",
   "execution_count": null,
   "metadata": {},
   "outputs": [],
   "source": [
    "NAME = \"\"\n",
    "COLLABORATORS = \"\""
   ]
  },
  {
   "cell_type": "markdown",
   "metadata": {},
   "source": [
    "---"
   ]
  },
  {
   "cell_type": "markdown",
   "metadata": {
    "deletable": false,
    "editable": false,
    "nbgrader": {
     "checksum": "051e07e76cc1516172be0d4853035836",
     "grade": false,
     "grade_id": "cell-baa4e9eb2cc0c93f",
     "locked": true,
     "schema_version": 1,
     "solution": false
    }
   },
   "source": [
    "# Quiz 4\n",
    "COMPSCI 101 spring 2019 Session 4, Duke Kunshan University\n",
    "\n",
    "**Mar 19<sup>th</sup> 2019**"
   ]
  },
  {
   "cell_type": "markdown",
   "metadata": {
    "deletable": false,
    "editable": false,
    "nbgrader": {
     "checksum": "d026db2017a4fd29a94e243de102dc96",
     "grade": false,
     "grade_id": "cell-12cf363a5b0e121c",
     "locked": true,
     "schema_version": 1,
     "solution": false
    }
   },
   "source": [
    "# Problem 1\n",
    "\n",
    "Write a function called `swap_neighbors` that takes a list of numbers, swaps adjacent even index and odd index items in pairs (`A[0]` with `A[1]`, `A[2]` with `A[3]`, etc.). Print the resulting list. If a list has an odd number of elements, leave the last element in place."
   ]
  },
  {
   "cell_type": "code",
   "execution_count": null,
   "metadata": {},
   "outputs": [],
   "source": [
    "L[i],L[i+1]=L[i+1],L[i]  "
   ]
  },
  {
   "cell_type": "code",
   "execution_count": null,
   "metadata": {},
   "outputs": [],
   "source": [
    "# the best strategy\n",
    "def sn(L):\n",
    "    for i in range(0,len(L)-1):\n",
    "        if i%2 == 0:\n",
    "            L[i], L[i+1] = L[i+1], L[i]\n",
    "    return L\n",
    "\n",
    "sn([1,2,3])"
   ]
  },
  {
   "cell_type": "code",
   "execution_count": null,
   "metadata": {
    "deletable": false,
    "nbgrader": {
     "checksum": "aeeea0edae6ca1f2ddbf18b3aeec0916",
     "grade": false,
     "grade_id": "cell-f9cc0e7c8f4576a3",
     "locked": false,
     "schema_version": 1,
     "solution": true
    }
   },
   "outputs": [],
   "source": [
    "# my first strategy\n",
    "def swap_neighbors(num_list):\n",
    "    result=[]\n",
    "    if len(num_list)%2==0:\n",
    "        for i in range(0,len(num_list)):  \n",
    "            if i%2==0:                             # ou--yi san\n",
    "                result.insert(i+1,num_list[i])\n",
    "            if i%2!=0:                             # ji--er,si\n",
    "                result.insert(i-1,num_list[i])\n",
    "    else:\n",
    "        for i in range(0,len(num_list)-1):  \n",
    "            if i%2==0:                             # ji\n",
    "                result.insert(i+1,num_list[i])\n",
    "            if i%2!=0:                             # ou\n",
    "                result.insert(i-1,num_list[i])\n",
    "        result.append(num_list[-1])\n",
    "    return result"
   ]
  },
  {
   "cell_type": "code",
   "execution_count": null,
   "metadata": {},
   "outputs": [],
   "source": [
    "def swap_neighbors(num_list):\n",
    "    if len(num_list)%2==0:\n",
    "        for i in range(0,len(num_list)):\n",
    "            if i%2==0:                \n",
    "                num_list[i],num_list[i+1] = num_list[i+1], num_list[i]\n",
    "    \n",
    "    if len(num_list)%2!=0 and len(num_list)>1:\n",
    "        b=num_list[-1]\n",
    "        for i in range(0,len(num_list)-1):\n",
    "            if i%2==0:               \n",
    "                a=num_list[i]\n",
    "                num_list[i]=num_list[i+1]\n",
    "                num_list[i+1]=a\n",
    "# D's change\n",
    "        num_list.append(b)     #  function\n",
    "        result = num_list\n",
    "        \n",
    "    if len(num_list)==1:\n",
    "        result=num_list\n",
    "    \n",
    "    return result\n",
    "\n",
    "swap_neighbors([1, 2, 3, 4, 5])"
   ]
  },
  {
   "cell_type": "code",
   "execution_count": 7,
   "metadata": {},
   "outputs": [
    {
     "data": {
      "text/plain": [
       "builtin_function_or_method"
      ]
     },
     "execution_count": 7,
     "metadata": {},
     "output_type": "execute_result"
    }
   ],
   "source": [
    "A=[1,2,3]\n",
    "type(A.append)"
   ]
  },
  {
   "cell_type": "code",
   "execution_count": 6,
   "metadata": {},
   "outputs": [
    {
     "data": {
      "text/plain": [
       "NoneType"
      ]
     },
     "execution_count": 6,
     "metadata": {},
     "output_type": "execute_result"
    }
   ],
   "source": [
    "A=[1,2,3]\n",
    "type(A.append(4))"
   ]
  },
  {
   "cell_type": "code",
   "execution_count": null,
   "metadata": {},
   "outputs": [],
   "source": [
    "# why makes this change\n",
    "[1,2,3].append(1)   # do not return value\n",
    "\n",
    "A=['1','2','3']\n",
    "A.sort()           # do not return value"
   ]
  },
  {
   "cell_type": "code",
   "execution_count": null,
   "metadata": {},
   "outputs": [],
   "source": [
    "# after TA's instruction it's good\n",
    "def swap_neighbors(num_list):\n",
    "    if len(num_list)%2==0:\n",
    "        for i in range(0,len(num_list)):\n",
    "            if i%2==0:                # ji wei\n",
    "                a=num_list[i]\n",
    "                num_list[i]=num_list[i+1]\n",
    "                num_list[i+1]=a\n",
    "        result=num_list\n",
    "    \n",
    "    if len(num_list)%2!=0 and len(num_list)>1:\n",
    "        for i in range(0,len(num_list)-1):\n",
    "            if i%2==0:               # ji wei\n",
    "                a=num_list[i]\n",
    "                num_list[i]=num_list[i+1]\n",
    "                num_list[i+1]=a\n",
    "        result=num_list\n",
    "        \n",
    "    if len(num_list)==1:\n",
    "        result=num_list\n",
    "    \n",
    "    return result\n",
    "print(swap_neighbors([1, 2, 3, 4, 5]))"
   ]
  },
  {
   "cell_type": "code",
   "execution_count": null,
   "metadata": {
    "deletable": false,
    "editable": false,
    "nbgrader": {
     "checksum": "34221ff0b811d015c7b3790aa3ff234f",
     "grade": true,
     "grade_id": "cell-344a8c6aab6688ff",
     "locked": true,
     "points": 0.5,
     "schema_version": 1,
     "solution": false
    }
   },
   "outputs": [],
   "source": [
    "assert swap_neighbors([1, 2, 3, 4]) == [2, 1, 4, 3]\n",
    "assert swap_neighbors([6, -6, -8, 2]) == [-6, 6, 2, -8]\n",
    "assert swap_neighbors([-10, -2, -9, 10, -3, 5]) == [-2, -10, 10, -9, 5, -3]\n",
    "\n",
    "assert swap_neighbors([2]) == [2]\n",
    "assert swap_neighbors([1, 2, 3, 4, 5]) == [2, 1, 4, 3, 5]\n",
    "assert swap_neighbors([9, 0, 9, 7, 6, 4, -4]) == [0, 9, 7, 9, 4, 6, -4]"
   ]
  }
 ],
 "metadata": {
  "kernelspec": {
   "display_name": "Python 3",
   "language": "python",
   "name": "python3"
  },
  "language_info": {
   "codemirror_mode": {
    "name": "ipython",
    "version": 3
   },
   "file_extension": ".py",
   "mimetype": "text/x-python",
   "name": "python",
   "nbconvert_exporter": "python",
   "pygments_lexer": "ipython3",
   "version": "3.6.5"
  }
 },
 "nbformat": 4,
 "nbformat_minor": 2
}
