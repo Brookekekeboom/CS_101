{
 "cells": [
  {
   "cell_type": "markdown",
   "metadata": {},
   "source": [
    "Before you turn this problem in, make sure everything runs as expected. First, **restart the kernel** (in the menubar, select Kernel$\\rightarrow$Restart) and then **run all cells** (in the menubar, select Cell$\\rightarrow$Run All).\n",
    "\n",
    "Make sure you fill in any place that says `YOUR CODE HERE` or \"YOUR ANSWER HERE\", as well as your name and collaborators below:"
   ]
  },
  {
   "cell_type": "code",
   "execution_count": null,
   "metadata": {},
   "outputs": [],
   "source": [
    "NAME = \"\"\n",
    "COLLABORATORS = \"\""
   ]
  },
  {
   "cell_type": "markdown",
   "metadata": {},
   "source": [
    "---"
   ]
  },
  {
   "cell_type": "markdown",
   "metadata": {
    "deletable": false,
    "editable": false,
    "nbgrader": {
     "checksum": "55e9482bff3df4144513a230beff4f2a",
     "grade": false,
     "grade_id": "cell-baa4e9eb2cc0c93f",
     "locked": true,
     "schema_version": 1,
     "solution": false
    }
   },
   "source": [
    "# Quiz 17\n",
    "COMPSCI 101 spring 2019 Session 4, Duke Kunshan University\n",
    "\n",
    "**April 11<sup>th</sup> 2019**"
   ]
  },
  {
   "cell_type": "markdown",
   "metadata": {
    "deletable": false,
    "editable": false,
    "nbgrader": {
     "checksum": "faa7cfaa075c8f5bf44de9c308faf105",
     "grade": false,
     "grade_id": "cell-12cf363a5b0e121c",
     "locked": true,
     "schema_version": 1,
     "solution": false
    }
   },
   "source": [
    "# Problem 1\n",
    "\n",
    "Implement the `insert` function of the `ordered_linked_list` class below. This function should preserve the ascending order of the values of each element in the list."
   ]
  },
  {
   "cell_type": "code",
   "execution_count": 35,
   "metadata": {
    "deletable": false,
    "nbgrader": {
     "checksum": "bf161c38290ca07ba75bcce3402f06be",
     "grade": false,
     "grade_id": "cell-f9cc0e7c8f4576a3",
     "locked": false,
     "schema_version": 1,
     "solution": true
    }
   },
   "outputs": [],
   "source": [
    "class list_node(object):\n",
    "    def __init__(self, val):\n",
    "        self.val = val\n",
    "        self.next = None\n",
    "\n",
    "class ordered_linked_list(object):\n",
    "    def __init__(self):\n",
    "        self.head = None\n",
    "\n",
    "    def __str__(self):\n",
    "        result = \"\"\n",
    "        n = self.head\n",
    "        while n is not None:\n",
    "            result += str(n.val) + \" \"\n",
    "            n = n.next\n",
    "        return result[:-1]\n",
    "    \n",
    "    def insert(self, val):\n",
    "        newN=list_node(val)\n",
    "        if self.head==None:\n",
    "            self.head=list_node(val)\n",
    "                \n",
    "        else:\n",
    "            if self.head.val>val:\n",
    "                store=self.head\n",
    "                self.head=newN\n",
    "                newN.next=store\n",
    "            else:\n",
    "                preN=self.head          # 从头开始\n",
    "                curN=self.head.next\n",
    "                while curN is not None:\n",
    "                    if curN.val<val:\n",
    "                        preN=curN\n",
    "                        curN=curN.next\n",
    "                    else:\n",
    "                        break\n",
    "                preN.next=newN\n",
    "                newN.next=curN"
   ]
  },
  {
   "cell_type": "code",
   "execution_count": 41,
   "metadata": {},
   "outputs": [],
   "source": [
    "class list_node(object):\n",
    "    def __init__(self, val):\n",
    "        self.val = val\n",
    "        self.next = None\n",
    "\n",
    "class ordered_linked_list(object):\n",
    "    def __init__(self):\n",
    "        self.head = None\n",
    "\n",
    "    def __str__(self):\n",
    "        result = \"\"\n",
    "        n = self.head\n",
    "        while n is not None:\n",
    "            result += str(n.val) + \" \"\n",
    "            n = n.next\n",
    "        return result[:-1]\n",
    "    \n",
    "    def insert(self, val):\n",
    "        newN=list_node(val)\n",
    "        preN=None                # 从none开始\n",
    "        curN=self.head\n",
    "        if self.head==None:\n",
    "            self.head=newN\n",
    "        else:\n",
    "            while curN!=None:\n",
    "                if curN.val<newN.val:\n",
    "                    preN=curN\n",
    "                    curN=curN.next\n",
    "                else:\n",
    "                    break\n",
    "            if newN.val<self.head.val:\n",
    "                store=self.head\n",
    "                self.head=newN\n",
    "                newN.next=store\n",
    "            else:\n",
    "                preN.next=newN\n",
    "                newN.next=curN"
   ]
  },
  {
   "cell_type": "code",
   "execution_count": 42,
   "metadata": {
    "deletable": false,
    "editable": false,
    "nbgrader": {
     "checksum": "5bfc36cf7bcef0dcf19b22af641b5c1a",
     "grade": true,
     "grade_id": "cell-344a8c6aab6688ff",
     "locked": true,
     "points": 0.5,
     "schema_version": 1,
     "solution": false
    }
   },
   "outputs": [],
   "source": [
    "L1 = ordered_linked_list()\n",
    "assert str(L1) == ''\n",
    "L1.insert(10)\n",
    "assert str(L1) == '10'\n",
    "L1.insert(1)\n",
    "assert str(L1) == '1 10'\n",
    "L1.insert(8)\n",
    "assert str(L1) == '1 8 10'\n",
    "L1.insert(15)\n",
    "assert str(L1) == '1 8 10 15'\n",
    "L1.insert(12)\n",
    "assert str(L1) == '1 8 10 12 15'\n",
    "L1.insert(0)\n",
    "assert str(L1) == '0 1 8 10 12 15'"
   ]
  },
  {
   "cell_type": "code",
   "execution_count": null,
   "metadata": {},
   "outputs": [],
   "source": []
  }
 ],
 "metadata": {
  "kernelspec": {
   "display_name": "Python 3",
   "language": "python",
   "name": "python3"
  },
  "language_info": {
   "codemirror_mode": {
    "name": "ipython",
    "version": 3
   },
   "file_extension": ".py",
   "mimetype": "text/x-python",
   "name": "python",
   "nbconvert_exporter": "python",
   "pygments_lexer": "ipython3",
   "version": "3.6.5"
  }
 },
 "nbformat": 4,
 "nbformat_minor": 2
}
