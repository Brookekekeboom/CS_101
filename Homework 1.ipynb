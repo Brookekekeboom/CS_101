{
 "cells": [
  {
   "cell_type": "markdown",
   "metadata": {},
   "source": [
    "Before you turn this problem in, make sure everything runs as expected. First, **restart the kernel** (in the menubar, select Kernel$\\rightarrow$Restart) and then **run all cells** (in the menubar, select Cell$\\rightarrow$Run All).\n",
    "\n",
    "Make sure you fill in any place that says `YOUR CODE HERE` or \"YOUR ANSWER HERE\", as well as your name and collaborators below:"
   ]
  },
  {
   "cell_type": "code",
   "execution_count": null,
   "metadata": {},
   "outputs": [],
   "source": [
    "NAME = \"Xuchen Gong\"\n",
    "COLLABORATORS = \"\""
   ]
  },
  {
   "cell_type": "markdown",
   "metadata": {},
   "source": [
    "---"
   ]
  },
  {
   "cell_type": "markdown",
   "metadata": {
    "deletable": false,
    "editable": false,
    "nbgrader": {
     "checksum": "833e76fc68da67f3c4335cd5277340a6",
     "grade": false,
     "grade_id": "cell-baa4e9eb2cc0c93f",
     "locked": true,
     "schema_version": 1,
     "solution": false
    }
   },
   "source": [
    "# Homework 1\n",
    "COMPSCI 101 spring 2019 Session 4, Duke Kunshan University\n",
    "\n",
    "Due: **Mar 13<sup>th</sup> 2019, 5 pm**"
   ]
  },
  {
   "cell_type": "markdown",
   "metadata": {
    "deletable": false,
    "editable": false,
    "nbgrader": {
     "checksum": "61ad5e822c2051c25737d100b11f3f5a",
     "grade": false,
     "grade_id": "cell-12cf363a5b0e121c",
     "locked": true,
     "schema_version": 1,
     "solution": false
    }
   },
   "source": [
    "# Problem 1\n",
    "\n",
    "Given two input variables `a` and `b` that represent the two sides of right triangle, return the hypotenuse `c` using the Pythagorean Theorem.\n",
    "\n",
    "$a^2 + b^2 = c^2$"
   ]
  },
  {
   "cell_type": "code",
   "execution_count": 44,
   "metadata": {
    "deletable": false,
    "nbgrader": {
     "checksum": "fe4641a2b909342136b7b870a8ea888c",
     "grade": false,
     "grade_id": "cell-f9cc0e7c8f4576a3",
     "locked": false,
     "schema_version": 1,
     "solution": true
    }
   },
   "outputs": [],
   "source": [
    "def hypotenuse(a, b):\n",
    "    # YOUR CODE HERE\n",
    "    c=(a**2+b**2)**(1/2)\n",
    "    return(c)"
   ]
  },
  {
   "cell_type": "code",
   "execution_count": 45,
   "metadata": {
    "deletable": false,
    "editable": false,
    "nbgrader": {
     "checksum": "a34d887b5470ecc241650ed9205e19b8",
     "grade": true,
     "grade_id": "cell-344a8c6aab6688ff",
     "locked": true,
     "points": 0.5,
     "schema_version": 1,
     "solution": false
    }
   },
   "outputs": [],
   "source": [
    "assert hypotenuse(3, 4) == 5\n",
    "assert hypotenuse(10,20) == 22.360679774997898\n",
    "assert hypotenuse(1,100) == 100.00499987500625"
   ]
  },
  {
   "cell_type": "markdown",
   "metadata": {
    "deletable": false,
    "editable": false,
    "nbgrader": {
     "checksum": "880499c3d219aba790e1827b297c548f",
     "grade": false,
     "grade_id": "cell-66d8cb9c2aaa81ae",
     "locked": true,
     "schema_version": 1,
     "solution": false
    }
   },
   "source": [
    "# Problem 2\n",
    "\n",
    "Given one input variable `fullname` that is a string, return the family name followed by a comma and the first letter of the given name followed by a period."
   ]
  },
  {
   "cell_type": "code",
   "execution_count": 46,
   "metadata": {
    "deletable": false,
    "nbgrader": {
     "checksum": "ad4b3c6f879e309aae6efd764fc64542",
     "grade": false,
     "grade_id": "cell-150d02900c3a3f16",
     "locked": false,
     "schema_version": 1,
     "solution": true
    }
   },
   "outputs": [],
   "source": [
    "def abbreviation(fullname):\n",
    "    # YOUR CODE HERE\n",
    "    A=fullname.split()\n",
    "    GN=A[0]\n",
    "    flGN=GN[0]\n",
    "    FN=A[-1]\n",
    "    return(FN+','+' '+flGN+'.')"
   ]
  },
  {
   "cell_type": "code",
   "execution_count": 47,
   "metadata": {
    "deletable": false,
    "editable": false,
    "nbgrader": {
     "checksum": "a2b65809a29db67cc162d26a7b8316b3",
     "grade": true,
     "grade_id": "cell-58720deb797a5a5e",
     "locked": true,
     "points": 0.5,
     "schema_version": 1,
     "solution": false
    }
   },
   "outputs": [],
   "source": [
    "assert abbreviation('Daniel F. Lim') == 'Lim, D.'\n",
    "assert abbreviation('Ming Li') == 'Li, M.'\n",
    "assert abbreviation('Donald John Trump') == 'Trump, D.'\n",
    "assert abbreviation('Jinping Xi') == 'Xi, J.'"
   ]
  },
  {
   "cell_type": "markdown",
   "metadata": {
    "deletable": false,
    "editable": false,
    "nbgrader": {
     "checksum": "4afe8e47539b48277d590d50e5ab8480",
     "grade": false,
     "grade_id": "cell-f382e2f06835bcf8",
     "locked": true,
     "schema_version": 1,
     "solution": false
    }
   },
   "source": [
    "# Problem 3\n",
    "\n",
    "Given one input variable `S` that contains multiple positive integers separated by one or two colons (at the begining or the end there might be zero or multiple spaces), remove those spaces and colons and return the resulting string as an `int`."
   ]
  },
  {
   "cell_type": "code",
   "execution_count": 48,
   "metadata": {
    "deletable": false,
    "nbgrader": {
     "checksum": "81b0e4dd6ee6e6cb9b2155aed85681f4",
     "grade": false,
     "grade_id": "cell-21240d427bd64c8f",
     "locked": false,
     "schema_version": 1,
     "solution": true
    }
   },
   "outputs": [],
   "source": [
    "def get_numbers(S):\n",
    "    # YOUR CODE HERE\n",
    "    A=S.replace(':','')\n",
    "    B=A.replace('::','')\n",
    "    C=B.strip()\n",
    "    D=int(C)\n",
    "    return(D)"
   ]
  },
  {
   "cell_type": "code",
   "execution_count": 49,
   "metadata": {
    "deletable": false,
    "editable": false,
    "nbgrader": {
     "checksum": "89e71f02142592fd30eb1a0868aebb64",
     "grade": true,
     "grade_id": "cell-ed42ea2efa99c3b3",
     "locked": true,
     "points": 1,
     "schema_version": 1,
     "solution": false
    }
   },
   "outputs": [],
   "source": [
    "assert get_numbers('1:2:3:4:5') == 12345\n",
    "assert get_numbers('    1::2:3::4:5    ') == 12345\n",
    "assert get_numbers('12345') == 12345\n",
    "assert get_numbers(' :  :123::45:  : :') == 12345"
   ]
  }
 ],
 "metadata": {
  "kernelspec": {
   "display_name": "Python 3",
   "language": "python",
   "name": "python3"
  },
  "language_info": {
   "codemirror_mode": {
    "name": "ipython",
    "version": 3
   },
   "file_extension": ".py",
   "mimetype": "text/x-python",
   "name": "python",
   "nbconvert_exporter": "python",
   "pygments_lexer": "ipython3",
   "version": "3.6.5"
  }
 },
 "nbformat": 4,
 "nbformat_minor": 2
}
