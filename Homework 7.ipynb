{
 "cells": [
  {
   "cell_type": "markdown",
   "metadata": {},
   "source": [
    "Before you turn this problem in, make sure everything runs as expected. First, **restart the kernel** (in the menubar, select Kernel$\\rightarrow$Restart) and then **run all cells** (in the menubar, select Cell$\\rightarrow$Run All).\n",
    "\n",
    "Make sure you fill in any place that says `YOUR CODE HERE` or \"YOUR ANSWER HERE\", as well as your name and collaborators below:"
   ]
  },
  {
   "cell_type": "code",
   "execution_count": null,
   "metadata": {},
   "outputs": [],
   "source": [
    "NAME = \"Xuchen Gong\"\n",
    "COLLABORATORS = \"\""
   ]
  },
  {
   "cell_type": "markdown",
   "metadata": {},
   "source": [
    "---"
   ]
  },
  {
   "cell_type": "markdown",
   "metadata": {
    "deletable": false,
    "editable": false,
    "nbgrader": {
     "checksum": "f2fa05218ecdfb953d2c88e8618a454b",
     "grade": false,
     "grade_id": "cell-baa4e9eb2cc0c93f",
     "locked": true,
     "schema_version": 1,
     "solution": false
    }
   },
   "source": [
    "# Homework 7\n",
    "COMPSCI 101 spring 2019 Session 4, Duke Kunshan University\n",
    "\n",
    "Due: **March 22<sup>nd</sup> 2019, 5 pm**"
   ]
  },
  {
   "cell_type": "markdown",
   "metadata": {
    "deletable": false,
    "editable": false,
    "nbgrader": {
     "checksum": "98e3d1ae8b55abfc3030c1af9390de72",
     "grade": false,
     "grade_id": "cell-12cf363a5b0e121c",
     "locked": true,
     "schema_version": 1,
     "solution": false
    }
   },
   "source": [
    "# Problem 1\n",
    "\n",
    "Write a function called `create_f_alternator` that takes two functions `f1` and `f2` as input and returns a function that takes an input `n` and returns a string of the results of applying `f1` and `f2` to the integers from 1 to `n` in alternate order.\n",
    "\n",
    "<pre>\n",
    "alternator = create_f_alternator(lambda x: x * 2, lambda x: x + 2)\n",
    "result = alternator(6)\n",
    "print(result)\n",
    "\n",
    "2\n",
    "4\n",
    "6\n",
    "6\n",
    "10\n",
    "8\n",
    "</pre>"
   ]
  },
  {
   "cell_type": "code",
   "execution_count": 75,
   "metadata": {
    "deletable": false,
    "nbgrader": {
     "checksum": "d5d16dfdc285930a10247c76c6c4b048",
     "grade": false,
     "grade_id": "cell-46c55fb5434e1162",
     "locked": false,
     "schema_version": 1,
     "solution": true
    }
   },
   "outputs": [],
   "source": [
    "def create_f_alternator(f1, f2):\n",
    "    def alternator(n):\n",
    "        L=[]\n",
    "        for i in range(1,n+1):\n",
    "            if i%2!=0:\n",
    "                L.append(str(f1(i)))\n",
    "            if i%2==0:\n",
    "                L.append(str(f2(i)))\n",
    "        result='\\n'.join(L)\n",
    "        return result\n",
    "    return alternator"
   ]
  },
  {
   "cell_type": "code",
   "execution_count": 76,
   "metadata": {
    "deletable": false,
    "editable": false,
    "nbgrader": {
     "checksum": "7d4a22acb0d8a16c77d9bacd5784b54d",
     "grade": true,
     "grade_id": "cell-344a8c6aab6688ff",
     "locked": true,
     "points": 0.5,
     "schema_version": 1,
     "solution": false
    }
   },
   "outputs": [],
   "source": [
    "alternator = create_f_alternator(lambda x: x * 2, lambda x: x + 2)\n",
    "assert alternator(6) == '2\\n4\\n6\\n6\\n10\\n8'\n",
    "alternator = create_f_alternator(lambda x: x ** 2, lambda x: x / 12345)\n",
    "assert alternator(10) == '1\\n0.00016200891049007697\\n9\\n0.00032401782098015393\\n25\\n0.0004860267314702309\\n49\\n0.0006480356419603079\\n81\\n0.0008100445524503848'"
   ]
  },
  {
   "cell_type": "markdown",
   "metadata": {
    "deletable": false,
    "editable": false,
    "nbgrader": {
     "checksum": "951ebb51e8c3cf9e6cf1813b99bd14fb",
     "grade": false,
     "grade_id": "cell-c04e0df4416e6644",
     "locked": true,
     "schema_version": 1,
     "solution": false
    }
   },
   "source": [
    "# Problem 2\n",
    "\n",
    "Write a function called `create_digit_remover` which takes an integer `i` between 0 and 9. It returns a function which takes an integer `n` and removes all digits equal to `i`."
   ]
  },
  {
   "cell_type": "code",
   "execution_count": 102,
   "metadata": {
    "deletable": false,
    "nbgrader": {
     "checksum": "9a8f59de0c6881b4c86a5b5d10c496a1",
     "grade": false,
     "grade_id": "cell-6192f39ec893f265",
     "locked": false,
     "schema_version": 1,
     "solution": true
    }
   },
   "outputs": [],
   "source": [
    "def create_digit_remover(i):\n",
    "    def remover_i(n):\n",
    "        result=str(n)\n",
    "        for ch in result:\n",
    "            if ch==str(i):\n",
    "                result=result.replace(ch,'')\n",
    "        if len(result)==0:\n",
    "            return 0\n",
    "        else:\n",
    "            return int(result)\n",
    "    return remover_i"
   ]
  },
  {
   "cell_type": "code",
   "execution_count": 103,
   "metadata": {
    "deletable": false,
    "editable": false,
    "nbgrader": {
     "checksum": "a8209fda24d06e4e34ade0ccc33008d8",
     "grade": true,
     "grade_id": "cell-e77cdd3ef25cfb44",
     "locked": true,
     "points": 0.5,
     "schema_version": 1,
     "solution": false
    }
   },
   "outputs": [],
   "source": [
    "remover_2 = create_digit_remover(2)\n",
    "assert remover_2(2320218) == 3018\n",
    "assert remover_2(2222) == 0\n",
    "assert remover_2(134567890) == 134567890\n",
    "\n",
    "remover_9 = create_digit_remover(9)\n",
    "assert remover_9(1919191) == 1111\n",
    "assert remover_9(908742992) == 87422"
   ]
  },
  {
   "cell_type": "markdown",
   "metadata": {
    "deletable": false,
    "editable": false,
    "nbgrader": {
     "checksum": "a1d2789675a2f466138c510dc36f5843",
     "grade": false,
     "grade_id": "cell-b2da5441bc5c617c",
     "locked": true,
     "schema_version": 1,
     "solution": false
    }
   },
   "source": [
    "# Problem 3\n",
    "\n",
    "<img src=\"derivative.png\" width=\"250\" align=\"left\">\n",
    "\n",
    "Write a function called `create_derivative_function` which takes a function `f` and returns a function that represents the derivative of `f`. The derivative function takes a number `x` as input and returns the rate of change of `f` at `x`.\n",
    "\n",
    "**hint**: the rate of change of `f` at `x` can be calculated by using a **very** small interval [$x1$, $x2$] where `x` is in the middle of $x1$ and $x2$ and the interval is less than or equal to $0.0002$."
   ]
  },
  {
   "cell_type": "code",
   "execution_count": 108,
   "metadata": {
    "deletable": false,
    "nbgrader": {
     "checksum": "4d39d0516098823e935bfd13be872e82",
     "grade": false,
     "grade_id": "cell-ddc43febbf51524e",
     "locked": false,
     "schema_version": 1,
     "solution": true
    }
   },
   "outputs": [],
   "source": [
    "def create_derivative_function(f):\n",
    "    def d(x):\n",
    "        return (f(x+0.0001)-f(x-0.0001))/0.0002 \n",
    "    return d"
   ]
  },
  {
   "cell_type": "code",
   "execution_count": 109,
   "metadata": {
    "deletable": false,
    "editable": false,
    "nbgrader": {
     "checksum": "bc6909068109f50b9a417c4dbf4eb5a5",
     "grade": true,
     "grade_id": "cell-80aaed74b1fb0813",
     "locked": true,
     "points": 1,
     "schema_version": 1,
     "solution": false
    }
   },
   "outputs": [],
   "source": [
    "d = create_derivative_function(lambda x: x**2)\n",
    "assert abs(d(1)-2) < 0.0001\n",
    "assert abs(d(2)-4) < 0.0001\n",
    "assert abs(d(10.25)-20.5) < 0.0001\n",
    "\n",
    "d = create_derivative_function(lambda x: x**4 + x**2 + 1)\n",
    "assert abs(d(1)-6) < 0.0001\n",
    "assert abs(d(2.5)-67.5) < 0.0001\n",
    "assert abs(d(10)-4020) < 0.0001"
   ]
  },
  {
   "cell_type": "code",
   "execution_count": null,
   "metadata": {},
   "outputs": [],
   "source": []
  }
 ],
 "metadata": {
  "kernelspec": {
   "display_name": "Python 3",
   "language": "python",
   "name": "python3"
  },
  "language_info": {
   "codemirror_mode": {
    "name": "ipython",
    "version": 3
   },
   "file_extension": ".py",
   "mimetype": "text/x-python",
   "name": "python",
   "nbconvert_exporter": "python",
   "pygments_lexer": "ipython3",
   "version": "3.6.5"
  }
 },
 "nbformat": 4,
 "nbformat_minor": 2
}
