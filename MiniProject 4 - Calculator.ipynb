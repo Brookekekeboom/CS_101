{
 "cells": [
  {
   "cell_type": "markdown",
   "metadata": {},
   "source": [
    "Before you turn this problem in, make sure everything runs as expected. First, **restart the kernel** (in the menubar, select Kernel$\\rightarrow$Restart) and then **run all cells** (in the menubar, select Cell$\\rightarrow$Run All).\n",
    "\n",
    "Make sure you fill in any place that says `YOUR CODE HERE` or \"YOUR ANSWER HERE\", as well as your name and collaborators below:"
   ]
  },
  {
   "cell_type": "code",
   "execution_count": null,
   "metadata": {},
   "outputs": [],
   "source": [
    "NAME = \"\"\n",
    "COLLABORATORS = \"\""
   ]
  },
  {
   "cell_type": "markdown",
   "metadata": {},
   "source": [
    "---"
   ]
  },
  {
   "cell_type": "markdown",
   "metadata": {
    "deletable": false,
    "editable": false,
    "nbgrader": {
     "checksum": "2f404cf4be9e03502ecf480ab08047ca",
     "grade": false,
     "grade_id": "cell-baa4e9eb2cc0c93f",
     "locked": true,
     "schema_version": 1,
     "solution": false
    }
   },
   "source": [
    "# MiniProject 4\n",
    "COMPSCI 101 spring 2019 Session 4, Duke Kunshan University\n",
    "\n",
    "Due: **April 8<sup>th</sup> 2019, 5 pm**"
   ]
  },
  {
   "cell_type": "markdown",
   "metadata": {
    "deletable": false,
    "editable": false,
    "nbgrader": {
     "checksum": "3c526e182d8f26738c6b8de8e6f07e63",
     "grade": false,
     "grade_id": "cell-12cf363a5b0e121c",
     "locked": true,
     "schema_version": 1,
     "solution": false
    }
   },
   "source": [
    "# Problem 1\n",
    "\n",
    "A set of parentheses is balanced if each left parenthesis has an appropriately matching right parenthesis. The following sets of parentheses are balanced:\n",
    "\n",
    "<pre>\n",
    "(((())))\n",
    "(()(())()()())\n",
    "</pre>\n",
    "\n",
    "But the following sets of parentheses are not balanced:\n",
    "\n",
    "<pre>\n",
    "(()()))(\n",
    "(()))())\n",
    "</pre>\n",
    "\n",
    "Write a function called `is_balanced` that takes a string `S` of parentheses and returns `True` if `S` is balanced and `False` otherwise."
   ]
  },
  {
   "cell_type": "code",
   "execution_count": 9,
   "metadata": {
    "deletable": false,
    "nbgrader": {
     "checksum": "0b5c889b6ef45ed7ef1313168d14a3c7",
     "grade": false,
     "grade_id": "cell-f9cc0e7c8f4576a3",
     "locked": false,
     "schema_version": 1,
     "solution": true
    }
   },
   "outputs": [],
   "source": [
    "def is_balanced(S):\n",
    "    stack=[]\n",
    "    for ch in S:\n",
    "        if ch=='(':\n",
    "            stack.append(ch)\n",
    "        if ch==')':\n",
    "            try:\n",
    "                del(stack[-1])\n",
    "            except:\n",
    "                return False\n",
    "    if stack!=[]:\n",
    "        return False\n",
    "    return True"
   ]
  },
  {
   "cell_type": "code",
   "execution_count": 10,
   "metadata": {
    "deletable": false,
    "editable": false,
    "nbgrader": {
     "checksum": "bc5b4d62c3f74f606fd3f668589cfad7",
     "grade": true,
     "grade_id": "cell-15b2323f12f4dfb0",
     "locked": true,
     "points": 1,
     "schema_version": 1,
     "solution": false
    }
   },
   "outputs": [],
   "source": [
    "assert is_balanced('()') == True\n",
    "assert is_balanced('())') == False\n",
    "assert is_balanced('(()') == False\n",
    "assert is_balanced('(((())))') == True\n",
    "assert is_balanced('(()()))(') == False\n",
    "assert is_balanced('(()))())') == False\n",
    "assert is_balanced('(()(())()()())') == True\n",
    "assert is_balanced('((()()(()))())') == True\n",
    "assert is_balanced('((()((())())))') == True\n",
    "assert is_balanced('((())(()(()())))()()((()()))') == True\n",
    "assert is_balanced('((())(()(()())))()()((())()))') == False"
   ]
  },
  {
   "cell_type": "markdown",
   "metadata": {
    "deletable": false,
    "editable": false,
    "nbgrader": {
     "checksum": "5b084d30a6d2c4468ead32111fc6ac6c",
     "grade": false,
     "grade_id": "cell-9e41d9354fa0fb2e",
     "locked": true,
     "schema_version": 1,
     "solution": false
    }
   },
   "source": [
    "# Problem 2\n",
    "\n",
    "Write a function called `calculator` that takes a string `E` that represents an arithmetic expression (involving parentheses, integers, variables, and arithemtic operators (+, -, \\*, /)) and a dictionary `dict` that represents a mapping of variables to integers. This will perform the relevant operations while preserving the precedence of parentheses over operators.\n",
    "\n",
    "**note**: you can assume that the arithmetic expression has balanced parentheses."
   ]
  },
  {
   "cell_type": "code",
   "execution_count": null,
   "metadata": {
    "deletable": false,
    "nbgrader": {
     "checksum": "ee8f23cfa4c7cb44e7c1e0e4baf762ba",
     "grade": false,
     "grade_id": "cell-293f28079a5e80a7",
     "locked": false,
     "schema_version": 1,
     "solution": true
    }
   },
   "outputs": [],
   "source": [
    "def calculator(E, dict):\n",
    "    # YOUR CODE HERE\n",
    "    raise NotImplementedError()"
   ]
  },
  {
   "cell_type": "code",
   "execution_count": null,
   "metadata": {
    "deletable": false,
    "editable": false,
    "nbgrader": {
     "checksum": "1889073037f66fab6c7acae93355a446",
     "grade": true,
     "grade_id": "cell-d4032e88631e55bc",
     "locked": true,
     "points": 2,
     "schema_version": 1,
     "solution": false
    }
   },
   "outputs": [],
   "source": [
    "assert calculator('8 * (   5 -    1)',{}) == 32\n",
    "assert calculator('8*(5-1)',{}) == 32\n",
    "assert calculator('(8*(5-1)) + 1',{}) == 33\n",
    "assert calculator('((a - b) * c)',{'a':2,'b':3,'c':4}) == -4\n",
    "assert calculator('((a - 4) / (b + 3))',{'a':12,'b':31,'c':14}) == 0.23529411764705882\n",
    "assert calculator('((4 - a) / (b + 3)) + c',{'a':12,'b':31,'c':14}) == 13.764705882352942"
   ]
  }
 ],
 "metadata": {
  "kernelspec": {
   "display_name": "Python 3",
   "language": "python",
   "name": "python3"
  },
  "language_info": {
   "codemirror_mode": {
    "name": "ipython",
    "version": 3
   },
   "file_extension": ".py",
   "mimetype": "text/x-python",
   "name": "python",
   "nbconvert_exporter": "python",
   "pygments_lexer": "ipython3",
   "version": "3.6.5"
  }
 },
 "nbformat": 4,
 "nbformat_minor": 2
}
