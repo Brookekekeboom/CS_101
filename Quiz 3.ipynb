{
 "cells": [
  {
   "cell_type": "markdown",
   "metadata": {},
   "source": [
    "Before you turn this problem in, make sure everything runs as expected. First, **restart the kernel** (in the menubar, select Kernel$\\rightarrow$Restart) and then **run all cells** (in the menubar, select Cell$\\rightarrow$Run All).\n",
    "\n",
    "Make sure you fill in any place that says `YOUR CODE HERE` or \"YOUR ANSWER HERE\", as well as your name and collaborators below:"
   ]
  },
  {
   "cell_type": "code",
   "execution_count": null,
   "metadata": {},
   "outputs": [],
   "source": [
    "NAME = \"\"\n",
    "COLLABORATORS = \"\""
   ]
  },
  {
   "cell_type": "markdown",
   "metadata": {},
   "source": [
    "---"
   ]
  },
  {
   "cell_type": "markdown",
   "metadata": {
    "deletable": false,
    "editable": false,
    "nbgrader": {
     "checksum": "3cbb299dfef4c9e4ebb0646bc3ea4112",
     "grade": false,
     "grade_id": "cell-baa4e9eb2cc0c93f",
     "locked": true,
     "schema_version": 1,
     "solution": false
    }
   },
   "source": [
    "# Quiz 3\n",
    "COMPSCI 101 spring 2019 Session 4, Duke Kunshan University\n",
    "\n",
    "**Mar 18<sup>th</sup> 2019**"
   ]
  },
  {
   "cell_type": "markdown",
   "metadata": {
    "deletable": false,
    "editable": false,
    "nbgrader": {
     "checksum": "6d9a9eee766ccce694179be88e833bbd",
     "grade": false,
     "grade_id": "cell-12cf363a5b0e121c",
     "locked": true,
     "schema_version": 1,
     "solution": false
    }
   },
   "source": [
    "# Problem 1\n",
    "\n",
    "\n",
    "A positive whole number `n` > 2 is prime if no number between 2 and $\\sqrt{n}$ (inclusive) evenly divides `n`. Write a function that takes an integer `n` that is greater than 2 as input and returns `True` if the value is prime and `False` otherwise. If `n` is not prime, your program should quit as soon as it finds a value that evenly divides `n`.\n",
    "\n",
    "__Hint:__\n",
    "\n",
    "Use the following code to use the `sqrt` function from the `math` library\n",
    "\n",
    "<pre>\n",
    "from math import sqrt\n",
    "\n",
    "sqrt(4)\n",
    "</pre>"
   ]
  },
  {
   "cell_type": "code",
   "execution_count": 48,
   "metadata": {
    "deletable": false,
    "nbgrader": {
     "checksum": "c7bb5d2a66ad5d24c9ba3690cf5f6dbe",
     "grade": false,
     "grade_id": "cell-f9cc0e7c8f4576a3",
     "locked": false,
     "schema_version": 1,
     "solution": true
    }
   },
   "outputs": [],
   "source": [
    "from math import sqrt\n",
    "\n",
    "def is_prime(n):\n",
    "    counter=0\n",
    "    for i in range(2,int(sqrt(n))+1):\n",
    "        if n%i==0:\n",
    "            counter=counter+1\n",
    "    if counter==0:\n",
    "        return True\n",
    "    else:\n",
    "        return True"
   ]
  },
  {
   "cell_type": "code",
   "execution_count": 47,
   "metadata": {
    "deletable": false,
    "editable": false,
    "nbgrader": {
     "checksum": "8f2839d72daea7afd101663f3494ccef",
     "grade": true,
     "grade_id": "cell-344a8c6aab6688ff",
     "locked": true,
     "points": 0.5,
     "schema_version": 1,
     "solution": false
    }
   },
   "outputs": [],
   "source": [
    "for i in [3,5,7,11,13,17,19,23,29,31,37,41,43,47,53,59,61,67,71,7877,7879,7883,7901,7907,7919]:\n",
    "    assert is_prime(i) == True"
   ]
  }
 ],
 "metadata": {
  "kernelspec": {
   "display_name": "Python 3",
   "language": "python",
   "name": "python3"
  },
  "language_info": {
   "codemirror_mode": {
    "name": "ipython",
    "version": 3
   },
   "file_extension": ".py",
   "mimetype": "text/x-python",
   "name": "python",
   "nbconvert_exporter": "python",
   "pygments_lexer": "ipython3",
   "version": "3.6.5"
  }
 },
 "nbformat": 4,
 "nbformat_minor": 2
}
