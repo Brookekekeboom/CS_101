{
 "cells": [
  {
   "cell_type": "markdown",
   "metadata": {},
   "source": [
    "Before you turn this problem in, make sure everything runs as expected. First, **restart the kernel** (in the menubar, select Kernel$\\rightarrow$Restart) and then **run all cells** (in the menubar, select Cell$\\rightarrow$Run All).\n",
    "\n",
    "Make sure you fill in any place that says `YOUR CODE HERE` or \"YOUR ANSWER HERE\", as well as your name and collaborators below:"
   ]
  },
  {
   "cell_type": "code",
   "execution_count": null,
   "metadata": {},
   "outputs": [],
   "source": [
    "NAME = \"\"\n",
    "COLLABORATORS = \"\""
   ]
  },
  {
   "cell_type": "markdown",
   "metadata": {},
   "source": [
    "---"
   ]
  },
  {
   "cell_type": "markdown",
   "metadata": {
    "deletable": false,
    "editable": false,
    "nbgrader": {
     "checksum": "11d52797187e165a828cf3accdbfa1ac",
     "grade": false,
     "grade_id": "cell-baa4e9eb2cc0c93f",
     "locked": true,
     "schema_version": 1,
     "solution": false
    }
   },
   "source": [
    "# Homework 11\n",
    "COMPSCI 101 spring 2019 Session 4, Duke Kunshan University\n",
    "\n",
    "Due: **April 2<sup>nd</sup> 2019, 5 pm**"
   ]
  },
  {
   "cell_type": "markdown",
   "metadata": {
    "deletable": false,
    "editable": false,
    "nbgrader": {
     "checksum": "ee477333398a895f5aeac4959efac6a1",
     "grade": false,
     "grade_id": "cell-12cf363a5b0e121c",
     "locked": true,
     "schema_version": 1,
     "solution": false
    }
   },
   "source": [
    "# Problem 1\n",
    "\n",
    "Write a function called `even_odd` that takes a list of integers `L` and returns the **same** list with all the even numbers in front and all the odd numbers in back.\n",
    "\n",
    "Implement the following algorithm:\n",
    "\n",
    "<ol>\n",
    "    <li>Starting from the beginning of `L` check each number\n",
    "    <li>If the number is even then swap it with each previous number until it reaches the beginning of `L`\n",
    "    <li>Repeat this process until the all numbers in `L` are checked\n",
    "</ol>\n",
    "\n",
    "Here is an example:\n",
    "\n",
    "<pre>\n",
    "even_odd([1, 2, 3, 4])\n",
    "</pre>\n",
    "\n",
    "This will produce the following changes at each iteration of the algorithm:\n",
    "\n",
    "<pre>\n",
    "[1, 2, 3, 4]   - 1st iteration: nothing changes because 1 is odd\n",
    "[2, 1, 3, 4]   - 2nd iteration: 2 is even, so it is sent to the front\n",
    "[2, 1, 3, 4]   - 3rd iteration: nothing changes because 3 is odd\n",
    "[4, 2, 1, 3]   - 4th iteration: 4 is even, so it is sent to the front\n",
    "</pre>"
   ]
  },
  {
   "cell_type": "code",
   "execution_count": 18,
   "metadata": {
    "deletable": false,
    "nbgrader": {
     "checksum": "2cab94f8eaee80fb75b926ff81d468da",
     "grade": false,
     "grade_id": "cell-46c55fb5434e1162",
     "locked": false,
     "schema_version": 1,
     "solution": true
    }
   },
   "outputs": [],
   "source": [
    "def even_odd(L):\n",
    "    for i in range(len(L)):\n",
    "        if L[i]%2==0:\n",
    "            while i>0:\n",
    "                L[i],L[i-1]=L[i-1],L[i]\n",
    "                i=i-1\n",
    "    return L"
   ]
  },
  {
   "cell_type": "code",
   "execution_count": 19,
   "metadata": {
    "deletable": false,
    "editable": false,
    "nbgrader": {
     "checksum": "0a670daad034863c974a6d81e2526adc",
     "grade": true,
     "grade_id": "cell-344a8c6aab6688ff",
     "locked": true,
     "points": 0.5,
     "schema_version": 1,
     "solution": false
    }
   },
   "outputs": [
    {
     "name": "stdout",
     "output_type": "stream",
     "text": [
      "357 ms ± 5.67 ms per loop (mean ± std. dev. of 7 runs, 1 loop each)\n"
     ]
    }
   ],
   "source": [
    "import random\n",
    "\n",
    "def gen_list(size):\n",
    "    return [random.randint(1,100) for i in range(size)]\n",
    "\n",
    "assert even_odd([1,2,3,4,5,6]) == [6,4,2,1,3,5]\n",
    "assert even_odd([1,3,5,7,9,11]) == [1,3,5,7,9,11]\n",
    "assert even_odd([2,4,6,8,10,12]) == [12,10,8,6,4,2]\n",
    "\n",
    "result = %timeit -o even_odd(gen_list(2500))\n",
    "assert result.best < 1"
   ]
  },
  {
   "cell_type": "markdown",
   "metadata": {
    "deletable": false,
    "editable": false,
    "nbgrader": {
     "checksum": "d4415b747f0cc4bcfd85ebdfbe9f2027",
     "grade": false,
     "grade_id": "unique2",
     "locked": true,
     "schema_version": 1,
     "solution": false
    }
   },
   "source": [
    "# Problem 2\n",
    "\n",
    "What is the time complexity of `even_odd`?\n",
    "\n",
    "**note**: please delete all incorrect options below so that you have a single line that represents your final answer"
   ]
  },
  {
   "cell_type": "code",
   "execution_count": 20,
   "metadata": {
    "deletable": false,
    "nbgrader": {
     "checksum": "207574ab5448f9fd95c29390618fae09",
     "grade": false,
     "grade_id": "unique",
     "locked": false,
     "schema_version": 1,
     "solution": true
    }
   },
   "outputs": [],
   "source": [
    "EVEN_ODD_COMPLEXITY = 'polynomial'"
   ]
  },
  {
   "cell_type": "code",
   "execution_count": 21,
   "metadata": {
    "deletable": false,
    "editable": false,
    "nbgrader": {
     "checksum": "ec13254ae2bd02f9f5127e9f8acef6c7",
     "grade": true,
     "grade_id": "unique1",
     "locked": true,
     "points": 0.5,
     "schema_version": 1,
     "solution": false
    }
   },
   "outputs": [],
   "source": [
    "# There is a hidden test here"
   ]
  },
  {
   "cell_type": "markdown",
   "metadata": {
    "deletable": false,
    "editable": false,
    "nbgrader": {
     "checksum": "609b2fb9ac032405f6320146f76592e6",
     "grade": false,
     "grade_id": "cell-c04e0df4416e6644",
     "locked": true,
     "schema_version": 1,
     "solution": false
    }
   },
   "source": [
    "# Problem 3\n",
    "\n",
    "Can you write a more efficient version of `even_odd`?\n",
    "\n",
    "Write a function called `even_odd_fast` that performs the same task as `even_odd` but runs more efficiently. This function starts from the beginning and end of the list and loops while **beg is less than end**.\n",
    "\n",
    "<pre>\n",
    "[ 1, 3, 2, 4 ]\n",
    "  ^        ^\n",
    " beg      end\n",
    "</pre>\n",
    "\n",
    "<ol>\n",
    "    <li>Check if the integer at beg is even. If it is even we can assume that it is in the right location and move beg forward.\n",
    "    <li>Check if the integer at end is odd. If it is odd we can assume that it is in the right location and move end backward.\n",
    "    <li>If the integer at beg is odd and the integer at end is even then these integers should be **swapped**. Then beg can move forward and end can move backward.\n",
    "</ol>\n",
    "\n",
    "Here is what happens at each iteration of the loop:\n",
    "\n",
    "<pre>\n",
    "[ 1, 3, 2, 4 ]  - beg and end should be swapped\n",
    "  ^        ^\n",
    " beg      end\n",
    " \n",
    "[ 4, 3, 2, 1 ]  - beg should move forward and end should move backward\n",
    "  ^        ^\n",
    " beg      end\n",
    " \n",
    "[ 4, 3, 2, 4 ]  - beg and end should be swapped\n",
    "     ^  ^\n",
    "   beg  end\n",
    "   \n",
    "[ 4, 2, 3, 1 ]  - beg should move forward and end should move backward\n",
    "     ^  ^\n",
    "   end  beg\n",
    "\n",
    "** NOW the loop finishes because beg is no longer before end.\n",
    "</pre>"
   ]
  },
  {
   "cell_type": "code",
   "execution_count": 22,
   "metadata": {
    "deletable": false,
    "nbgrader": {
     "checksum": "7b1f104623b410bca06cdd584e195917",
     "grade": false,
     "grade_id": "cell-6192f39ec893f265",
     "locked": false,
     "schema_version": 1,
     "solution": true
    }
   },
   "outputs": [],
   "source": [
    "def even_odd_fast(L):\n",
    "    beg=0\n",
    "    end=-1\n",
    "    while len(L)+end>beg:\n",
    "        if L[beg]%2==0:\n",
    "            beg=beg+1\n",
    "        if L[end]%2!=0:\n",
    "            end=end-1\n",
    "        if len(L)+end>beg:\n",
    "            if L[beg]%2!=0 and L[end]%2==0:\n",
    "                L[beg],L[end]=L[end],L[beg]\n",
    "                beg=beg+1\n",
    "                end=end-1\n",
    "    return L"
   ]
  },
  {
   "cell_type": "code",
   "execution_count": 23,
   "metadata": {
    "deletable": false,
    "editable": false,
    "nbgrader": {
     "checksum": "9e1f8c0cd5e65e0e41deb7fcbd16312f",
     "grade": true,
     "grade_id": "cell-e77cdd3ef25cfb44",
     "locked": true,
     "points": 0.5,
     "schema_version": 1,
     "solution": false
    }
   },
   "outputs": [
    {
     "name": "stdout",
     "output_type": "stream",
     "text": [
      "3.98 ms ± 43.1 µs per loop (mean ± std. dev. of 7 runs, 100 loops each)\n"
     ]
    }
   ],
   "source": [
    "assert even_odd_fast([1,2,3,4,5,6,7,8,9]) == [8,2,6,4,5,3,7,1,9]\n",
    "assert even_odd_fast([2,4,6,8,10,12,14]) == [2,4,6,8,10,12,14]\n",
    "assert even_odd_fast([1,3,5,7,9,11,13]) == [1,3,5,7,9,11,13]\n",
    "\n",
    "result = %timeit -o even_odd_fast(gen_list(2500))\n",
    "assert result.best < .05"
   ]
  },
  {
   "cell_type": "markdown",
   "metadata": {
    "deletable": false,
    "editable": false,
    "nbgrader": {
     "checksum": "a7cc9f10341a0e9f70dd796a0b23a2f4",
     "grade": false,
     "grade_id": "unique21",
     "locked": true,
     "schema_version": 1,
     "solution": false
    }
   },
   "source": [
    "# Problem 4\n",
    "\n",
    "What is the time complexity of `even_odd_fast`?\n",
    "\n",
    "**note**: please delete all incorrect options below so that you have a single line that represents your final answer"
   ]
  },
  {
   "cell_type": "code",
   "execution_count": 24,
   "metadata": {
    "deletable": false,
    "nbgrader": {
     "checksum": "c7a142f50dd75b62512fd2cae5c72cad",
     "grade": false,
     "grade_id": "unique11",
     "locked": false,
     "schema_version": 1,
     "solution": true
    }
   },
   "outputs": [],
   "source": [
    "EVEN_ODD_FAST_COMPLEXITY = 'linear'"
   ]
  },
  {
   "cell_type": "code",
   "execution_count": 25,
   "metadata": {
    "deletable": false,
    "editable": false,
    "nbgrader": {
     "checksum": "88d7b3f8834c8ef6e3c842dc0cb629cb",
     "grade": true,
     "grade_id": "unique12",
     "locked": true,
     "points": 0.5,
     "schema_version": 1,
     "solution": false
    }
   },
   "outputs": [],
   "source": [
    "# There is a hidden test here"
   ]
  }
 ],
 "metadata": {
  "kernelspec": {
   "display_name": "Python 3",
   "language": "python",
   "name": "python3"
  },
  "language_info": {
   "codemirror_mode": {
    "name": "ipython",
    "version": 3
   },
   "file_extension": ".py",
   "mimetype": "text/x-python",
   "name": "python",
   "nbconvert_exporter": "python",
   "pygments_lexer": "ipython3",
   "version": "3.6.5"
  }
 },
 "nbformat": 4,
 "nbformat_minor": 2
}
