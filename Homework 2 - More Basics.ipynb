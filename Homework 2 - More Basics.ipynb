{
 "cells": [
  {
   "cell_type": "markdown",
   "metadata": {},
   "source": [
    "Before you turn this problem in, make sure everything runs as expected. First, **restart the kernel** (in the menubar, select Kernel$\\rightarrow$Restart) and then **run all cells** (in the menubar, select Cell$\\rightarrow$Run All).\n",
    "\n",
    "Make sure you fill in any place that says `YOUR CODE HERE` or \"YOUR ANSWER HERE\", as well as your name and collaborators below:"
   ]
  },
  {
   "cell_type": "code",
   "execution_count": null,
   "metadata": {},
   "outputs": [],
   "source": [
    "NAME = \"Xuchen Gong\"\n",
    "COLLABORATORS = \"\""
   ]
  },
  {
   "cell_type": "markdown",
   "metadata": {},
   "source": [
    "---"
   ]
  },
  {
   "cell_type": "markdown",
   "metadata": {
    "deletable": false,
    "editable": false,
    "nbgrader": {
     "checksum": "461d41a4babc3e7ad7f66fecddfa33fe",
     "grade": false,
     "grade_id": "cell-baa4e9eb2cc0c93f",
     "locked": true,
     "schema_version": 1,
     "solution": false
    }
   },
   "source": [
    "# Homework 2\n",
    "COMPSCI 101 spring 2019 Session 4, Duke Kunshan University\n",
    "\n",
    "Due: **Mar 14<sup>th</sup> 2019, 5 pm**"
   ]
  },
  {
   "cell_type": "markdown",
   "metadata": {
    "deletable": false,
    "editable": false,
    "nbgrader": {
     "checksum": "d328f1f467981104aeebaf73e1eb6939",
     "grade": false,
     "grade_id": "cell-12cf363a5b0e121c",
     "locked": true,
     "schema_version": 1,
     "solution": false
    }
   },
   "source": [
    "# Problem 1\n",
    "\n",
    "Given one input variable `n` return the absolute value of `n`."
   ]
  },
  {
   "cell_type": "code",
   "execution_count": 9,
   "metadata": {
    "deletable": false,
    "nbgrader": {
     "checksum": "6ac136bae1dfb4a991aaf2fed94c42ec",
     "grade": false,
     "grade_id": "cell-f9cc0e7c8f4576a3",
     "locked": false,
     "schema_version": 1,
     "solution": true
    }
   },
   "outputs": [],
   "source": [
    "def absolute_value(n):\n",
    "    # YOUR CODE HERE\n",
    "    if n>=0:\n",
    "        return(n)\n",
    "    else:\n",
    "        return(-n)"
   ]
  },
  {
   "cell_type": "code",
   "execution_count": 10,
   "metadata": {
    "deletable": false,
    "editable": false,
    "nbgrader": {
     "checksum": "1b1ca28630b6588f3c6b63ad3fdd50e5",
     "grade": true,
     "grade_id": "cell-344a8c6aab6688ff",
     "locked": true,
     "points": 0.5,
     "schema_version": 1,
     "solution": false
    }
   },
   "outputs": [],
   "source": [
    "assert absolute_value(0) == 0\n",
    "assert absolute_value(123) == 123\n",
    "assert absolute_value(-98) == 98"
   ]
  },
  {
   "cell_type": "markdown",
   "metadata": {
    "deletable": false,
    "editable": false,
    "nbgrader": {
     "checksum": "c99851360033232053c9316f0967941a",
     "grade": false,
     "grade_id": "cell-56f2cf4f7e444bd7",
     "locked": true,
     "schema_version": 1,
     "solution": false
    }
   },
   "source": [
    "# Problem 2\n",
    "\n",
    "Given three input variables `a`, `b`, and `c` return the sum of the largest integer and the smallest integer."
   ]
  },
  {
   "cell_type": "code",
   "execution_count": 14,
   "metadata": {
    "deletable": false,
    "nbgrader": {
     "checksum": "2b8bdc8d1b7cbd599754470333eea4bb",
     "grade": false,
     "grade_id": "cell-2eb16d0c39243c56",
     "locked": false,
     "schema_version": 1,
     "solution": true
    }
   },
   "outputs": [],
   "source": [
    "def sm_plus_bg(a, b, c):\n",
    "    # YOUR CODE HERE\n",
    "    if a<=b<=c or c<=b<=a:\n",
    "        return(a+c)\n",
    "    elif a<=c<=b or b<=c<=a:\n",
    "        return(a+b)\n",
    "    elif b<=a<=c or c<=a<=b:\n",
    "        return(b+c)"
   ]
  },
  {
   "cell_type": "code",
   "execution_count": 15,
   "metadata": {
    "deletable": false,
    "editable": false,
    "nbgrader": {
     "checksum": "56718253f29d4d950e9dc22b65a30cdc",
     "grade": true,
     "grade_id": "cell-b803298e9a1d8f43",
     "locked": true,
     "points": 0.5,
     "schema_version": 1,
     "solution": false
    }
   },
   "outputs": [],
   "source": [
    "assert sm_plus_bg(1, 2, 3) == 4\n",
    "assert sm_plus_bg(3, 2, 1) == 4\n",
    "assert sm_plus_bg(10, -10, 100) == 90\n",
    "assert sm_plus_bg(0, 100, 1) == 100"
   ]
  },
  {
   "cell_type": "markdown",
   "metadata": {
    "deletable": false,
    "editable": false,
    "nbgrader": {
     "checksum": "8ed2649be7f71753fc976ccc7bcd57e9",
     "grade": false,
     "grade_id": "cell-c8394cbc4c6f2e9c",
     "locked": true,
     "schema_version": 1,
     "solution": false
    }
   },
   "source": [
    "# Problem 3\n",
    "\n",
    "Given a word, return `True` if the word can be typed by the characters which are in same row on a keyboard or `False` otherwise.\n",
    "\n",
    "<img src=\"keyboard.png\" width=\"500\" align=\"left\">"
   ]
  },
  {
   "cell_type": "code",
   "execution_count": 58,
   "metadata": {
    "deletable": false,
    "nbgrader": {
     "checksum": "693e060d0f077468deb932a56bedb8eb",
     "grade": false,
     "grade_id": "cell-c7aac4c6c159d799",
     "locked": false,
     "schema_version": 1,
     "solution": true
    }
   },
   "outputs": [],
   "source": [
    "def same_row(W):\n",
    "    # YOUR CODE HERE\n",
    "    fr='qwertyuiop'\n",
    "    sr='asdfghjkl'\n",
    "    tr='zxcvbnm'\n",
    "    counter=0\n",
    "    \n",
    "    for ch in W:\n",
    "        if ch.lower()in fr:\n",
    "            counter+=1\n",
    "    if counter==len(W):\n",
    "        return(True)\n",
    "    else:\n",
    "        counter=0\n",
    "        for ch in W:\n",
    "            if ch.lower()in sr:\n",
    "                counter+=1\n",
    "        if counter==len(W):\n",
    "            return(True)\n",
    "        else:\n",
    "            counter=0\n",
    "            for ch in W:\n",
    "                if ch.lower()in tr:\n",
    "                    counter+=1\n",
    "            if counter==len(W):\n",
    "                return(True)\n",
    "            else:\n",
    "                return (False)"
   ]
  },
  {
   "cell_type": "code",
   "execution_count": 76,
   "metadata": {},
   "outputs": [],
   "source": [
    "def same_row(W):\n",
    "    kb=['qwertyuiop','asdfghjkl','zxcvbnm']\n",
    "    for row in kb:\n",
    "        if W[0]in row:\n",
    "            h=row\n",
    "            break\n",
    "    for i in W:\n",
    "        if i not in h:\n",
    "            return False\n",
    "    return True\n",
    "        "
   ]
  },
  {
   "cell_type": "code",
   "execution_count": 78,
   "metadata": {},
   "outputs": [],
   "source": [
    "def same_row(W):\n",
    "    kb=['qwertyuiop','asdfghjkl','zxcvbnm']\n",
    "    for row in kb:\n",
    "        if W[0]in row:\n",
    "            break\n",
    "    for i in W:\n",
    "        if i not in row:  # row可以看到其最新的值\n",
    "            return False  # return就是函数的出口\n",
    "    return True"
   ]
  },
  {
   "cell_type": "code",
   "execution_count": null,
   "metadata": {},
   "outputs": [],
   "source": [
    "def same_row(W):\n",
    "    # YOUR CODE HERE\n",
    "    fr='qwertyuiop'\n",
    "    sr='asdfghjkl'\n",
    "    tr='zxcvbnm'\n",
    "    counter=0\n",
    "    if W[0] in fr:\n",
    "        for i in range(len(W)):\n",
    "            if W[i] in fr:\n",
    "                counter+=1\n",
    "        if counter==len(W):\n",
    "            return True\n",
    "        else:\n",
    "            return False\n",
    "    if W[0] in sr:\n",
    "        for i in range(len(W)):\n",
    "            if W[i] in sr:\n",
    "                counter+=1\n",
    "        if counter==len(W):\n",
    "            return True\n",
    "        else:\n",
    "            return False\n",
    "    if W[0] in tr:\n",
    "        for i in range(len(W)):\n",
    "            if W[i] in tr:\n",
    "                counter+=1\n",
    "        if counter==len(W):\n",
    "            return True\n",
    "        else:\n",
    "            return False"
   ]
  },
  {
   "cell_type": "code",
   "execution_count": 77,
   "metadata": {
    "deletable": false,
    "editable": false,
    "nbgrader": {
     "checksum": "3ba52843029e839d6b2e6814f5615143",
     "grade": true,
     "grade_id": "cell-6c59e8bb1e3c37e2",
     "locked": true,
     "points": 0,
     "schema_version": 1,
     "solution": false
    }
   },
   "outputs": [],
   "source": [
    "assert same_row('hello') == False\n",
    "assert same_row('alaska') == True\n",
    "assert same_row('dad') == True\n",
    "assert same_row('peace') == False"
   ]
  },
  {
   "cell_type": "code",
   "execution_count": null,
   "metadata": {},
   "outputs": [],
   "source": []
  },
  {
   "cell_type": "code",
   "execution_count": null,
   "metadata": {},
   "outputs": [],
   "source": []
  }
 ],
 "metadata": {
  "kernelspec": {
   "display_name": "Python 3",
   "language": "python",
   "name": "python3"
  },
  "language_info": {
   "codemirror_mode": {
    "name": "ipython",
    "version": 3
   },
   "file_extension": ".py",
   "mimetype": "text/x-python",
   "name": "python",
   "nbconvert_exporter": "python",
   "pygments_lexer": "ipython3",
   "version": "3.6.5"
  }
 },
 "nbformat": 4,
 "nbformat_minor": 2
}
