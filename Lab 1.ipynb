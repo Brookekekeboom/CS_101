{
 "cells": [
  {
   "cell_type": "markdown",
   "metadata": {},
   "source": [
    "Before you turn this problem in, make sure everything runs as expected. First, **restart the kernel** (in the menubar, select Kernel$\\rightarrow$Restart) and then **run all cells** (in the menubar, select Cell$\\rightarrow$Run All).\n",
    "\n",
    "Make sure you fill in any place that says `YOUR CODE HERE` or \"YOUR ANSWER HERE\", as well as your name and collaborators below:"
   ]
  },
  {
   "cell_type": "code",
   "execution_count": null,
   "metadata": {},
   "outputs": [],
   "source": [
    "NAME = \"Xuchen Gong\"\n",
    "COLLABORATORS = \"\""
   ]
  },
  {
   "cell_type": "markdown",
   "metadata": {},
   "source": [
    "---"
   ]
  },
  {
   "cell_type": "markdown",
   "metadata": {
    "deletable": false,
    "editable": false,
    "nbgrader": {
     "checksum": "bc6f4bb29a56da6f72f5736b4befc424",
     "grade": false,
     "grade_id": "cell-baa4e9eb2cc0c93f",
     "locked": true,
     "schema_version": 1,
     "solution": false
    }
   },
   "source": [
    "# Lab 1\n",
    "COMPSCI 101 spring 2019 Session 4, Duke Kunshan University\n",
    "\n",
    "**Mar 14<sup>th</sup> 2019**"
   ]
  },
  {
   "cell_type": "markdown",
   "metadata": {
    "deletable": false,
    "editable": false,
    "nbgrader": {
     "checksum": "fdd5a2f1555ca379421c08adddaa756d",
     "grade": false,
     "grade_id": "cell-12cf363a5b0e121c",
     "locked": true,
     "schema_version": 1,
     "solution": false
    }
   },
   "source": [
    "# Problem 1\n",
    "\n",
    "Write a function `count_vowels` that takes a string `S` as input and returns the number of vowels that occur in `S`."
   ]
  },
  {
   "cell_type": "code",
   "execution_count": 10,
   "metadata": {
    "deletable": false,
    "nbgrader": {
     "checksum": "7295b193d46dd5bf51958cb579de81f8",
     "grade": false,
     "grade_id": "cell-f9cc0e7c8f4576a3",
     "locked": false,
     "schema_version": 1,
     "solution": true
    }
   },
   "outputs": [],
   "source": [
    "def count_vowels(S):\n",
    "    A='aeiou'\n",
    "    counter=0\n",
    "    for ch in S:\n",
    "        if ch.lower() in A:\n",
    "            counter+=1\n",
    "    return counter"
   ]
  },
  {
   "cell_type": "code",
   "execution_count": 11,
   "metadata": {
    "deletable": false,
    "editable": false,
    "nbgrader": {
     "checksum": "6a23b113374080d3658feec2dbaf8746",
     "grade": true,
     "grade_id": "cell-344a8c6aab6688ff",
     "locked": true,
     "points": 0.5,
     "schema_version": 1,
     "solution": false
    }
   },
   "outputs": [],
   "source": [
    "assert count_vowels('Evander Holyfield') == 6\n",
    "assert count_vowels('AI') == 2\n",
    "assert count_vowels('bcdfghjklmnpqrstvwxyz') == 0\n",
    "assert count_vowels('') == 0"
   ]
  },
  {
   "cell_type": "markdown",
   "metadata": {
    "deletable": false,
    "editable": false,
    "nbgrader": {
     "checksum": "e75aa80d2124c6eb50cef000321d7f6d",
     "grade": false,
     "grade_id": "cell-66d8cb9c2aaa81ae",
     "locked": true,
     "schema_version": 1,
     "solution": false
    }
   },
   "source": [
    "# Problem 2\n",
    "\n",
    "Write a function called `divisors` that takes an integer `n` as input and returns a string of all the integers that evenly divide `n` (besides 1 and `n`)."
   ]
  },
  {
   "cell_type": "code",
   "execution_count": 98,
   "metadata": {
    "deletable": false,
    "nbgrader": {
     "checksum": "e513545147a8e5acaf9e8556f32c4c60",
     "grade": false,
     "grade_id": "cell-150d02900c3a3f16",
     "locked": false,
     "schema_version": 1,
     "solution": true
    }
   },
   "outputs": [],
   "source": [
    "def divisors(n):\n",
    "    result=''\n",
    "    for i in range(2,n):\n",
    "        if n%i==0:\n",
    "            result=result+str(i)+' '\n",
    "    A=result.strip()\n",
    "    return A"
   ]
  },
  {
   "cell_type": "code",
   "execution_count": 99,
   "metadata": {
    "deletable": false,
    "editable": false,
    "nbgrader": {
     "checksum": "7dcca256f1e9a354da3c4a7e0e7b7859",
     "grade": true,
     "grade_id": "cell-58720deb797a5a5e",
     "locked": true,
     "points": 0.5,
     "schema_version": 1,
     "solution": false
    }
   },
   "outputs": [],
   "source": [
    "assert divisors(10) == '2 5'\n",
    "assert divisors(36) == '2 3 4 6 9 12 18'\n",
    "assert divisors(1000) == '2 4 5 8 10 20 25 40 50 100 125 200 250 500'\n",
    "assert divisors(2001) == '3 23 29 69 87 667'\n",
    "assert divisors(567890) == '2 5 10 109 218 521 545 1042 1090 2605 5210 56789 113578 283945'"
   ]
  },
  {
   "cell_type": "markdown",
   "metadata": {
    "deletable": false,
    "editable": false,
    "nbgrader": {
     "checksum": "94b7d7eedf363bfab2be402c7641c2f3",
     "grade": false,
     "grade_id": "cell-f382e2f06835bcf8",
     "locked": true,
     "schema_version": 1,
     "solution": false
    }
   },
   "source": [
    "# Problem 3\n",
    "\n",
    "Write a function called `exists` that takes two strings `letters` and `S`. It returns `True` if all the letters in `letters` exist in `S` and `False` otherwise."
   ]
  },
  {
   "cell_type": "code",
   "execution_count": 104,
   "metadata": {
    "deletable": false,
    "nbgrader": {
     "checksum": "cb1ddbc5cd80fca8baed836661cbbf66",
     "grade": false,
     "grade_id": "cell-21240d427bd64c8f",
     "locked": false,
     "schema_version": 1,
     "solution": true
    }
   },
   "outputs": [],
   "source": [
    "def exists(letters, S):\n",
    "    counter=0\n",
    "    for ch in letters:\n",
    "        if ch.lower() in S.lower():\n",
    "            counter+=1\n",
    "    if counter==len(letters):\n",
    "        return True\n",
    "    else:\n",
    "        return False"
   ]
  },
  {
   "cell_type": "code",
   "execution_count": 105,
   "metadata": {
    "deletable": false,
    "editable": false,
    "nbgrader": {
     "checksum": "5a42191db6c53d7b09b562658c7e676a",
     "grade": true,
     "grade_id": "cell-ed42ea2efa99c3b3",
     "locked": true,
     "points": 1,
     "schema_version": 1,
     "solution": false
    }
   },
   "outputs": [],
   "source": [
    "assert exists('abr','Barack') == True\n",
    "assert exists('abr','Hello World') == False\n",
    "assert exists('','Hello World') == True\n",
    "assert exists('ABC','abc') == True"
   ]
  },
  {
   "cell_type": "markdown",
   "metadata": {
    "deletable": false,
    "editable": false,
    "nbgrader": {
     "checksum": "fa4fecc9373ea25cf0461a3a098f6232",
     "grade": false,
     "grade_id": "cell-4c383f21a32e8fd6",
     "locked": true,
     "schema_version": 1,
     "solution": false
    }
   },
   "source": [
    "# Problem 4\n",
    "\n",
    "Write a function called `match` that takes two strings `S1` and `S2` as inputs and returns a string of all the letters that exist in both strings.\n",
    "\n",
    "**note**: you must have a working version of function `exists` in order to test this function."
   ]
  },
  {
   "cell_type": "code",
   "execution_count": 108,
   "metadata": {
    "deletable": false,
    "nbgrader": {
     "checksum": "186f6d750f3738aeb9b00bee1bd42c3f",
     "grade": false,
     "grade_id": "cell-77445544dd3fefa5",
     "locked": false,
     "schema_version": 1,
     "solution": true
    }
   },
   "outputs": [],
   "source": [
    "def match(S1, S2):\n",
    "    A=''\n",
    "    for ch in S1:\n",
    "        if ch in S2:\n",
    "            A=A+ch\n",
    "    return A"
   ]
  },
  {
   "cell_type": "code",
   "execution_count": 109,
   "metadata": {
    "deletable": false,
    "editable": false,
    "nbgrader": {
     "checksum": "6862d4adef25aa978e6c6c052c560cd8",
     "grade": true,
     "grade_id": "cell-8b21a078a98867c2",
     "locked": true,
     "points": 0,
     "schema_version": 1,
     "solution": false
    }
   },
   "outputs": [],
   "source": [
    "m = match('Hello World','Barack Obama')\n",
    "assert exists(m,'Hello World')\n",
    "assert exists(m,'Barack Obama')\n",
    "\n",
    "m = match('Hello World','Hello')\n",
    "assert exists(m,'Hello World')\n",
    "assert exists(m,'Hello')"
   ]
  },
  {
   "cell_type": "markdown",
   "metadata": {
    "deletable": false,
    "editable": false,
    "nbgrader": {
     "checksum": "c1c553eee1ed64687fcbb4c0a3588f33",
     "grade": false,
     "grade_id": "cell-4a3461f33c901d30",
     "locked": true,
     "schema_version": 1,
     "solution": false
    }
   },
   "source": [
    "# Problem 5\n",
    "\n",
    "Write a function called `movie` that has no inputs. It uses the `input` function (with string: 'How old are you? ') to get the **age** of the user and prints information about what movies the user can watch.\n",
    "\n",
    "If the age is greater than 17, then you should print 'You can watch R, PG-13, and PG movies'.\n",
    "\n",
    "If the age is greater than 12 but less than or equal to 17, then you should print 'You can watch PG-13 and PG movies, but NOT R movies'.\n",
    "\n",
    "If the age is less than or equal to 12, then you should print 'You can only watch PG movies'."
   ]
  },
  {
   "cell_type": "code",
   "execution_count": 110,
   "metadata": {
    "deletable": false,
    "nbgrader": {
     "checksum": "b31a0472ac462aa1eb6c09a20a994695",
     "grade": false,
     "grade_id": "cell-7dad4e2e8b4e690a",
     "locked": false,
     "schema_version": 1,
     "solution": true
    }
   },
   "outputs": [],
   "source": [
    "def movie():\n",
    "    age=input('How old are you?')\n",
    "    if int(age)>17:\n",
    "        print('You can watch R, PG-13, and PG movies')\n",
    "    elif 12<int(age)<=17:\n",
    "        print('You can watch PG-13 and PG movies, but NOT R movies')\n",
    "    elif int(age)<=12:\n",
    "        print('You can only watch PG movies')"
   ]
  }
 ],
 "metadata": {
  "kernelspec": {
   "display_name": "Python 3",
   "language": "python",
   "name": "python3"
  },
  "language_info": {
   "codemirror_mode": {
    "name": "ipython",
    "version": 3
   },
   "file_extension": ".py",
   "mimetype": "text/x-python",
   "name": "python",
   "nbconvert_exporter": "python",
   "pygments_lexer": "ipython3",
   "version": "3.6.5"
  }
 },
 "nbformat": 4,
 "nbformat_minor": 2
}
