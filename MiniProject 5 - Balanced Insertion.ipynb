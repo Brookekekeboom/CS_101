{
 "cells": [
  {
   "cell_type": "markdown",
   "metadata": {},
   "source": [
    "Before you turn this problem in, make sure everything runs as expected. First, **restart the kernel** (in the menubar, select Kernel$\\rightarrow$Restart) and then **run all cells** (in the menubar, select Cell$\\rightarrow$Run All).\n",
    "\n",
    "Make sure you fill in any place that says `YOUR CODE HERE` or \"YOUR ANSWER HERE\", as well as your name and collaborators below:"
   ]
  },
  {
   "cell_type": "code",
   "execution_count": null,
   "metadata": {},
   "outputs": [],
   "source": [
    "NAME = \"\"\n",
    "COLLABORATORS = \"\""
   ]
  },
  {
   "cell_type": "markdown",
   "metadata": {},
   "source": [
    "---"
   ]
  },
  {
   "cell_type": "markdown",
   "metadata": {
    "deletable": false,
    "editable": false,
    "nbgrader": {
     "checksum": "ba81677f00bb51dc39e78ab14eaa8019",
     "grade": false,
     "grade_id": "cell-baa4e9eb2cc0c93f",
     "locked": true,
     "schema_version": 1,
     "solution": false
    }
   },
   "source": [
    "# MiniProject 5\n",
    "COMPSCI 101 spring 2019 Session 4, Duke Kunshan University\n",
    "\n",
    "Due: **April 15<sup>th</sup> 2019, 5 pm**"
   ]
  },
  {
   "cell_type": "markdown",
   "metadata": {
    "deletable": false,
    "editable": false,
    "nbgrader": {
     "checksum": "9532bfec8e95b9f97d7711815b81d884",
     "grade": false,
     "grade_id": "cell-5c9f6fc1e51a265f",
     "locked": true,
     "schema_version": 1,
     "solution": false
    }
   },
   "source": [
    "A **Balanced Binary Search Tree** is a binary tree that is constrained by the following two properties:\n",
    "\n",
    "1. The value of a node will always be greater than the value of its left child and less than the value of its right child.\n",
    "\n",
    "2. A given node's left child and right child will have heights with an absolute difference of 0 or 1.\n",
    "\n",
    "These properties will guarantee that searching for an existing value in the search tree will take logarithmic time."
   ]
  },
  {
   "cell_type": "code",
   "execution_count": null,
   "metadata": {
    "deletable": false,
    "editable": false,
    "nbgrader": {
     "checksum": "2c64ffd7db527da4a9aa7c195fbe8576",
     "grade": false,
     "grade_id": "cell-d28254ec94731e33",
     "locked": true,
     "schema_version": 1,
     "solution": false
    }
   },
   "outputs": [],
   "source": [
    "# Binary Search Tree Node\n",
    "class bst_node(object):\n",
    "    def __init__(self, val, lt=None, rt=None, pt=None):\n",
    "        self.val = val\n",
    "        self.lt = lt\n",
    "        self.rt = rt\n",
    "        self.pt = pt\n",
    "        self.height = 1\n",
    "\n",
    "# returns a string of the values in the BST\n",
    "# according to breadth-first search\n",
    "def bfirst(node, info=False):\n",
    "    q = [node]\n",
    "    result = ''\n",
    "    \n",
    "    while len(q) > 0:\n",
    "        n = q[0]\n",
    "        q = q[1:]\n",
    "\n",
    "        if info:\n",
    "            result += str(n.val) + '(' + str(get_height(n)) + ':' + str(get_balance(n)) + ')' + ' '\n",
    "        else:\n",
    "            result += str(n.val) + ' '\n",
    "            \n",
    "        if n.lt:\n",
    "            q.append(n.lt)\n",
    "        if n.rt:\n",
    "            q.append(n.rt)\n",
    "            \n",
    "    return result\n",
    "\n",
    "# functions to calculate the height and\n",
    "# balance of a tree rooted at n\n",
    "def get_height(n):\n",
    "    if n is None:\n",
    "        return 0\n",
    "    return max(get_height(n.lt), get_height(n.rt)) + 1\n",
    "\n",
    "def get_balance(n):\n",
    "    return get_height(n.lt) - get_height(n.rt)"
   ]
  },
  {
   "cell_type": "markdown",
   "metadata": {
    "deletable": false,
    "editable": false,
    "nbgrader": {
     "checksum": "7d5873437c6fa829f41ea4696802c37d",
     "grade": false,
     "grade_id": "cell-12cf363a5b0e121c",
     "locked": true,
     "schema_version": 1,
     "solution": false
    }
   },
   "source": [
    "# Problem 1\n",
    "\n",
    "Write a function called `insert` that takes a node `root` and a number `i` to be inserted into the tree that has `root` as its root. This creates a new node with value `i` and inserts it at the right location in the tree, and then returns the `root`.\n",
    "\n",
    "New nodes are always inserted as 'leaves' at the bottom of the tree. Simply compare `i` to the val at every node in the tree starting from `root`. If `i` is less than the value at `root.val` then traverse the left side and if `i` is greater than the value at `root.val` then traverse the right side. Do this recursively until you reach a node that does not have a child in the location you ought to traverse. Create a new node with value `i` and insert it at this location."
   ]
  },
  {
   "cell_type": "code",
   "execution_count": null,
   "metadata": {
    "deletable": false,
    "nbgrader": {
     "checksum": "977370e9b619ae83b58d8106ad75e353",
     "grade": false,
     "grade_id": "cell-f9cc0e7c8f4576a3",
     "locked": false,
     "schema_version": 1,
     "solution": true
    }
   },
   "outputs": [],
   "source": [
    "def insert(n, i):\n",
    "    # YOUR CODE HERE\n",
    "    raise NotImplementedError()"
   ]
  },
  {
   "cell_type": "code",
   "execution_count": null,
   "metadata": {
    "deletable": false,
    "editable": false,
    "nbgrader": {
     "checksum": "a07edfc15dc54578730dd7474d4d031a",
     "grade": true,
     "grade_id": "cell-15b2323f12f4dfb0",
     "locked": true,
     "points": 1,
     "schema_version": 1,
     "solution": false
    }
   },
   "outputs": [],
   "source": [
    "# A Binary Search Tree rooted at n1\n",
    "n1 = bst_node(10)\n",
    "insert(n1, 5)\n",
    "insert(n1, 15)\n",
    "insert(n1, 2)\n",
    "insert(n1, 8)\n",
    "insert(n1, 12)\n",
    "insert(n1, 18)\n",
    "insert(n1, 6)\n",
    "insert(n1, 13)\n",
    "\n",
    "assert bfirst(n1).strip() == '10 5 15 2 8 12 18 6 13'\n",
    "\n",
    "n = insert(n1, 9)\n",
    "assert n.pt.val == 8\n",
    "assert bfirst(n1).strip() == '10 5 15 2 8 12 18 6 9 13'\n",
    "\n",
    "n = insert(n1, 9)\n",
    "assert n.pt.val == 9\n",
    "assert bfirst(n1).strip() == '10 5 15 2 8 12 18 6 9 13 9'"
   ]
  },
  {
   "cell_type": "markdown",
   "metadata": {
    "deletable": false,
    "editable": false,
    "nbgrader": {
     "checksum": "1cd5b9c62b8bc85c690562288bd81152",
     "grade": false,
     "grade_id": "cell-9e41d9354fa0fb2e",
     "locked": true,
     "schema_version": 1,
     "solution": false
    }
   },
   "source": [
    "# Problem 2\n",
    "\n",
    "Write a function called `update` that takes a **leaf** `node` as input. This function will move back up the tree from `node` to the root of the tree and update the `height` of each node along the way.\n",
    "\n",
    "**note**: `node` should be the output of the `insert` function above."
   ]
  },
  {
   "cell_type": "code",
   "execution_count": null,
   "metadata": {
    "deletable": false,
    "nbgrader": {
     "checksum": "20e340ff16f952ad31e4f8acd4c5be96",
     "grade": false,
     "grade_id": "cell-293f28079a5e80a7",
     "locked": false,
     "schema_version": 1,
     "solution": true
    }
   },
   "outputs": [],
   "source": [
    "def update(node):\n",
    "    # YOUR CODE HERE\n",
    "    raise NotImplementedError()"
   ]
  },
  {
   "cell_type": "code",
   "execution_count": null,
   "metadata": {
    "deletable": false,
    "editable": false,
    "nbgrader": {
     "checksum": "febf53fc8217776a9ce1c6b9628612f6",
     "grade": true,
     "grade_id": "cell-d4032e88631e55bc",
     "locked": true,
     "points": 0.5,
     "schema_version": 1,
     "solution": false
    }
   },
   "outputs": [],
   "source": [
    "n1 = bst_node(10)\n",
    "update(insert(n1, 5))\n",
    "update(insert(n1, 15))\n",
    "update(insert(n1, 2))\n",
    "update(insert(n1, 8))\n",
    "update(insert(n1, 12))\n",
    "update(insert(n1, 18))\n",
    "update(insert(n1, 6))\n",
    "update(insert(n1, 13))\n",
    "update(insert(n1, 7))\n",
    "\n",
    "assert n1.height == 5\n",
    "assert get_balance(n1) == 1\n",
    "assert n1.lt.height == 4\n",
    "assert get_balance(n1.lt) == -2\n",
    "assert n1.lt.rt.height == 3\n",
    "assert get_balance(n1.lt.rt) == 2\n",
    "assert n1.lt.lt.height == 1\n",
    "assert get_balance(n1.lt.lt) == 0"
   ]
  },
  {
   "cell_type": "markdown",
   "metadata": {
    "deletable": false,
    "editable": false,
    "nbgrader": {
     "checksum": "987cd8977b1643d56f2b8372d754dff4",
     "grade": false,
     "grade_id": "cell-e56e6846fbe1b586",
     "locked": true,
     "schema_version": 1,
     "solution": false
    }
   },
   "source": [
    "# Problem 3\n",
    "\n",
    "Write two functions called `rotate_right` and `rotate_left`. They each take a node `n` as input and, assuming `n` is the root of the tree, returns the newly assigned root of the rotated tree.\n",
    "\n",
    "<img src=\"tree_rotation.png\" width=\"400\">\n",
    "\n",
    "You can see from this image that trying to perform a right rotation on the tree on the left (rooted at node `Q`) will result in the tree to the right (rooted at node `P`). And a left rotation on the tree on the right (rooted at node `P`) will result in the tree to the left (rooted at node `Q`)."
   ]
  },
  {
   "cell_type": "code",
   "execution_count": null,
   "metadata": {
    "deletable": false,
    "nbgrader": {
     "checksum": "898140808e0dcd9e4d21e44445fa4f40",
     "grade": false,
     "grade_id": "cell-6a2752b1cabcda67",
     "locked": false,
     "schema_version": 1,
     "solution": true
    }
   },
   "outputs": [],
   "source": [
    "def rotate_right(n):\n",
    "    # YOUR CODE HERE\n",
    "    raise NotImplementedError()\n",
    "\n",
    "def rotate_left(n):\n",
    "    # YOUR CODE HERE\n",
    "    raise NotImplementedError()"
   ]
  },
  {
   "cell_type": "code",
   "execution_count": null,
   "metadata": {
    "deletable": false,
    "editable": false,
    "nbgrader": {
     "checksum": "cb9cd374dc80b8905b0c64412354e40a",
     "grade": true,
     "grade_id": "cell-e00302650611b112",
     "locked": true,
     "points": 0.5,
     "schema_version": 1,
     "solution": false
    }
   },
   "outputs": [],
   "source": [
    "# A Binary Search Tree rooted at n1\n",
    "n1 = bst_node(10)\n",
    "n2 = bst_node(5)\n",
    "n3 = bst_node(15)\n",
    "n4 = bst_node(2)\n",
    "n5 = bst_node(8)\n",
    "n6 = bst_node(12)\n",
    "n7 = bst_node(18)\n",
    "n8 = bst_node(6)\n",
    "n9 = bst_node(13)\n",
    "\n",
    "n1.lt = n2\n",
    "n1.rt = n3\n",
    "n2.lt = n4\n",
    "n2.rt = n5\n",
    "n3.lt = n6\n",
    "n3.rt = n7\n",
    "n5.lt = n8\n",
    "n6.rt = n9\n",
    "\n",
    "assert bfirst(n1,info=True).strip() == '10(4:0) 5(3:-1) 15(3:1) 2(1:0) 8(2:1) 12(2:-1) 18(1:0) 6(1:0) 13(1:0)'\n",
    "n1.rt = rotate_right(n3)\n",
    "assert bfirst(n1,info=True).strip() == '10(4:0) 5(3:-1) 12(3:-2) 2(1:0) 8(2:1) 15(2:0) 6(1:0) 13(1:0) 18(1:0)'\n",
    "n1.rt = rotate_left(n6)\n",
    "assert bfirst(n1,info=True).strip() == '10(4:0) 5(3:-1) 15(3:1) 2(1:0) 8(2:1) 12(2:-1) 18(1:0) 6(1:0) 13(1:0)'\n",
    "n1 = rotate_right(n1)\n",
    "assert bfirst(n1,info=True).strip() == '5(5:-3) 2(1:0) 10(4:-1) 8(2:1) 15(3:1) 6(1:0) 12(2:-1) 18(1:0) 13(1:0)'\n",
    "n1 = rotate_left(n1)\n",
    "assert bfirst(n1,info=True).strip() == '10(4:0) 5(3:-1) 15(3:1) 2(1:0) 8(2:1) 12(2:-1) 18(1:0) 6(1:0) 13(1:0)'"
   ]
  },
  {
   "cell_type": "markdown",
   "metadata": {
    "deletable": false,
    "editable": false,
    "nbgrader": {
     "checksum": "9be60411ff1c1df4269fe17e1d40c7eb",
     "grade": false,
     "grade_id": "cell-34bdf26ca3a35e59",
     "locked": true,
     "schema_version": 1,
     "solution": false
    }
   },
   "source": [
    "# Problem 4\n",
    "\n",
    "Write a function called `balance` that takes a leaf `node` as input. `node` should be the output of the `insert` function above. This function will move back up the tree from `node` to the root of the tree and re-balance the tree whenever a node on the path from `node` to the root has a blanace value that is less than -1 or greater than 1.\n",
    "\n",
    "If a balance less than -1 or greater than 1 is found then rotations must be done in order to re-balance the tree. There are 4 possible situations:\n",
    "\n",
    "**Right Heavy**: node balance is less than -1\n",
    "\n",
    "1: **Right-Right**: node's right child's right child is taller than node's right child's left child.\n",
    "\n",
    "- Rotate Left on node\n",
    "\n",
    "2: **Right-Left**: node's right child's right child is shorter than node's right child's left child.\n",
    "\n",
    "- Rotate Right on node's right child\n",
    "- Rotate Left on node\n",
    "\n",
    "\n",
    "**Left Heavy**: node balance is greater than 1\n",
    "\n",
    "3: **Left-Left**: node's left child's left child is taller than node's left child's right child.\n",
    "\n",
    "- Rotate Right on node\n",
    "\n",
    "4: **Left-Right**: node's left child's left child is shorter than node's left child's right child.\n",
    "\n",
    "- Rotate Left on node's left child\n",
    "- Rotate Right on node\n",
    "\n",
    "Below is an example of a **Left-Right** imbalance. The root (which has value 3) has a balance of 2 because the height of the left child - the height of the right child is 2. Since the root's left child's right child is taller than the root's left child's left child we have the **Left-Right** situation.\n",
    "\n",
    "So a Left Rotation is done on the root's left child. Then a Right Rotation is done on the root.\n",
    "\n",
    "<img src=\"left-right-imbalance.png\" width=\"500\">"
   ]
  },
  {
   "cell_type": "code",
   "execution_count": null,
   "metadata": {
    "deletable": false,
    "nbgrader": {
     "checksum": "4a5b629bcbb394167e21d757e48385c6",
     "grade": false,
     "grade_id": "cell-0e8039c11d8c4c8b",
     "locked": false,
     "schema_version": 1,
     "solution": true
    }
   },
   "outputs": [],
   "source": [
    "def balance(node):\n",
    "    # YOUR CODE HERE\n",
    "    raise NotImplementedError()"
   ]
  },
  {
   "cell_type": "code",
   "execution_count": null,
   "metadata": {
    "deletable": false,
    "editable": false,
    "nbgrader": {
     "checksum": "7aeaa76deb18e69c2483c0b8dcea81af",
     "grade": true,
     "grade_id": "cell-11a0391e7108f918",
     "locked": true,
     "points": 1,
     "schema_version": 1,
     "solution": false
    }
   },
   "outputs": [],
   "source": [
    "n1 = bst_node(10)\n",
    "update(insert(n1, 5))\n",
    "update(insert(n1, 15))\n",
    "update(insert(n1, 2))\n",
    "update(insert(n1, 8))\n",
    "update(insert(n1, 12))\n",
    "update(insert(n1, 18))\n",
    "update(insert(n1, 6))\n",
    "update(insert(n1, 13))\n",
    "\n",
    "# NO BALANCING\n",
    "n3 = insert(n1, 3)\n",
    "assert bfirst(n1).strip() == '10 5 15 2 8 12 18 3 6 13'\n",
    "update(n3)\n",
    "balance(n3)\n",
    "\n",
    "# LEFT-RIGHT BALANCE ON 8\n",
    "n7 = insert(n1, 7)\n",
    "assert bfirst(n1).strip() == '10 5 15 2 8 12 18 3 6 13 7'\n",
    "update(n7)\n",
    "assert bfirst(n1,info=True).strip() == '10(5:1) 5(4:-1) 15(3:1) 2(2:-1) 8(3:2) 12(2:-1) 18(1:0) 3(1:0) 6(2:-1) 13(1:0) 7(1:0)'\n",
    "balance(n7)\n",
    "assert bfirst(n1).strip() == '10 5 15 2 7 12 18 3 6 8 13'\n",
    "\n",
    "# NO BALANCING\n",
    "n55 = insert(n1, 5.5)\n",
    "assert bfirst(n1).strip() == '10 5 15 2 7 12 18 3 6 8 13 5.5'\n",
    "update(n55)\n",
    "balance(n55)\n",
    "\n",
    "# LEFT-LEFT BALANCE ON 6\n",
    "n52 = insert(n1, 5.2)\n",
    "assert bfirst(n1).strip() == '10 5 15 2 7 12 18 3 6 8 13 5.5 5.2'\n",
    "update(n52)\n",
    "assert bfirst(n1,info=True).strip() == '10(6:2) 5(5:-2) 15(3:1) 2(2:-1) 7(4:2) 12(2:-1) 18(1:0) 3(1:0) 6(3:2) 8(1:0) 13(1:0) 5.5(2:1) 5.2(1:0)'\n",
    "balance(n52)\n",
    "assert bfirst(n1).strip() == '10 5 15 2 7 12 18 3 5.5 8 13 5.2 6'\n",
    "\n",
    "# RIGHT-RIGHT BALANCE ON 12\n",
    "n135 = insert(n1, 13.5)\n",
    "assert bfirst(n1).strip() == '10 5 15 2 7 12 18 3 5.5 8 13 5.2 6 13.5'\n",
    "update(n135)\n",
    "assert bfirst(n1,info=True).strip() == '10(5:0) 5(4:-1) 15(4:2) 2(2:-1) 7(3:1) 12(3:-2) 18(1:0) 3(1:0) 5.5(2:0) 8(1:0) 13(2:-1) 5.2(1:0) 6(1:0) 13.5(1:0)'\n",
    "balance(n135)\n",
    "assert bfirst(n1).strip() == '10 5 15 2 7 13 18 3 5.5 8 12 13.5 5.2 6'\n",
    "\n",
    "# NO BALANCING\n",
    "n9 = insert(n1, 9)\n",
    "update(n9)\n",
    "balance(n9)\n",
    "assert bfirst(n1).strip() == '10 5 15 2 7 13 18 3 5.5 8 12 13.5 5.2 6 9'\n",
    "\n",
    "# RIGHT-LEFT BALANCE ON 5\n",
    "n65 = insert(n1, 6.5)\n",
    "update(n65)\n",
    "assert bfirst(n1,info=True).strip() == '10(6:2) 5(5:-2) 15(3:1) 2(2:-1) 7(4:1) 13(2:0) 18(1:0) 3(1:0) 5.5(3:-1) 8(2:-1) 12(1:0) 13.5(1:0) 5.2(1:0) 6(2:-1) 9(1:0) 6.5(1:0)'\n",
    "balance(n65)\n",
    "assert bfirst(n1).strip() == '10 5.5 15 5 7 13 18 2 5.2 6 8 12 13.5 3 6.5 9'"
   ]
  }
 ],
 "metadata": {
  "kernelspec": {
   "display_name": "Python 3",
   "language": "python",
   "name": "python3"
  },
  "language_info": {
   "codemirror_mode": {
    "name": "ipython",
    "version": 3
   },
   "file_extension": ".py",
   "mimetype": "text/x-python",
   "name": "python",
   "nbconvert_exporter": "python",
   "pygments_lexer": "ipython3",
   "version": "3.6.5"
  }
 },
 "nbformat": 4,
 "nbformat_minor": 2
}
