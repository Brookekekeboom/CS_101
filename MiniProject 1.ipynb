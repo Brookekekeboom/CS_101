{
 "cells": [
  {
   "cell_type": "markdown",
   "metadata": {},
   "source": [
    "Before you turn this problem in, make sure everything runs as expected. First, **restart the kernel** (in the menubar, select Kernel$\\rightarrow$Restart) and then **run all cells** (in the menubar, select Cell$\\rightarrow$Run All).\n",
    "\n",
    "Make sure you fill in any place that says `YOUR CODE HERE` or \"YOUR ANSWER HERE\", as well as your name and collaborators below:"
   ]
  },
  {
   "cell_type": "code",
   "execution_count": null,
   "metadata": {},
   "outputs": [],
   "source": [
    "NAME = \"Xuchen Gong\"\n",
    "COLLABORATORS = \"Ran Ju\""
   ]
  },
  {
   "cell_type": "markdown",
   "metadata": {},
   "source": [
    "---"
   ]
  },
  {
   "cell_type": "markdown",
   "metadata": {
    "deletable": false,
    "editable": false,
    "nbgrader": {
     "checksum": "6e7ac3476577a7d5972de2a5f83ca55d",
     "grade": false,
     "grade_id": "cell-baa4e9eb2cc0c93f",
     "locked": true,
     "schema_version": 1,
     "solution": false
    }
   },
   "source": [
    "# MiniProject 1\n",
    "COMPSCI 101 spring 2019 Session 4, Duke Kunshan University\n",
    "\n",
    "Due: **Mar 18<sup>th</sup> 2019, 5 pm**"
   ]
  },
  {
   "cell_type": "markdown",
   "metadata": {
    "deletable": false,
    "editable": false,
    "nbgrader": {
     "checksum": "e18b7f573a7da993ceb6bd5b986e44b0",
     "grade": false,
     "grade_id": "cell-12cf363a5b0e121c",
     "locked": true,
     "schema_version": 1,
     "solution": false
    }
   },
   "source": [
    "# Problem 1\n",
    "\n",
    "Write a function called `reverse_words` that takes string `S` as input and returns a string with each of the substrings with only characters in the alphabet reversed.\n",
    "\n",
    "__hint__:\n",
    "\n",
    "S.isalpha() will return true if all the characters in an input string are letters in the alphabet.\n",
    "\n",
    "<pre>\n",
    "s1 = 'a'\n",
    "s1.isalpha() -> True\n",
    "\n",
    "s2 = '-'\n",
    "s2.isalpha() -> False\n",
    "</pre>"
   ]
  },
  {
   "cell_type": "code",
   "execution_count": 22,
   "metadata": {
    "deletable": false,
    "nbgrader": {
     "checksum": "f98ecef6c1a4732b62686205b57c1e4f",
     "grade": false,
     "grade_id": "cell-f9cc0e7c8f4576a3",
     "locked": false,
     "schema_version": 1,
     "solution": true
    }
   },
   "outputs": [],
   "source": [
    "def reverse_words(s):\n",
    "    unalpha=[]\n",
    "    for i in range(len(s)):\n",
    "        if s[i].isalpha()==False:\n",
    "            unalpha.append(i)\n",
    "    unalpha.append(len(s))\n",
    "    result=''\n",
    "    a=s[:unalpha[0]][::-1]     # the first reversed part\n",
    "    for n in range(0,len(unalpha)-1):\n",
    "        result+=s[unalpha[n]]+s[unalpha[n]+1:unalpha[n+1]][::-1]\n",
    "    return ( a+result)"
   ]
  },
  {
   "cell_type": "code",
   "execution_count": 23,
   "metadata": {
    "deletable": false,
    "editable": false,
    "nbgrader": {
     "checksum": "1c58c704b7697775695904d70e9ca170",
     "grade": true,
     "grade_id": "cell-344a8c6aab6688ff",
     "locked": true,
     "points": 0.5,
     "schema_version": 1,
     "solution": false
    }
   },
   "outputs": [],
   "source": [
    "assert reverse_words('duke-kunshan-university') == 'ekud-nahsnuk-ytisrevinu'\n",
    "assert reverse_words('computer science') == 'retupmoc ecneics'\n",
    "assert reverse_words('***@dukekunshan.edu.cn') == '***@nahsnukekud.ude.nc'\n",
    "assert reverse_words('Q!W@E#R$T%Y^U&I*O(P)') == 'Q!W@E#R$T%Y^U&I*O(P)'"
   ]
  },
  {
   "cell_type": "markdown",
   "metadata": {
    "deletable": false,
    "editable": false,
    "nbgrader": {
     "checksum": "608622c6bd8c15eac650b495d76229ea",
     "grade": false,
     "grade_id": "cell-66d8cb9c2aaa81ae",
     "locked": true,
     "schema_version": 1,
     "solution": false
    }
   },
   "source": [
    "# Problem 2\n",
    "\n",
    "A ball falls from `H` meters above the ground and bounces back to half the previous height. Then it drops again and bounces back again to half the previous height. Write a function called `fall` that returns how far the ball has traveled when it falls `N` times (`N` > 0) from height `H` and also return the height it will bounce back to?"
   ]
  },
  {
   "cell_type": "code",
   "execution_count": null,
   "metadata": {
    "deletable": false,
    "nbgrader": {
     "checksum": "eb05e5a4faf93fe571c298102999ad0b",
     "grade": false,
     "grade_id": "cell-150d02900c3a3f16",
     "locked": false,
     "schema_version": 1,
     "solution": true
    }
   },
   "outputs": [],
   "source": [
    "def fall(H, N):\n",
    "    has_traveled=float(H)*(3-2**(2-float(N)))\n",
    "    will_bounce_to=float(H)*2**(-float(N))\n",
    "    return has_traveled,will_bounce_to "
   ]
  },
  {
   "cell_type": "code",
   "execution_count": null,
   "metadata": {
    "deletable": false,
    "editable": false,
    "nbgrader": {
     "checksum": "33807617a78fd0d2ba3ddb70f25c4505",
     "grade": true,
     "grade_id": "cell-58720deb797a5a5e",
     "locked": true,
     "points": 0.5,
     "schema_version": 1,
     "solution": false
    }
   },
   "outputs": [],
   "source": [
    "assert fall(50, 2) == (100.0000000000, 12.5000000000)\n",
    "assert fall(50, 4) == (137.5000000000, 3.1250000000)\n",
    "assert fall(50, 6) == (146.8750000000, 0.7812500000)\n",
    "assert fall(50, 8) == (149.2187500000, 0.1953125000)\n",
    "assert fall(100, 2) == (200.0000000000, 25.0000000000)\n",
    "assert fall(100, 4) == (275.0000000000, 6.2500000000)\n",
    "assert fall(100, 6) == (293.7500000000, 1.5625000000)\n",
    "assert fall(100, 8) == (298.4375000000, 0.3906250000)\n",
    "assert fall(150, 2) == (300.0000000000, 37.5000000000)\n",
    "assert fall(150, 4) == (412.5000000000, 9.3750000000)\n",
    "assert fall(150, 6) == (440.6250000000, 2.3437500000)\n",
    "assert fall(150, 8) == (447.6562500000, 0.5859375000)\n",
    "assert fall(10, 2) == (20.0000000000, 2.5000000000)\n",
    "assert fall(10, 4) == (27.5000000000, 0.6250000000)\n",
    "assert fall(10, 6) == (29.3750000000, 0.1562500000)\n",
    "assert fall(10, 8) == (29.8437500000, 0.0390625000)"
   ]
  },
  {
   "cell_type": "markdown",
   "metadata": {
    "deletable": false,
    "editable": false,
    "nbgrader": {
     "checksum": "7807cc86f6d690585b18d07cee003bb6",
     "grade": false,
     "grade_id": "cell-f382e2f06835bcf8",
     "locked": true,
     "schema_version": 1,
     "solution": false
    }
   },
   "source": [
    "# Problem 3\n",
    "\n",
    "A palindromic number or numeral palindrome is a number that remains the same when its digits are reversed. It is symmetrical ike 16461.\n",
    "\n",
    "Other examples include: 121, 3, 76722762, 33344333\n",
    "\n",
    "Write a function called `find_pal` that takes an integer `n` as input and returns the smallest palindromic number that is bigger than `n`."
   ]
  },
  {
   "cell_type": "code",
   "execution_count": 10,
   "metadata": {
    "deletable": false,
    "nbgrader": {
     "checksum": "9918c56e5781a0f725066f4874f1169b",
     "grade": false,
     "grade_id": "cell-21240d427bd64c8f",
     "locked": false,
     "schema_version": 1,
     "solution": true
    }
   },
   "outputs": [],
   "source": [
    "def find_pal(num):\n",
    "    for i in range(num+1,100000000):\n",
    "        if str(i)[:]==str(i)[::-1]:\n",
    "            return i"
   ]
  },
  {
   "cell_type": "code",
   "execution_count": 11,
   "metadata": {
    "deletable": false,
    "editable": false,
    "nbgrader": {
     "checksum": "8d2ec5ddee2223d9c82f587714cfeadd",
     "grade": true,
     "grade_id": "cell-ed42ea2efa99c3b3",
     "locked": true,
     "points": 1,
     "schema_version": 1,
     "solution": false
    }
   },
   "outputs": [],
   "source": [
    "assert find_pal(3) == 4\n",
    "assert find_pal(131) == 141\n",
    "assert find_pal(2447) == 2552\n",
    "assert find_pal(12141) == 12221"
   ]
  }
 ],
 "metadata": {
  "kernelspec": {
   "display_name": "Python 3",
   "language": "python",
   "name": "python3"
  },
  "language_info": {
   "codemirror_mode": {
    "name": "ipython",
    "version": 3
   },
   "file_extension": ".py",
   "mimetype": "text/x-python",
   "name": "python",
   "nbconvert_exporter": "python",
   "pygments_lexer": "ipython3",
   "version": "3.6.5"
  }
 },
 "nbformat": 4,
 "nbformat_minor": 2
}
