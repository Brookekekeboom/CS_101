{
 "cells": [
  {
   "cell_type": "markdown",
   "metadata": {},
   "source": [
    "Before you turn this problem in, make sure everything runs as expected. First, **restart the kernel** (in the menubar, select Kernel$\\rightarrow$Restart) and then **run all cells** (in the menubar, select Cell$\\rightarrow$Run All).\n",
    "\n",
    "Make sure you fill in any place that says `YOUR CODE HERE` or \"YOUR ANSWER HERE\", as well as your name and collaborators below:"
   ]
  },
  {
   "cell_type": "code",
   "execution_count": null,
   "metadata": {},
   "outputs": [],
   "source": [
    "NAME = \"Xuchen Gong\"\n",
    "COLLABORATORS = \"\""
   ]
  },
  {
   "cell_type": "markdown",
   "metadata": {},
   "source": [
    "---"
   ]
  },
  {
   "cell_type": "markdown",
   "metadata": {
    "deletable": false,
    "editable": false,
    "nbgrader": {
     "checksum": "42b1fdca4d39b256164b04c24ed085d0",
     "grade": false,
     "grade_id": "cell-baa4e9eb2cc0c93f",
     "locked": true,
     "schema_version": 1,
     "solution": false
    }
   },
   "source": [
    "# Homework 4\n",
    "COMPSCI 101 spring 2019 Session 4, Duke Kunshan University\n",
    "\n",
    "Due: **March 19<sup>th</sup> 2019, 5 pm**"
   ]
  },
  {
   "cell_type": "markdown",
   "metadata": {
    "deletable": false,
    "editable": false,
    "nbgrader": {
     "checksum": "07bb3d3dc6e48ad9b8198f76133b9205",
     "grade": false,
     "grade_id": "cell-9291b47985557834",
     "locked": true,
     "schema_version": 1,
     "solution": false
    }
   },
   "source": [
    "# Preparation\n",
    "\n",
    "To solve today's homework, you need to get a dataset by downloading the `ca-GrQc.txt.gz` file that can be found here - https://snap.stanford.edu/data/ca-GrQc.txt.gz. Extract it the text file and upload it to the folder of this ipynb file. The name of the extraced file is `CA-GrQc.txt`.\n",
    "\n",
    "The file CA-GrQc.txt is from the Stanford Large Network Dataset Collection and is a record of co-authorship links for articles in the ArXiv category General Relativity.\n",
    "\n",
    "Each number represents an author. \n",
    "\n",
    "<pre>\n",
    "FromNodeId\tToNodeId\n",
    "3466        937\n",
    "</pre>\n",
    "\n",
    "This represents the fact that author 3466 co-authored a paepr with author 937."
   ]
  },
  {
   "cell_type": "markdown",
   "metadata": {
    "deletable": false,
    "editable": false,
    "nbgrader": {
     "checksum": "de7b398841773738a1391ece1e0490c7",
     "grade": false,
     "grade_id": "cell-12cf363a5b0e121c",
     "locked": true,
     "schema_version": 1,
     "solution": false
    }
   },
   "source": [
    "# Problem 1: All coauthorships\n",
    "\n",
    "Write a function that creates a list of all coauthorships as a list of lists.\n",
    "\n",
    "<pre>\n",
    "[[3466, 937], [3466, 5233], ...]. \n",
    "</pre>\n",
    "\n",
    "#### Hints\n",
    "\n",
    "Step 1: Create a function that converts a string into a list of two authors, like: <pre>[3466, 937]</pre>\n",
    "\n",
    "Step 2: Use a for loop to iterate over each line in the file."
   ]
  },
  {
   "cell_type": "code",
   "execution_count": 17,
   "metadata": {
    "deletable": false,
    "nbgrader": {
     "checksum": "517ec74a6be6d02c1114a21471643352",
     "grade": false,
     "grade_id": "cell-46c55fb5434e1162",
     "locked": false,
     "schema_version": 1,
     "solution": true
    }
   },
   "outputs": [],
   "source": [
    "def get_coauthors():\n",
    "    file=open('CA-GrQc.txt','r')\n",
    "    result=[]\n",
    "    for line in file:\n",
    "        if line[0]!='#':\n",
    "            num=line.split('\t')\n",
    "            A=int(num[0])\n",
    "            B=int(num[1])\n",
    "            L=[A,B]\n",
    "            result.append(L)\n",
    "    return result"
   ]
  },
  {
   "cell_type": "code",
   "execution_count": 18,
   "metadata": {
    "deletable": false,
    "editable": false,
    "nbgrader": {
     "checksum": "92915ca0416d6ba53d5ff8d2810f15a1",
     "grade": true,
     "grade_id": "cell-344a8c6aab6688ff",
     "locked": true,
     "points": 1,
     "schema_version": 1,
     "solution": false
    }
   },
   "outputs": [],
   "source": [
    "assert get_coauthors()[:10] == [[3466, 937], [3466, 5233], [3466, 8579], [3466, 10310], [3466, 15931], [3466, 17038], [3466, 18720], [3466, 19607], [10310, 1854], [10310, 3466]]"
   ]
  },
  {
   "cell_type": "markdown",
   "metadata": {
    "deletable": false,
    "editable": false,
    "nbgrader": {
     "checksum": "bc41ed13c1bd3c7013f12fa63795ce0a",
     "grade": false,
     "grade_id": "cell-c04e0df4416e6644",
     "locked": true,
     "schema_version": 1,
     "solution": false
    }
   },
   "source": [
    "# Problem 2: Unique authors\n",
    "\n",
    "Write a function that uses the `CA-GrQc.txt` to create a list of all __unique__ authors. The list should be sorted.\n",
    "\n",
    "#### Hints\n",
    "\n",
    "Note that if the edge 3466–937 is in the data, then the edge 937–3466 will also there. This means that for this task you don't need to consider the second author in the line. You can get all authors simply by collecting the first author in each line, that is the numbers in the `FromNodeId` column."
   ]
  },
  {
   "cell_type": "code",
   "execution_count": 24,
   "metadata": {
    "deletable": false,
    "nbgrader": {
     "checksum": "2fa5b3f36618731b41940365e27f333e",
     "grade": false,
     "grade_id": "cell-6192f39ec893f265",
     "locked": false,
     "schema_version": 1,
     "solution": true
    }
   },
   "outputs": [],
   "source": [
    "def get_authors(L):\n",
    "    unique_authors=[]\n",
    "    for pair in L:\n",
    "        if pair[0] not in unique_authors:\n",
    "            unique_authors.append(pair[0])\n",
    "    result=sorted(unique_authors)\n",
    "    return result"
   ]
  },
  {
   "cell_type": "code",
   "execution_count": 25,
   "metadata": {
    "deletable": false,
    "editable": false,
    "nbgrader": {
     "checksum": "21c39abed6557a5909c5b0f0f5c3c388",
     "grade": true,
     "grade_id": "cell-e77cdd3ef25cfb44",
     "locked": true,
     "points": 1,
     "schema_version": 1,
     "solution": false
    }
   },
   "outputs": [],
   "source": [
    "list_unique = get_authors(get_coauthors())\n",
    "\n",
    "assert list_unique[:10] == [13, 14, 22, 24, 25, 26, 27, 28, 29, 45]\n",
    "assert list_unique[59] == 231\n",
    "assert len(list_unique) == 5242"
   ]
  }
 ],
 "metadata": {
  "kernelspec": {
   "display_name": "Python 3",
   "language": "python",
   "name": "python3"
  },
  "language_info": {
   "codemirror_mode": {
    "name": "ipython",
    "version": 3
   },
   "file_extension": ".py",
   "mimetype": "text/x-python",
   "name": "python",
   "nbconvert_exporter": "python",
   "pygments_lexer": "ipython3",
   "version": "3.6.5"
  }
 },
 "nbformat": 4,
 "nbformat_minor": 2
}
