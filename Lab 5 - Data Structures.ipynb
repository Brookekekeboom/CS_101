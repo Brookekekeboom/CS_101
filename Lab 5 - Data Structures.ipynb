{
 "cells": [
  {
   "cell_type": "markdown",
   "metadata": {},
   "source": [
    "Before you turn this problem in, make sure everything runs as expected. First, **restart the kernel** (in the menubar, select Kernel$\\rightarrow$Restart) and then **run all cells** (in the menubar, select Cell$\\rightarrow$Run All).\n",
    "\n",
    "Make sure you fill in any place that says `YOUR CODE HERE` or \"YOUR ANSWER HERE\", as well as your name and collaborators below:"
   ]
  },
  {
   "cell_type": "code",
   "execution_count": null,
   "metadata": {},
   "outputs": [],
   "source": [
    "NAME = \"\"\n",
    "COLLABORATORS = \"\""
   ]
  },
  {
   "cell_type": "markdown",
   "metadata": {},
   "source": [
    "---"
   ]
  },
  {
   "cell_type": "markdown",
   "metadata": {
    "deletable": false,
    "editable": false,
    "nbgrader": {
     "checksum": "e76b71a2b2b7c8793761d90b9229cb42",
     "grade": false,
     "grade_id": "cell-baa4e9eb2cc0c93f",
     "locked": true,
     "schema_version": 1,
     "solution": false
    }
   },
   "source": [
    "# Lab 5\n",
    "COMPSCI 101 spring 2019 Session 4, Duke Kunshan University\n",
    "\n",
    "**April 11<sup>th</sup> 2019**"
   ]
  },
  {
   "cell_type": "markdown",
   "metadata": {
    "deletable": false,
    "editable": false,
    "nbgrader": {
     "checksum": "03c8de6f4414e7263ca99f72d655702b",
     "grade": false,
     "grade_id": "cell-12cf363a5b0e121c",
     "locked": true,
     "schema_version": 1,
     "solution": false
    }
   },
   "source": [
    "# Problem 1\n",
    "\n",
    "Write a recursive function called `display` that takes a node `n` (which is the head of a linked list) as input and returns a string of all the values of the nodes of the linked list starting at `n` in reverse order.\n",
    "\n",
    "**note**: do not use a `for` loop or a `while` loop!"
   ]
  },
  {
   "cell_type": "code",
   "execution_count": 6,
   "metadata": {
    "deletable": false,
    "nbgrader": {
     "checksum": "50972ff97add9d0679c158b815266e93",
     "grade": false,
     "grade_id": "cell-f9cc0e7c8f4576a3",
     "locked": false,
     "schema_version": 1,
     "solution": true
    }
   },
   "outputs": [],
   "source": [
    "class node(object):\n",
    "    def __init__(self, val):\n",
    "        self.val = val\n",
    "        self.next = None\n",
    "        \n",
    "def display(n):\n",
    "    result=''\n",
    "    if n.next==None:\n",
    "        return str(n.val)\n",
    "    else:\n",
    "        return display(n.next)+str(n.val)"
   ]
  },
  {
   "cell_type": "code",
   "execution_count": 7,
   "metadata": {
    "deletable": false,
    "editable": false,
    "nbgrader": {
     "checksum": "432f419e49eed9038d0be4abc23cf089",
     "grade": true,
     "grade_id": "cell-764b2aa492773005",
     "locked": true,
     "points": 1,
     "schema_version": 1,
     "solution": false
    }
   },
   "outputs": [],
   "source": [
    "n1 = node(1)\n",
    "n2 = node(2)\n",
    "n3 = node(3)\n",
    "n4 = node(4)\n",
    "n5 = node(5)\n",
    "\n",
    "n1.next = n2\n",
    "n2.next = n3\n",
    "n3.next = n4\n",
    "n4.next = n5\n",
    "\n",
    "assert display(n1) == '54321'\n",
    "assert display(n3) == '543'\n",
    "assert display(n5) == '5'"
   ]
  },
  {
   "cell_type": "markdown",
   "metadata": {
    "deletable": false,
    "editable": false,
    "nbgrader": {
     "checksum": "2a993bfe35750792576d16aae82c371c",
     "grade": false,
     "grade_id": "cell-e50ebc63d971a216",
     "locked": true,
     "schema_version": 1,
     "solution": false
    }
   },
   "source": [
    "# Problem 2\n",
    "\n",
    "Write a function called `count_nodes` that takes a node `n` that represents the root of a binary tree and an integer `level` that represents the level of traversal. This function returns the number of nodes that are at `level`."
   ]
  },
  {
   "cell_type": "code",
   "execution_count": 23,
   "metadata": {
    "deletable": false,
    "nbgrader": {
     "checksum": "59e8c03c6b59b6925f6941bbbfc4e51e",
     "grade": false,
     "grade_id": "cell-77b8dd1a59eda2ee",
     "locked": false,
     "schema_version": 1,
     "solution": true
    }
   },
   "outputs": [],
   "source": [
    "class node(object):\n",
    "    def __init__(self, val, lt=None, rt=None):\n",
    "        self.val = val\n",
    "        self.lt = lt\n",
    "        self.rt = rt\n",
    "\n",
    "def count_nodes(n, level):\n",
    "    pack=[[n]]\n",
    "    for i in range(level+1):\n",
    "        sub_pack=[]\n",
    "        for ch in pack[i]:\n",
    "            if ch.lt:\n",
    "                sub_pack.append(ch.lt)\n",
    "            if ch.rt:\n",
    "                sub_pack.append(ch.rt)\n",
    "        pack.append(sub_pack)\n",
    "    return len(pack[level])"
   ]
  },
  {
   "cell_type": "code",
   "execution_count": 24,
   "metadata": {
    "deletable": false,
    "editable": false,
    "nbgrader": {
     "checksum": "513d926a2fc7052f79924347672339e9",
     "grade": true,
     "grade_id": "cell-209c42fabacb044c",
     "locked": true,
     "points": 1,
     "schema_version": 1,
     "solution": false
    }
   },
   "outputs": [],
   "source": [
    "n1 = node(1)\n",
    "n2 = node(2)\n",
    "n3 = node(3)\n",
    "n4 = node(4)\n",
    "n5 = node(5)\n",
    "n6 = node(6)\n",
    "n7 = node(7)\n",
    "n8 = node(8)\n",
    "n9 = node(9)\n",
    "n10 = node(10)\n",
    "n1.lt = n2\n",
    "n1.rt = n3\n",
    "n2.lt = n4\n",
    "n2.rt = n5\n",
    "n3.lt = n6\n",
    "n3.rt = n7\n",
    "n4.lt = n8\n",
    "n4.rt = n9\n",
    "n8.lt = n10\n",
    "\n",
    "assert count_nodes(n1,0) == 1\n",
    "assert count_nodes(n1,1) == 2\n",
    "assert count_nodes(n1,2) == 4\n",
    "assert count_nodes(n1,3) == 2\n",
    "assert count_nodes(n1,4) == 1"
   ]
  },
  {
   "cell_type": "markdown",
   "metadata": {
    "deletable": false,
    "editable": false,
    "nbgrader": {
     "checksum": "96a29653f88bec91eab46ded9010f20c",
     "grade": false,
     "grade_id": "cell-b7d3b5eac9a20aae",
     "locked": true,
     "schema_version": 1,
     "solution": false
    }
   },
   "source": [
    "# Problem 3\n",
    "\n",
    "Write a function called `delete_dups` that takes a node `n` (that represents the head of the linked list) and removes all the duplicate values in the linked list.\n",
    "\n",
    "**Note**: duplicate values only exist in contiguous groups. That is, no duplicate values will exist separately. You can assume that only valid linked lists will be given as inputs to this function.\n",
    "\n",
    "<pre>\n",
    "[1, 1, 1, 2, 3, 4, 4, 5]  -> valid\n",
    "[1, 1, 2, 1, 3, 3, 4, 4]  -> invalid\n",
    "</pre>"
   ]
  },
  {
   "cell_type": "code",
   "execution_count": 12,
   "metadata": {
    "deletable": false,
    "nbgrader": {
     "checksum": "9e5a8384fb698570dfc87653b4023d6e",
     "grade": false,
     "grade_id": "cell-6beaeece872ef205",
     "locked": false,
     "schema_version": 1,
     "solution": true
    }
   },
   "outputs": [],
   "source": [
    "class node(object):\n",
    "    def __init__(self, val):\n",
    "        self.val = val\n",
    "        self.next = None\n",
    "        \n",
    "def display(n):\n",
    "    result = ''\n",
    "    while n is not None:\n",
    "        result += str(n.val)\n",
    "        n = n.next\n",
    "    return result\n",
    "\n",
    "def delete_dups(n):\n",
    "    preN=n\n",
    "    curN=n.next\n",
    "    while curN!=None:\n",
    "        while curN!=None and preN.val==curN.val:\n",
    "            preN.next=curN.next\n",
    "            curN=curN.next\n",
    "        if curN!=None:\n",
    "            preN=curN\n",
    "            curN=curN.next"
   ]
  },
  {
   "cell_type": "code",
   "execution_count": 13,
   "metadata": {
    "deletable": false,
    "editable": false,
    "nbgrader": {
     "checksum": "bfc41c90e180f7c5ba1f758423b3d9fe",
     "grade": true,
     "grade_id": "cell-bcc453928b6b56b1",
     "locked": true,
     "points": 1,
     "schema_version": 1,
     "solution": false
    }
   },
   "outputs": [],
   "source": [
    "n1 = node(1)\n",
    "n2 = node(1)\n",
    "n3 = node(1)\n",
    "n4 = node(2)\n",
    "n5 = node(2)\n",
    "\n",
    "n1.next = n2\n",
    "n2.next = n3\n",
    "n3.next = n4\n",
    "n4.next = n5\n",
    "\n",
    "assert display(n1) == '11122'\n",
    "delete_dups(n1)\n",
    "assert display(n1) == '12'\n",
    "\n",
    "n6 = node(3)\n",
    "n4.next = n6\n",
    "\n",
    "assert display(n1) == '123'\n",
    "\n",
    "n7 = node(2)\n",
    "n8 = node(2)\n",
    "n9 = node(2)\n",
    "n10 = node(1)\n",
    "\n",
    "n6.next = n7\n",
    "n7.next = n8\n",
    "n8.next = n9\n",
    "n9.next = n10\n",
    "\n",
    "assert display(n1) == '1232221'\n",
    "delete_dups(n1)\n",
    "assert display(n1) == '12321'"
   ]
  },
  {
   "cell_type": "code",
   "execution_count": null,
   "metadata": {},
   "outputs": [],
   "source": []
  }
 ],
 "metadata": {
  "kernelspec": {
   "display_name": "Python 3",
   "language": "python",
   "name": "python3"
  },
  "language_info": {
   "codemirror_mode": {
    "name": "ipython",
    "version": 3
   },
   "file_extension": ".py",
   "mimetype": "text/x-python",
   "name": "python",
   "nbconvert_exporter": "python",
   "pygments_lexer": "ipython3",
   "version": "3.6.5"
  }
 },
 "nbformat": 4,
 "nbformat_minor": 2
}
