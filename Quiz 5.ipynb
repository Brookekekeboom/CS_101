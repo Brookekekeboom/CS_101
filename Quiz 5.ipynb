{
 "cells": [
  {
   "cell_type": "markdown",
   "metadata": {},
   "source": [
    "Before you turn this problem in, make sure everything runs as expected. First, **restart the kernel** (in the menubar, select Kernel$\\rightarrow$Restart) and then **run all cells** (in the menubar, select Cell$\\rightarrow$Run All).\n",
    "\n",
    "Make sure you fill in any place that says `YOUR CODE HERE` or \"YOUR ANSWER HERE\", as well as your name and collaborators below:"
   ]
  },
  {
   "cell_type": "code",
   "execution_count": null,
   "metadata": {},
   "outputs": [],
   "source": [
    "NAME = \"\"\n",
    "COLLABORATORS = \"\""
   ]
  },
  {
   "cell_type": "markdown",
   "metadata": {},
   "source": [
    "---"
   ]
  },
  {
   "cell_type": "markdown",
   "metadata": {
    "deletable": false,
    "editable": false,
    "nbgrader": {
     "checksum": "46e9f881b1898d4c6a290386abd4d36d",
     "grade": false,
     "grade_id": "cell-baa4e9eb2cc0c93f",
     "locked": true,
     "schema_version": 1,
     "solution": false
    }
   },
   "source": [
    "# Quiz 5\n",
    "COMPSCI 101 spring 2019 Session 4, Duke Kunshan University\n",
    "\n",
    "**Mar 20<sup>th</sup> 2019**"
   ]
  },
  {
   "cell_type": "markdown",
   "metadata": {
    "deletable": false,
    "editable": false,
    "nbgrader": {
     "checksum": "a458479f4ab6b69d761bdf7c4830d1bc",
     "grade": false,
     "grade_id": "cell-12cf363a5b0e121c",
     "locked": true,
     "schema_version": 1,
     "solution": false
    }
   },
   "source": [
    "# Problem 1\n",
    "\n",
    "Given a dictionary `D` that has key-value pairs that are of type `str`-`list`, please return a new dictionary that swaps the keys and values so that each value associated with a key is swapped.\n",
    "\n",
    "\n",
    "<pre>\n",
    "D = {'prime': [2, 3, 5, 7], 'composite': [4, 6, 8, 9]}\n",
    "\n",
    "{2: 'prime', 3: 'prime', 4: 'composite', 5: 'prime', 6: 'composite', 7: 'prime', 8: 'composite', 9: 'composite'}\n",
    "</pre>"
   ]
  },
  {
   "cell_type": "code",
   "execution_count": 3,
   "metadata": {
    "deletable": false,
    "nbgrader": {
     "checksum": "104e480c609b47b8ba7afd8c781070eb",
     "grade": false,
     "grade_id": "cell-f9cc0e7c8f4576a3",
     "locked": false,
     "schema_version": 1,
     "solution": true
    }
   },
   "outputs": [],
   "source": [
    "def swap(D):\n",
    "    d={}\n",
    "    for k,v in D.items():\n",
    "        for value in v:\n",
    "            d[value]=k\n",
    "    return d"
   ]
  },
  {
   "cell_type": "code",
   "execution_count": 12,
   "metadata": {
    "deletable": false,
    "editable": false,
    "nbgrader": {
     "checksum": "1063bbfd2c6f343d618b42c65ea0ccdc",
     "grade": true,
     "grade_id": "cell-344a8c6aab6688ff",
     "locked": true,
     "points": 0.5,
     "schema_version": 1,
     "solution": false
    }
   },
   "outputs": [],
   "source": [
    "gender2name = {\n",
    "    'Male': ['Malfurion', 'Rexxar', 'Medivh', 'Uther', 'Anduin', 'Gul`dan'],\n",
    "    'Female': ['Lunara', 'Alleria', 'Jaina', 'Tyrande', 'Valeera', 'Nemsy']\n",
    "}\n",
    "name2gender = swap(gender2name)\n",
    "\n",
    "assert name2gender['Malfurion'] == 'Male'\n",
    "assert name2gender['Alleria'] == 'Female'\n",
    "assert name2gender['Tyrande'] == 'Female'\n",
    "assert name2gender['Gul`dan'] == 'Male'\n",
    "\n",
    "assert sorted(name2gender.items(), key=lambda x: x[0]) == [\n",
    " ('Alleria', 'Female'),\n",
    " ('Anduin', 'Male'),\n",
    " ('Gul`dan', 'Male'),\n",
    " ('Jaina', 'Female'),\n",
    " ('Lunara', 'Female'),\n",
    " ('Malfurion', 'Male'),\n",
    " ('Medivh', 'Male'),\n",
    " ('Nemsy', 'Female'),\n",
    " ('Rexxar', 'Male'),\n",
    " ('Tyrande', 'Female'),\n",
    " ('Uther', 'Male'),\n",
    " ('Valeera', 'Female')]"
   ]
  },
  {
   "cell_type": "code",
   "execution_count": null,
   "metadata": {},
   "outputs": [],
   "source": []
  }
 ],
 "metadata": {
  "kernelspec": {
   "display_name": "Python 3",
   "language": "python",
   "name": "python3"
  },
  "language_info": {
   "codemirror_mode": {
    "name": "ipython",
    "version": 3
   },
   "file_extension": ".py",
   "mimetype": "text/x-python",
   "name": "python",
   "nbconvert_exporter": "python",
   "pygments_lexer": "ipython3",
   "version": "3.6.5"
  }
 },
 "nbformat": 4,
 "nbformat_minor": 2
}
