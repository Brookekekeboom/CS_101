{
 "cells": [
  {
   "cell_type": "markdown",
   "metadata": {},
   "source": [
    "Before you turn this problem in, make sure everything runs as expected. First, **restart the kernel** (in the menubar, select Kernel$\\rightarrow$Restart) and then **run all cells** (in the menubar, select Cell$\\rightarrow$Run All).\n",
    "\n",
    "Make sure you fill in any place that says `YOUR CODE HERE` or \"YOUR ANSWER HERE\", as well as your name and collaborators below:"
   ]
  },
  {
   "cell_type": "code",
   "execution_count": null,
   "metadata": {},
   "outputs": [],
   "source": [
    "NAME = \"Xuchen Gong\"\n",
    "COLLABORATORS = \"\""
   ]
  },
  {
   "cell_type": "markdown",
   "metadata": {},
   "source": [
    "---"
   ]
  },
  {
   "cell_type": "markdown",
   "metadata": {
    "deletable": false,
    "editable": false,
    "nbgrader": {
     "checksum": "7680825fac7bcf7fcac70aada7def520",
     "grade": false,
     "grade_id": "cell-baa4e9eb2cc0c93f",
     "locked": true,
     "schema_version": 1,
     "solution": false
    }
   },
   "source": [
    "# Homework 5\n",
    "COMPSCI 101 spring 2019 Session 4, Duke Kunshan University\n",
    "\n",
    "Due: **March 20<sup>th</sup> 2019, 5 pm**"
   ]
  },
  {
   "cell_type": "markdown",
   "metadata": {
    "deletable": false,
    "editable": false,
    "nbgrader": {
     "checksum": "2b172e50863c384b0b582ea6b1cc8f01",
     "grade": false,
     "grade_id": "cell-12cf363a5b0e121c",
     "locked": true,
     "schema_version": 1,
     "solution": false
    }
   },
   "source": [
    "# Problem 1\n",
    "\n",
    "Given two lists `L1` and `L2`, where each list consists of 2-dimensional coordinates $(x_1, x_2)$, return a merged list sorted in increasing order according to the Euclidean distance between the 2-dimensional coordinate $(x_1, x_2)$ and the origin $(0, 0)$."
   ]
  },
  {
   "cell_type": "code",
   "execution_count": null,
   "metadata": {
    "deletable": false,
    "nbgrader": {
     "checksum": "6c12537d30de5910c8943a2884c439aa",
     "grade": false,
     "grade_id": "cell-46c55fb5434e1162",
     "locked": false,
     "schema_version": 1,
     "solution": true
    }
   },
   "outputs": [],
   "source": [
    "def mergeList(L1, L2):\n",
    "    list=[]\n",
    "    for tuple in L1:\n",
    "        list.append(tuple)\n",
    "    for tuple in L2:\n",
    "        list.append(tuple)\n",
    "    def distance(tuple):\n",
    "        return (tuple[0])**2+(tuple[1])**2\n",
    "    result=sorted(list, key=distance) \n",
    "    return result"
   ]
  },
  {
   "cell_type": "code",
   "execution_count": null,
   "metadata": {
    "deletable": false,
    "editable": false,
    "nbgrader": {
     "checksum": "305e2d573b5717b29ac91a92cd93e546",
     "grade": true,
     "grade_id": "cell-344a8c6aab6688ff",
     "locked": true,
     "points": 1,
     "schema_version": 1,
     "solution": false
    }
   },
   "outputs": [],
   "source": [
    "assert mergeList([(3, 3), (2, 2)], [(6, 6), (0, 0)]) == [(0, 0), (2, 2), (3, 3), (6, 6)]\n",
    "assert mergeList([(5, 1), (2, 3)], [(7, 6), (1, 4)]) == [(2, 3), (1, 4), (5, 1), (7, 6)]\n",
    "assert mergeList([(-3.4, 8.9), (0.8, 3.4)], [(5.5, -2.3), (-6.4, -9.7)]) == [(0.8, 3.4), (5.5, -2.3), (-3.4, 8.9), (-6.4, -9.7)]"
   ]
  },
  {
   "cell_type": "markdown",
   "metadata": {
    "deletable": false,
    "editable": false,
    "nbgrader": {
     "checksum": "97bc86797efd56a8492f1763e3eae5c6",
     "grade": false,
     "grade_id": "cell-c04e0df4416e6644",
     "locked": true,
     "schema_version": 1,
     "solution": false
    }
   },
   "source": [
    "# Problem 2: \n",
    "\n",
    "### Preparation\n",
    "\n",
    "The file CA-GrQc.txt from the Stanford Large Network Dataset Collection is about co-authorship links for articles in the ArXiv category General Relativity. Each number represents an author.\n",
    "\n",
    "### Get each author's coauthors  \n",
    "Enter each author's unique coauthors in a dictionary and return that dictionary. The dictionary should look something like: `{13: [7596, 11196, 19170], 14:[14171], ...}`.\n",
    "\n",
    "#### Hints\n",
    "\n",
    "Notice that the data contains errors. For example, the data shows that author 13 coauthored with himself/herself, which is meaningless. Your code should exclude oneself in one's list of coauthors.\n",
    "\n",
    "#### Note   \n",
    "\n",
    "You need to convert the number from `str` type to `int` type, since reading from a file always works with `str`."
   ]
  },
  {
   "cell_type": "code",
   "execution_count": null,
   "metadata": {
    "deletable": false,
    "nbgrader": {
     "checksum": "f1d13490ddbe64ea9289d121d74a9163",
     "grade": false,
     "grade_id": "cell-6192f39ec893f265",
     "locked": false,
     "schema_version": 1,
     "solution": true
    }
   },
   "outputs": [],
   "source": [
    "def coauthors_dict():\n",
    "    coauthors = dict()\n",
    "\n",
    "    file=open('CA-GrQc.txt','r')\n",
    "    cooperation=[]\n",
    "    authors=[]\n",
    "    for line in file:\n",
    "        if line[0]!='#':\n",
    "            num=line.split()\n",
    "            L=[int(num[0]),int(num[1])]\n",
    "            cooperation.append(L)\n",
    "            authors.append(int(num[0]))\n",
    "            authors.append(int(num[1]))               \n",
    "    unique_authors=list(set(authors))\n",
    "#     for name in authors:\n",
    "#         if name not in unique_authors:\n",
    "#             unique_authors.append(name)\n",
    "    for name in unique_authors:\n",
    "        colist=[]\n",
    "        for couple in cooperation:\n",
    "            if name==couple[0]:\n",
    "                colist.append(couple[1])\n",
    "            #if name==couple[1]:\n",
    "                #colist.append(couple[0])\n",
    "        \n",
    "        coauthors[name]=sorted(colist)\n",
    "        #print(colist)\n",
    "  \n",
    "    return coauthors"
   ]
  },
  {
   "cell_type": "code",
   "execution_count": 11,
   "metadata": {},
   "outputs": [],
   "source": [
    "def coauthors_dict():\n",
    "    coauthors = {}\n",
    "    cooperation=[]\n",
    "    file=open('CA-GrQc.txt','r')\n",
    "    for line in file:\n",
    "        if line[0]!='#':\n",
    "            num=line.split()\n",
    "            A=int(num[0])\n",
    "            B=int(num[1])\n",
    "            L=[A,B]\n",
    "            cooperation.append(L)\n",
    "    for A,B in cooperation:\n",
    "        if A not in coauthors:\n",
    "            coauthors[A]=[B]\n",
    "        else:\n",
    "            coauthors[A].append(B)\n",
    "    return coauthors        "
   ]
  },
  {
   "cell_type": "code",
   "execution_count": null,
   "metadata": {},
   "outputs": [],
   "source": [
    "def coauthors_dict():\n",
    "    a=open('CA-GrQc.txt')\n",
    "    coauthor={}\n",
    "    d=[]\n",
    "    c=[]\n",
    "    for line in a:\n",
    "        if '#' in line:\n",
    "            line=''\n",
    "        lines=line.split()\n",
    "        b=[]\n",
    "        for i in lines:\n",
    "            i=int(i)\n",
    "            b.append(i)\n",
    "        c.append(b)\n",
    "    c=c[4:]\n",
    "    for b in c:\n",
    "        if b[0] not in d:\n",
    "            d.append(b[0])\n",
    "    d=sorted(d)\n",
    "    for i in d:\n",
    "        if i not in coauthor:\n",
    "            coauthor[i]=[]\n",
    "    for b in c:\n",
    "        if b[0] in coauthor:\n",
    "            coauthor[b[0]].append(b[1])\n",
    "    return coauthor"
   ]
  },
  {
   "cell_type": "code",
   "execution_count": 12,
   "metadata": {
    "deletable": false,
    "editable": false,
    "nbgrader": {
     "checksum": "b16a5925388a1b825ed85105035ec662",
     "grade": true,
     "grade_id": "cell-e77cdd3ef25cfb44",
     "locked": true,
     "points": 1,
     "schema_version": 1,
     "solution": false
    }
   },
   "outputs": [],
   "source": [
    "assert coauthors_dict()[14] == [14171]\n",
    "assert len(coauthors_dict()[45]) == 49\n",
    "assert coauthors_dict()[26] == [1407, 4550, 11801, 13096, 13142]\n",
    "assert coauthors_dict()[24] == [3858, 15774, 19517, 23161]"
   ]
  }
 ],
 "metadata": {
  "kernelspec": {
   "display_name": "Python 3",
   "language": "python",
   "name": "python3"
  },
  "language_info": {
   "codemirror_mode": {
    "name": "ipython",
    "version": 3
   },
   "file_extension": ".py",
   "mimetype": "text/x-python",
   "name": "python",
   "nbconvert_exporter": "python",
   "pygments_lexer": "ipython3",
   "version": "3.6.5"
  }
 },
 "nbformat": 4,
 "nbformat_minor": 2
}
