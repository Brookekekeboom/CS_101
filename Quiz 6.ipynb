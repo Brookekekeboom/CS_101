{
 "cells": [
  {
   "cell_type": "markdown",
   "metadata": {},
   "source": [
    "Before you turn this problem in, make sure everything runs as expected. First, **restart the kernel** (in the menubar, select Kernel$\\rightarrow$Restart) and then **run all cells** (in the menubar, select Cell$\\rightarrow$Run All).\n",
    "\n",
    "Make sure you fill in any place that says `YOUR CODE HERE` or \"YOUR ANSWER HERE\", as well as your name and collaborators below:"
   ]
  },
  {
   "cell_type": "code",
   "execution_count": null,
   "metadata": {},
   "outputs": [],
   "source": [
    "NAME = \"\"\n",
    "COLLABORATORS = \"\""
   ]
  },
  {
   "cell_type": "markdown",
   "metadata": {},
   "source": [
    "---"
   ]
  },
  {
   "cell_type": "markdown",
   "metadata": {
    "deletable": false,
    "editable": false,
    "nbgrader": {
     "checksum": "e10b66027e6a52d255d18d3d9eb51028",
     "grade": false,
     "grade_id": "cell-baa4e9eb2cc0c93f",
     "locked": true,
     "schema_version": 1,
     "solution": false
    }
   },
   "source": [
    "# Quiz 6\n",
    "COMPSCI 101 spring 2019 Session 4, Duke Kunshan University\n",
    "\n",
    "**Mar 21<sup>st</sup> 2019**"
   ]
  },
  {
   "cell_type": "markdown",
   "metadata": {
    "deletable": false,
    "editable": false,
    "nbgrader": {
     "checksum": "b869469428397e7e9ed636dcd4344704",
     "grade": false,
     "grade_id": "cell-12cf363a5b0e121c",
     "locked": true,
     "schema_version": 1,
     "solution": false
    }
   },
   "source": [
    "# Problem 1\n",
    "\n",
    "Write a function called `fib_sum` that takes an integer `n` and returns the sum of all the numbers in an `n`-number long Fibonacci sequence by using recursion.\n",
    "\n",
    "The first 6 numbers in the Fibonacci sequence are:\n",
    "\n",
    "<pre>\n",
    "1, 1, 2, 3, 5, 8\n",
    "</pre>\n",
    "\n",
    "The first 6 sums of the Fibonacci sequence are:\n",
    "\n",
    "<pre>\n",
    "1, 2, 4, 7, 12, 20\n",
    "</pre>\n",
    "\n",
    "So:\n",
    "\n",
    "<pre>\n",
    "fib_sum(6) -> 20\n",
    "</pre>\n",
    "\n",
    "**hint**:\n",
    "<pre>\n",
    "fib(n) = fib(n-1) + fib(n-2)\n",
    "</pre>\n",
    "\n",
    "can be rewritten as:\n",
    "\n",
    "<pre>\n",
    "fib(n-2) = fib(n) - fib(n-1)\n",
    "</pre>\n",
    "\n",
    "So:\n",
    "\n",
    "<pre>\n",
    "fib_sum(n-2) = fib(n-2) + fib(n-3) + ... + fib(2) + fib(1)\n",
    "\n",
    "fib(n-2) = fib(n) - fib(n-1)\n",
    "fib(n-3) = fib(n-1) - fib(n-2)\n",
    "...\n",
    "fib(2) = fib(4) - fib(3)\n",
    "fib(1) = fib(3) - fib(2)\n",
    "\n",
    "fib_sum(n-2) = fib(n) - 1\n",
    "</pre>\n",
    "\n",
    "**Note**: You should not use `sum` or `append`"
   ]
  },
  {
   "cell_type": "code",
   "execution_count": null,
   "metadata": {
    "deletable": false,
    "nbgrader": {
     "checksum": "c41f4fd2d8b5cdcd21c20ee91029941f",
     "grade": false,
     "grade_id": "cell-f9cc0e7c8f4576a3",
     "locked": false,
     "schema_version": 1,
     "solution": true
    }
   },
   "outputs": [],
   "source": [
    "# Ju's\n",
    "def fib(n):\n",
    "    if n==0:\n",
    "        return 0\n",
    "    \n",
    "    elif n == 1:\n",
    "        return  1\n",
    "    else:\n",
    "        b = fib(n-1) +fib(n-2)\n",
    "    return b\n",
    "def fib_sum(n):\n",
    "    a=fib(n+2)-1\n",
    "    return a"
   ]
  },
  {
   "cell_type": "code",
   "execution_count": 8,
   "metadata": {},
   "outputs": [],
   "source": [
    "# after Ju's inspiration\n",
    "def fib_sum(n):\n",
    "    def fib(n):\n",
    "        if n==1:\n",
    "            return 1\n",
    "        if n==2:\n",
    "            return 1\n",
    "        else:\n",
    "            return fib(n-1) + fib(n-2)\n",
    "    if n==1:\n",
    "        return 1\n",
    "    if n==2:\n",
    "        return 2\n",
    "    if n>2:\n",
    "        return fib(n+2)-1 "
   ]
  },
  {
   "cell_type": "code",
   "execution_count": 10,
   "metadata": {},
   "outputs": [],
   "source": [
    "# after Daniel's inspiration\n",
    "def fib_sum(n):\n",
    "    if n==1:\n",
    "        return 1\n",
    "    if n==2:\n",
    "        return 2\n",
    "    return fib_sum(n-1)+fib_sum(n-2)+1"
   ]
  },
  {
   "cell_type": "code",
   "execution_count": null,
   "metadata": {},
   "outputs": [],
   "source": [
    "# ColdRain's\n",
    "def fib_rec(n):\n",
    "    if n == 1 or n == 2:\n",
    "        return 1\n",
    "    else:\n",
    "        return fib_rec(n-1) + fib_rec(n-2)\n",
    "def fib_sum(n):\n",
    "    if n==1 or n==2:\n",
    "        return n\n",
    "    else:\n",
    "        return fib_sum(n-1)+fib_rec(n-1)+fib_rec(n-2)"
   ]
  },
  {
   "cell_type": "code",
   "execution_count": 11,
   "metadata": {
    "deletable": false,
    "editable": false,
    "nbgrader": {
     "checksum": "49f48c2801b8259461ec0ab61972fc47",
     "grade": true,
     "grade_id": "cell-344a8c6aab6688ff",
     "locked": true,
     "points": 0.5,
     "schema_version": 1,
     "solution": false
    }
   },
   "outputs": [],
   "source": [
    "assert fib_sum(1)==1\n",
    "assert fib_sum(2)==2\n",
    "assert fib_sum(3)==4\n",
    "assert fib_sum(4)==7\n",
    "assert fib_sum(5)==12\n",
    "assert fib_sum(6)==20\n",
    "assert fib_sum(10)==143"
   ]
  },
  {
   "cell_type": "code",
   "execution_count": null,
   "metadata": {},
   "outputs": [],
   "source": [
    "def fib_sum(n):\n",
    "    if n<=2:\n",
    "        return n\n",
    "    return fib_sum(n-1)+fib_sum(n-2)+1"
   ]
  }
 ],
 "metadata": {
  "kernelspec": {
   "display_name": "Python 3",
   "language": "python",
   "name": "python3"
  },
  "language_info": {
   "codemirror_mode": {
    "name": "ipython",
    "version": 3
   },
   "file_extension": ".py",
   "mimetype": "text/x-python",
   "name": "python",
   "nbconvert_exporter": "python",
   "pygments_lexer": "ipython3",
   "version": "3.6.5"
  }
 },
 "nbformat": 4,
 "nbformat_minor": 2
}
