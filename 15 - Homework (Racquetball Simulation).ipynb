{
 "cells": [
  {
   "cell_type": "markdown",
   "metadata": {},
   "source": [
    "Before you turn this problem in, make sure everything runs as expected. First, **restart the kernel** (in the menubar, select Kernel$\\rightarrow$Restart) and then **run all cells** (in the menubar, select Cell$\\rightarrow$Run All).\n",
    "\n",
    "Make sure you fill in any place that says `YOUR CODE HERE` or \"YOUR ANSWER HERE\", as well as your name and collaborators below:"
   ]
  },
  {
   "cell_type": "code",
   "execution_count": null,
   "metadata": {},
   "outputs": [],
   "source": [
    "NAME = \"\"\n",
    "COLLABORATORS = \"\""
   ]
  },
  {
   "cell_type": "markdown",
   "metadata": {},
   "source": [
    "---"
   ]
  },
  {
   "cell_type": "markdown",
   "metadata": {
    "deletable": false,
    "editable": false,
    "nbgrader": {
     "checksum": "b2db53a0e9599f052dbeaa1b0a048297",
     "grade": false,
     "grade_id": "cell-baa4e9eb2cc0c93f",
     "locked": true,
     "schema_version": 1,
     "solution": false
    }
   },
   "source": [
    "# Homework 15\n",
    "COMPSCI 101 spring 2019 Session 4, Duke Kunshan University\n",
    "\n",
    "Due: **April 9<sup>th</sup> 2019, 5 pm**"
   ]
  },
  {
   "cell_type": "markdown",
   "metadata": {
    "deletable": false,
    "editable": false,
    "nbgrader": {
     "checksum": "dd9db73bf9ed493b32c19135bd5670fe",
     "grade": false,
     "grade_id": "cell-12cf363a5b0e121c",
     "locked": true,
     "schema_version": 1,
     "solution": false
    }
   },
   "source": [
    "# Racquetball Simulation\n",
    "\n",
    "The goal is to simulate multiple games of racquetball where the ability of the two opponents is represented by the probability that they win a point when they are serving. The inputs to the simulation are the probability for player A, the probability for player B, and the number of games to simulate. The output is a nicely formatted summary of the results.\n",
    "\n",
    "We end a game when one of the players reaches a total of 15 points. We will also consider shutouts. If one player gets to 7 before the other player has scored a point, the game ends. Our simulation should keep track of both the number of wins for each player and the number of wins that are shutouts.\n",
    "\n",
    "Please fill in the missing parts of the following code and run the result. An example execution would be similar to this:\n",
    "\n",
    "<pre>\n",
    "Prob A is 0.6, Prob B is 0.5\n",
    "Summary of 500  games:\n",
    "\n",
    "            wins (% total )      shutouts (% wins ) \n",
    "--------------------------------------------\n",
    " Player A:  319 (63.8%)          42 (13.2%)\n",
    " Player B:  181 (36.2%)           8 (4.4%)\n",
    "</pre>"
   ]
  },
  {
   "cell_type": "markdown",
   "metadata": {
    "deletable": false,
    "editable": false,
    "nbgrader": {
     "checksum": "13cd3f8068e28382dfcc348568cfd596",
     "grade": false,
     "grade_id": "cell-3d6ef25eb3610afa",
     "locked": true,
     "schema_version": 1,
     "solution": false
    }
   },
   "source": [
    "# Problem 1\n",
    "\n",
    "Implement the class `Player` that will be used to represent a racquetball player. This class should keep track of the player's probability of winning when serving (`prob`) and the player's current score (`score`)."
   ]
  },
  {
   "cell_type": "code",
   "execution_count": 79,
   "metadata": {
    "deletable": false,
    "nbgrader": {
     "checksum": "e35eaf30d7a76bab2a1e48c7f22366d9",
     "grade": false,
     "grade_id": "cell-46c55fb5434e1162",
     "locked": false,
     "schema_version": 1,
     "solution": true
    }
   },
   "outputs": [],
   "source": [
    "import random\n",
    "\n",
    "class Player :\n",
    "# A Player keeps track of service probability and score\n",
    "    def __init__(self, prob):\n",
    "    # Create a player with this probability\n",
    "        self.prob=prob\n",
    "        self.score=0\n",
    "    def winsServe(self):\n",
    "    # Returns a Boolean that is true with probability self.prob\n",
    "        compete=random.randint(1,100)\n",
    "        if 1<=compete<=100*self.prob:\n",
    "            return True\n",
    "        if 100*self.prob<compete<=100:\n",
    "            return False\n",
    "\n",
    "    def incScore(self):\n",
    "    # Add a point to this player's score\n",
    "        self.score=self.score+1\n",
    "        \n",
    "    def getScore(self):\n",
    "    # Returns this player's current score\n",
    "        return self.score"
   ]
  },
  {
   "cell_type": "code",
   "execution_count": 80,
   "metadata": {
    "deletable": false,
    "editable": false,
    "nbgrader": {
     "checksum": "6b946c89f864e687e272de176fd8d11d",
     "grade": true,
     "grade_id": "cell-b1b12dbb4976108d",
     "locked": true,
     "points": 0.5,
     "schema_version": 1,
     "solution": false
    }
   },
   "outputs": [],
   "source": [
    "ming = Player(0.51)\n",
    "daniel = Player(0.49)\n",
    "while ming.getScore() < 15 and daniel.getScore() < 15:\n",
    "    if ming.winsServe():\n",
    "        ming.incScore()\n",
    "    else:\n",
    "        daniel.incScore()\n",
    "assert ming.prob == 0.51\n",
    "assert daniel.prob == 0.49\n",
    "assert max(ming.getScore(),daniel.getScore()) == 15"
   ]
  },
  {
   "cell_type": "markdown",
   "metadata": {
    "deletable": false,
    "editable": false,
    "nbgrader": {
     "checksum": "bf859ba7ea6b39fdc3ec4d4214c98e6e",
     "grade": false,
     "grade_id": "cell-dfd271f868973ff9",
     "locked": true,
     "schema_version": 1,
     "solution": false
    }
   },
   "source": [
    "# Problem 2\n",
    "\n",
    "Implement the class `RBallGame` that will be used to represent a racquetball game. This class should keep track of two players (`playerA` and `playerB`) along with the the player who is **currently** the server (`server`)."
   ]
  },
  {
   "cell_type": "code",
   "execution_count": 82,
   "metadata": {
    "deletable": false,
    "nbgrader": {
     "checksum": "16f32e8a7dc8fc15192366f539233a55",
     "grade": false,
     "grade_id": "cell-26254032e02425bf",
     "locked": false,
     "schema_version": 1,
     "solution": true
    }
   },
   "outputs": [],
   "source": [
    "class RBallGame:\n",
    "# A RBallGame represents a game in progress. A game has two players\n",
    "# and keeps track of which one is currently serving.\n",
    "    def __init__(self, probA, probB):\n",
    "    # Create a new game having players with the given probs.\n",
    "    # Player A always serves first\n",
    "        self.player_A=Player(probA)\n",
    "        self.player_B=Player(probB)\n",
    "        self.server=self.player_A \n",
    "        \n",
    "    def play(self):\n",
    "    # Play the game to completion\n",
    "        if self.__isOver()==False:                                                                              \n",
    "            if self.server.winsServe()==True:\n",
    "                self.server.incScore()\n",
    "            else:\n",
    "                self.changeServer()\n",
    "            return self.play()\n",
    "\n",
    "    def __isOver(self):\n",
    "    # Returns game is finished ( i.e. one of the players has won).\n",
    "        if (self.player_A.getScore()==7 and self.player_B.getScore()==0) or (self.player_B.getScore()==7 and self.player_A.getScore()==0) or (self.player_A.getScore()==15) or (self.player_B.getScore()==15):\n",
    "            return True\n",
    "        else:\n",
    "            return False\n",
    "    \n",
    "    def changeServer(self):\n",
    "    # Switch which player is serving\n",
    "        if self.server==self.player_A:\n",
    "            self.server=self.player_B\n",
    "        else:\n",
    "            self.server=self.player_A\n",
    "            \n",
    "    def getScores(self):\n",
    "    # Returns the current scores of player A and player B\n",
    "        return self.player_A.getScore(),self.player_B.getScore()"
   ]
  },
  {
   "cell_type": "code",
   "execution_count": 83,
   "metadata": {
    "deletable": false,
    "editable": false,
    "nbgrader": {
     "checksum": "e212849897ece3c8f7402872b359328d",
     "grade": true,
     "grade_id": "cell-68689597d1269994",
     "locked": true,
     "points": 1,
     "schema_version": 1,
     "solution": false
    }
   },
   "outputs": [],
   "source": [
    "game = RBallGame(0.51, 0.49)\n",
    "game.play()\n",
    "assert max(game.getScores()) in [7,15]\n",
    "game.changeServer()\n",
    "game.play()\n",
    "assert max(game.getScores()) in [7,15]"
   ]
  },
  {
   "cell_type": "markdown",
   "metadata": {
    "deletable": false,
    "editable": false,
    "nbgrader": {
     "checksum": "7401795311723dabbd5d18d880aedb6a",
     "grade": false,
     "grade_id": "cell-ae09c8bf029aa68d",
     "locked": true,
     "schema_version": 1,
     "solution": false
    }
   },
   "source": [
    "# Problem 3\n",
    "\n",
    "Implement the class `SimStats` that will be used to represent the results of a series of racquetball games between two players of certain service win probabilities. This class should keep track of the number of wins and shutouts each player has."
   ]
  },
  {
   "cell_type": "code",
   "execution_count": 84,
   "metadata": {
    "deletable": false,
    "nbgrader": {
     "checksum": "bbd666b60e3dc0b1d4d4c355a51ea411",
     "grade": false,
     "grade_id": "cell-cc09a13313390cc2",
     "locked": false,
     "schema_version": 1,
     "solution": true
    }
   },
   "outputs": [],
   "source": [
    "class SimStats:\n",
    "# SimStats handles the accumulation of statistics across multiple\n",
    "# (completed) games. It tracks the wins and shutouts for each\n",
    "# player.\n",
    "    def __init__(self):\n",
    "        # Create a new accumulator for a series of games\n",
    "        self.winsA=0\n",
    "        self.winsB=0\n",
    "        self.shutsA=0\n",
    "        self.shutsB=0\n",
    "        \n",
    "    def update(self, aGame):\n",
    "        # Determine the outcome of a Game and update statistics\n",
    "        if aGame.getScores()[0]==15:\n",
    "            self.winsA+=1\n",
    "        if aGame.getScores()[1]==15:\n",
    "            self.winsB+=1\n",
    "        if aGame.getScores()[0]==7 and aGame.getScores()[1]==0:\n",
    "            self.shutsA+=1\n",
    "            self.winsA+=1\n",
    "        if aGame.getScores()[0]==0 and aGame.getScores()[1]==7:\n",
    "            self.shutsB+=1\n",
    "            self.winsB+=1\n",
    "            \n",
    "    def printReport(self):\n",
    "    # Print a nicely formatted report\n",
    "        n = self.winsA + self.winsB\n",
    "        \n",
    "        print(\" Summary of\" , n , \" games : \\n\")\n",
    "        print(\"            wins (% total )      shutouts (% wins ) \")\n",
    "        print(\"--------------------------------------------\")\n",
    "        self.__printLine (\"A\" , self.winsA , self.shutsA , n)\n",
    "        self.__printLine (\"B\" , self.winsB , self.shutsB , n)\n",
    "\n",
    "    def __printLine(self , label , wins , shuts , n):\n",
    "        template = \" Player {0}:{1:5} ({2:5.1%}) {3:11} ({4})\"\n",
    "        if wins == 0: # Avoid division by zero!\n",
    "            shutStr = \"-----\"\n",
    "        else:\n",
    "            shutStr = \"{0:4.1%}\".format(float(shuts)/wins)\n",
    "        print (template.format(label , wins , float (wins)/n , shuts , shutStr) )"
   ]
  },
  {
   "cell_type": "code",
   "execution_count": 85,
   "metadata": {
    "deletable": false,
    "editable": false,
    "nbgrader": {
     "checksum": "d093cdaaeaf038afb041dd2699e3cf17",
     "grade": true,
     "grade_id": "cell-e031a3cd64785fc0",
     "locked": true,
     "points": 0.5,
     "schema_version": 1,
     "solution": false
    }
   },
   "outputs": [
    {
     "name": "stdout",
     "output_type": "stream",
     "text": [
      "This program simulates games of racquetball between two\n",
      "players called \"A\" and \"B\". The ability of each player is\n",
      "indicated by a probability (a number between 0 and 1) that\n",
      "the player wins the point when serving. Player A always\n",
      "has the first serve at the beginning of each game.\n",
      "\n",
      "ProbA is 0.51, ProbB is 0.49\n",
      " Summary of 500  games : \n",
      "\n",
      "            wins (% total )      shutouts (% wins ) \n",
      "--------------------------------------------\n",
      " Player A:  281 (56.2%)          32 (11.4%)\n",
      " Player B:  219 (43.8%)           6 (2.7%)\n"
     ]
    }
   ],
   "source": [
    "def printintro():\n",
    "    print(\"This program simulates games of racquetball between two\")\n",
    "    print('players called \"A\" and \"B\". The ability of each player is')\n",
    "    print(\"indicated by a probability (a number between 0 and 1) that\")\n",
    "    print(\"the player wins the point when serving. Player A always\")\n",
    "    print(\"has the first serve at the beginning of each game.\\n\")\n",
    "    \n",
    "def main():\n",
    "    printintro()\n",
    "    probA = 0.51 # the prob player A wins a serve\n",
    "    probB = 0.49 # the prob player B wins a serve\n",
    "    n = 500 # How many games to simulate?\n",
    "\n",
    "    # Play the games\n",
    "    print (\"ProbA is {}, ProbB is {}\".format(probA, probB))\n",
    "    stats = SimStats()\n",
    "    for i in range(n):\n",
    "        theGame = RBallGame(probA, probB)\n",
    "        theGame.play()\n",
    "        stats.update(theGame)\n",
    "    # Print the results\n",
    "    stats.printReport()\n",
    "\n",
    "main()"
   ]
  },
  {
   "cell_type": "code",
   "execution_count": null,
   "metadata": {},
   "outputs": [],
   "source": []
  }
 ],
 "metadata": {
  "kernelspec": {
   "display_name": "Python 3",
   "language": "python",
   "name": "python3"
  },
  "language_info": {
   "codemirror_mode": {
    "name": "ipython",
    "version": 3
   },
   "file_extension": ".py",
   "mimetype": "text/x-python",
   "name": "python",
   "nbconvert_exporter": "python",
   "pygments_lexer": "ipython3",
   "version": "3.6.5"
  }
 },
 "nbformat": 4,
 "nbformat_minor": 2
}
